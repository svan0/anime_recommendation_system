{
 "cells": [
  {
   "cell_type": "code",
   "execution_count": null,
   "id": "3e64efc9",
   "metadata": {},
   "outputs": [],
   "source": [
    "! pip uninstall --yes tensorflow\n",
    "! pip uninstall --yes tensorflow-io\n",
    "! pip install tensorflow\n",
    "! pip install --no-deps tensorflow-io"
   ]
  },
  {
   "cell_type": "code",
   "execution_count": 1,
   "id": "a7ed0a03",
   "metadata": {},
   "outputs": [],
   "source": [
    "from google.cloud import bigquery"
   ]
  },
  {
   "cell_type": "code",
   "execution_count": 2,
   "id": "d7f9ffec",
   "metadata": {},
   "outputs": [],
   "source": [
    "import tensorflow as tf\n",
    "import tensorflow_hub as hub\n",
    "import tensorflow_text as text\n",
    "import numpy as np \n",
    "import cv2\n",
    "from urllib.request import urlopen"
   ]
  },
  {
   "cell_type": "code",
   "execution_count": 3,
   "id": "eda1162d",
   "metadata": {},
   "outputs": [],
   "source": [
    "from tensorflow.keras.applications.mobilenet_v2 import MobileNetV2, preprocess_input"
   ]
  },
  {
   "cell_type": "code",
   "execution_count": 98,
   "id": "81c625f7",
   "metadata": {},
   "outputs": [],
   "source": [
    "def get_anime_data():\n",
    "    query = \"\"\"\n",
    "        SELECT anime_id, title, synopsis, main_pic, type, source_type, studios, genres\n",
    "        FROM prod_area_us.anime\n",
    "    \"\"\"\n",
    "    client = bigquery.Client(project=\"anime-rec-dev\")\n",
    "    dataset_ref = client.dataset(\"prod_area_us\")\n",
    "    job_config = bigquery.QueryJobConfig()\n",
    "    query_job = client.query(query, job_config=job_config)\n",
    "    result = query_job.to_dataframe()\n",
    "    return result"
   ]
  },
  {
   "cell_type": "code",
   "execution_count": 110,
   "id": "2c336f30",
   "metadata": {},
   "outputs": [],
   "source": [
    "def download_image(img_url):\n",
    "    for i in range(10):\n",
    "        try:\n",
    "            with urlopen(img_url) as request:\n",
    "                img_array = np.asarray(bytearray(request.read()), dtype=np.uint8)\n",
    "            img = cv2.imdecode(img_array, cv2.IMREAD_COLOR)\n",
    "            img = cv2.cvtColor(img, cv2.COLOR_BGR2RGB)\n",
    "            img = cv2.resize(img, (WIDTH, HEIGHT), interpolation = cv2.INTER_AREA)\n",
    "            return img\n",
    "        except Exception as e:\n",
    "            print(e)\n",
    "            continue\n",
    "    raise Exception(\"Could not download image\")"
   ]
  },
  {
   "cell_type": "code",
   "execution_count": 99,
   "id": "2ef20fe4",
   "metadata": {},
   "outputs": [],
   "source": [
    "anime_data = get_anime_data()"
   ]
  },
  {
   "cell_type": "code",
   "execution_count": 100,
   "id": "abe58eaf",
   "metadata": {},
   "outputs": [
    {
     "data": {
      "text/plain": [
       "(3937, 8)"
      ]
     },
     "execution_count": 100,
     "metadata": {},
     "output_type": "execute_result"
    }
   ],
   "source": [
    "anime_data.shape"
   ]
  },
  {
   "cell_type": "code",
   "execution_count": 101,
   "id": "f9243c0d",
   "metadata": {},
   "outputs": [
    {
     "data": {
      "text/html": [
       "<div>\n",
       "<style scoped>\n",
       "    .dataframe tbody tr th:only-of-type {\n",
       "        vertical-align: middle;\n",
       "    }\n",
       "\n",
       "    .dataframe tbody tr th {\n",
       "        vertical-align: top;\n",
       "    }\n",
       "\n",
       "    .dataframe thead th {\n",
       "        text-align: right;\n",
       "    }\n",
       "</style>\n",
       "<table border=\"1\" class=\"dataframe\">\n",
       "  <thead>\n",
       "    <tr style=\"text-align: right;\">\n",
       "      <th></th>\n",
       "      <th>anime_id</th>\n",
       "      <th>title</th>\n",
       "      <th>synopsis</th>\n",
       "      <th>main_pic</th>\n",
       "      <th>type</th>\n",
       "      <th>source_type</th>\n",
       "      <th>studios</th>\n",
       "      <th>genres</th>\n",
       "    </tr>\n",
       "  </thead>\n",
       "  <tbody>\n",
       "    <tr>\n",
       "      <th>0</th>\n",
       "      <td>37268</td>\n",
       "      <td>Z/X: Code Reunion</td>\n",
       "      <td>The signing of a peace treaty has secured a te...</td>\n",
       "      <td>https://cdn.myanimelist.net/images/anime/1271/...</td>\n",
       "      <td>TV</td>\n",
       "      <td>Card game</td>\n",
       "      <td>[Passione]</td>\n",
       "      <td>[Fantasy, Sci-Fi, School, Shounen]</td>\n",
       "    </tr>\n",
       "    <tr>\n",
       "      <th>1</th>\n",
       "      <td>37739</td>\n",
       "      <td>Future Card Shin Buddyfight</td>\n",
       "      <td>Set 23 years after the end of the original Fut...</td>\n",
       "      <td>https://cdn.myanimelist.net/images/anime/1367/...</td>\n",
       "      <td>TV</td>\n",
       "      <td>Card game</td>\n",
       "      <td>[Xebec, OLM]</td>\n",
       "      <td>[Game]</td>\n",
       "    </tr>\n",
       "    <tr>\n",
       "      <th>2</th>\n",
       "      <td>19067</td>\n",
       "      <td>Future Card Buddyfight</td>\n",
       "      <td>An adaptation of the Future Card Buddyfight ca...</td>\n",
       "      <td>https://cdn.myanimelist.net/images/anime/9/787...</td>\n",
       "      <td>TV</td>\n",
       "      <td>Card game</td>\n",
       "      <td>[Xebec, OLM]</td>\n",
       "      <td>[Game]</td>\n",
       "    </tr>\n",
       "    <tr>\n",
       "      <th>3</th>\n",
       "      <td>43735</td>\n",
       "      <td>Cue!</td>\n",
       "      <td>No synopsis information has been added to this...</td>\n",
       "      <td>https://cdn.myanimelist.net/images/anime/1516/...</td>\n",
       "      <td>TV</td>\n",
       "      <td>Game</td>\n",
       "      <td>[Yumeta Company, Graphinica]</td>\n",
       "      <td>[Music]</td>\n",
       "    </tr>\n",
       "    <tr>\n",
       "      <th>4</th>\n",
       "      <td>46654</td>\n",
       "      <td>IDOLiSH7 3rd Season Part 2</td>\n",
       "      <td>Second cour of the third season of .</td>\n",
       "      <td>https://cdn.myanimelist.net/images/anime/1166/...</td>\n",
       "      <td>TV</td>\n",
       "      <td>Game</td>\n",
       "      <td>[TROYCA]</td>\n",
       "      <td>[Music]</td>\n",
       "    </tr>\n",
       "  </tbody>\n",
       "</table>\n",
       "</div>"
      ],
      "text/plain": [
       "  anime_id                        title  \\\n",
       "0    37268            Z/X: Code Reunion   \n",
       "1    37739  Future Card Shin Buddyfight   \n",
       "2    19067       Future Card Buddyfight   \n",
       "3    43735                         Cue!   \n",
       "4    46654   IDOLiSH7 3rd Season Part 2   \n",
       "\n",
       "                                            synopsis  \\\n",
       "0  The signing of a peace treaty has secured a te...   \n",
       "1  Set 23 years after the end of the original Fut...   \n",
       "2  An adaptation of the Future Card Buddyfight ca...   \n",
       "3  No synopsis information has been added to this...   \n",
       "4               Second cour of the third season of .   \n",
       "\n",
       "                                            main_pic type source_type  \\\n",
       "0  https://cdn.myanimelist.net/images/anime/1271/...   TV   Card game   \n",
       "1  https://cdn.myanimelist.net/images/anime/1367/...   TV   Card game   \n",
       "2  https://cdn.myanimelist.net/images/anime/9/787...   TV   Card game   \n",
       "3  https://cdn.myanimelist.net/images/anime/1516/...   TV        Game   \n",
       "4  https://cdn.myanimelist.net/images/anime/1166/...   TV        Game   \n",
       "\n",
       "                        studios                              genres  \n",
       "0                    [Passione]  [Fantasy, Sci-Fi, School, Shounen]  \n",
       "1                  [Xebec, OLM]                              [Game]  \n",
       "2                  [Xebec, OLM]                              [Game]  \n",
       "3  [Yumeta Company, Graphinica]                             [Music]  \n",
       "4                      [TROYCA]                             [Music]  "
      ]
     },
     "execution_count": 101,
     "metadata": {},
     "output_type": "execute_result"
    }
   ],
   "source": [
    "anime_data.head()"
   ]
  },
  {
   "cell_type": "code",
   "execution_count": 102,
   "id": "3a8691c1",
   "metadata": {},
   "outputs": [],
   "source": [
    "HEIGHT = 192\n",
    "WIDTH = 128\n",
    "NUM_ANIMES = anime_data.shape[0]"
   ]
  },
  {
   "cell_type": "code",
   "execution_count": 10,
   "id": "beea9737",
   "metadata": {},
   "outputs": [
    {
     "name": "stdout",
     "output_type": "stream",
     "text": [
      "WARNING:tensorflow:`input_shape` is undefined or non-square, or `rows` is not in [96, 128, 160, 192, 224]. Weights for input shape (224, 224) will be loaded as the default.\n",
      "Downloaded Image embeddinng model\n",
      "Downloaded Title embeddinng model\n",
      "Downloaded Synopsis embeddinng model\n"
     ]
    }
   ],
   "source": [
    "IMG_EMB_PREPROCESS = preprocess_input\n",
    "IMG_EMB_MODEL = MobileNetV2(weights='imagenet', include_top=False, pooling = 'max')\n",
    "print(\"Downloaded Image embeddinng model\")\n",
    "\n",
    "\n",
    "TITLE_EMB_PREPROCESS = hub.KerasLayer(\"https://tfhub.dev/tensorflow/bert_en_uncased_preprocess/3\")\n",
    "TITLE_EMB_MODEL = hub.KerasLayer(\"https://tfhub.dev/tensorflow/small_bert/bert_en_uncased_L-2_H-128_A-2/2\", \n",
    "                                 trainable=False)\n",
    "print(\"Downloaded Title embeddinng model\")\n",
    "\n",
    "SYNOPSIS_EMB_PREPROCESS = hub.KerasLayer(\"https://tfhub.dev/tensorflow/bert_en_uncased_preprocess/3\")\n",
    "SYNOPSIS_EMB_MODEL = hub.KerasLayer(\"https://tfhub.dev/tensorflow/small_bert/bert_en_uncased_L-2_H-128_A-2/2\", \n",
    "                                    trainable=False)\n",
    "print(\"Downloaded Synopsis embeddinng model\")"
   ]
  },
  {
   "cell_type": "markdown",
   "id": "6daa4143",
   "metadata": {},
   "source": [
    "# anime_id to integer lookup"
   ]
  },
  {
   "cell_type": "code",
   "execution_count": 103,
   "id": "44099252",
   "metadata": {},
   "outputs": [],
   "source": [
    "anime_ids = anime_data['anime_id'].unique()\n",
    "anime_id_lookup = tf.keras.layers.StringLookup()\n",
    "anime_id_lookup.adapt(anime_ids)\n",
    "anime_emb_order = tf.concat([[0], anime_id_lookup(anime_ids)], axis = 0)"
   ]
  },
  {
   "cell_type": "markdown",
   "id": "2c62245b",
   "metadata": {},
   "source": [
    "# anime image embedding layer"
   ]
  },
  {
   "cell_type": "code",
   "execution_count": 111,
   "id": "19e391f9",
   "metadata": {},
   "outputs": [],
   "source": [
    "import time"
   ]
  },
  {
   "cell_type": "code",
   "execution_count": null,
   "id": "280c092c",
   "metadata": {},
   "outputs": [
    {
     "name": "stdout",
     "output_type": "stream",
     "text": [
      "<urlopen error [Errno 54] Connection reset by peer>\n",
      "<urlopen error [Errno 54] Connection reset by peer>\n",
      "[Errno 54] Connection reset by peer\n"
     ]
    }
   ],
   "source": [
    "t0 = time.time()\n",
    "anime_images = anime_data['main_pic'].apply(download_image)\n",
    "anime_images = tf.stack(anime_images)\n",
    "anime_images = tf.cast(anime_images, dtype = tf.float32)\n",
    "anime_image_preprocess = IMG_EMB_PREPROCESS(anime_images)\n",
    "anime_image_embeddings = IMG_EMB_MODEL(anime_image_preprocess)\n",
    "anime_image_embeddings = tf.concat([tf.zeros((1, 1280)), anime_image_embeddings], axis = 0)\n",
    "anime_image_embeddings = tf.gather(anime_image_embeddings, indices = anime_emb_order)\n",
    "image_embedding_layer = tf.keras.layers.Embedding(\n",
    "    NUM_ANIMES + 1,\n",
    "    1280,\n",
    "    weights=[anime_image_embeddings],\n",
    "    trainable=True\n",
    ")\n",
    "print(time.time() - t0)"
   ]
  },
  {
   "cell_type": "code",
   "execution_count": 109,
   "id": "0b17fa95",
   "metadata": {},
   "outputs": [
    {
     "data": {
      "text/plain": [
       "3000    None\n",
       "3653    None\n",
       "Name: main_pic, dtype: object"
      ]
     },
     "execution_count": 109,
     "metadata": {},
     "output_type": "execute_result"
    }
   ],
   "source": [
    "anime_images[anime_images.isnull()]"
   ]
  },
  {
   "cell_type": "markdown",
   "id": "ec06769c",
   "metadata": {},
   "source": [
    "# anime title embedding layer"
   ]
  },
  {
   "cell_type": "code",
   "execution_count": 13,
   "id": "01115a47",
   "metadata": {},
   "outputs": [],
   "source": [
    "anime_title = anime_data['title']\n",
    "anime_title_process = TITLE_EMB_PREPROCESS(anime_title)\n",
    "anime_title_embeddings = TITLE_EMB_MODEL(anime_title_process)\n",
    "anime_title_embeddings = anime_title_embeddings[\"pooled_output\"]\n",
    "anime_title_embeddings = tf.concat([tf.zeros((1, 128)), anime_title_embeddings], axis = 0)\n",
    "anime_title_embeddings = tf.gather(anime_title_embeddings, indices = anime_emb_order)\n",
    "title_embedding_layer = tf.keras.layers.Embedding(\n",
    "    NUM_ANIMES + 1,\n",
    "    128,\n",
    "    weights=[anime_title_embeddings],\n",
    "    trainable=True\n",
    ")"
   ]
  },
  {
   "cell_type": "markdown",
   "id": "4d793070",
   "metadata": {},
   "source": [
    "# anime synposis embedding layer"
   ]
  },
  {
   "cell_type": "code",
   "execution_count": 14,
   "id": "337bbaa7",
   "metadata": {},
   "outputs": [],
   "source": [
    "anime_synopsis = anime_data['synopsis']\n",
    "anime_synopsis_process = SYNOPSIS_EMB_PREPROCESS(anime_synopsis)\n",
    "anime_synopsis_embeddings = SYNOPSIS_EMB_MODEL(anime_synopsis_process)\n",
    "anime_synopsis_embeddings = anime_synopsis_embeddings[\"pooled_output\"]\n",
    "anime_synopsis_embeddings = tf.concat([tf.zeros((1, 128)), anime_synopsis_embeddings], axis = 0)\n",
    "anime_synopsis_embeddings = tf.gather(anime_synopsis_embeddings, indices = anime_emb_order)\n",
    "synopsis_embedding_layer = tf.keras.layers.Embedding(\n",
    "    NUM_ANIMES + 1,\n",
    "    128,\n",
    "    weights=[anime_synopsis_embeddings],\n",
    "    trainable=True\n",
    ")"
   ]
  },
  {
   "cell_type": "markdown",
   "id": "9cfda3f5",
   "metadata": {},
   "source": [
    "# anime type one-hot-encoder"
   ]
  },
  {
   "cell_type": "code",
   "execution_count": 26,
   "id": "49705538",
   "metadata": {},
   "outputs": [],
   "source": [
    "anime_type_one_hot_layer = tf.keras.layers.StringLookup(output_mode = \"one_hot\")\n",
    "anime_type_one_hot_layer.adapt(anime_data[\"type\"])\n",
    "anime_type_one_hot_encodings = anime_type_one_hot_layer(list(anime_data[\"type\"]))\n",
    "NUM_TYPE_ONE_HOT_DIMS = anime_type_one_hot_encodings.shape[1]\n",
    "anime_type_one_hot_encodings = tf.concat([tf.zeros((1, NUM_TYPE_ONE_HOT_DIMS)), anime_type_one_hot_encodings], axis = 0)\n",
    "anime_type_one_hot_encodings = tf.gather(anime_type_one_hot_encodings, indices = anime_emb_order)\n",
    "type_one_hot_layer = tf.keras.layers.Embedding(\n",
    "    NUM_ANIMES + 1,\n",
    "    NUM_TYPE_ONE_HOT_DIMS,\n",
    "    weights=[anime_type_one_hot_encodings],\n",
    "    trainable=True\n",
    ")"
   ]
  },
  {
   "cell_type": "markdown",
   "id": "f3906ce0",
   "metadata": {},
   "source": [
    "# anime source type one-hot-encoder"
   ]
  },
  {
   "cell_type": "code",
   "execution_count": 27,
   "id": "8275545e",
   "metadata": {},
   "outputs": [],
   "source": [
    "anime_source_type_one_hot_layer = tf.keras.layers.StringLookup(output_mode = \"one_hot\")\n",
    "anime_source_type_one_hot_layer.adapt(anime_data[\"source_type\"])\n",
    "anime_source_type_one_hot_encodings = anime_source_type_one_hot_layer(list(anime_data[\"source_type\"]))\n",
    "NUM_SOURCE_TYPE_ONE_HOT_DIMS = anime_source_type_one_hot_encodings.shape[1]\n",
    "anime_source_type_one_hot_encodings = tf.concat([tf.zeros((1, NUM_SOURCE_TYPE_ONE_HOT_DIMS)), anime_source_type_one_hot_encodings], axis = 0)\n",
    "anime_source_type_one_hot_encodings = tf.gather(anime_source_type_one_hot_encodings, indices = anime_emb_order)\n",
    "source_type_one_hot_layer = tf.keras.layers.Embedding(\n",
    "    NUM_ANIMES + 1,\n",
    "    NUM_SOURCE_TYPE_ONE_HOT_DIMS,\n",
    "    weights=[anime_source_type_one_hot_encodings],\n",
    "    trainable=True\n",
    ")"
   ]
  },
  {
   "cell_type": "markdown",
   "id": "98a7ff70",
   "metadata": {},
   "source": [
    "# anime studios multi-hot-encoder"
   ]
  },
  {
   "cell_type": "code",
   "execution_count": 28,
   "id": "af8fe14a",
   "metadata": {},
   "outputs": [],
   "source": [
    "def pad_list(list_entities, max_len):\n",
    "    list_entities = list_entities[:max_len]\n",
    "    num_add = max_len - list_entities.shape[0]\n",
    "    return np.concatenate([list_entities , num_add * [\"[UNK]\"]])"
   ]
  },
  {
   "cell_type": "code",
   "execution_count": 42,
   "id": "5be30446",
   "metadata": {},
   "outputs": [],
   "source": [
    "anime_studios_multi_hot_layer = tf.keras.layers.StringLookup(output_mode = \"multi_hot\")\n",
    "anime_studios_multi_hot_layer.adapt(list(anime_data[\"studios\"].apply(lambda x : pad_list(x, 10))))\n",
    "anime_studios_multi_hot_encodings = anime_studios_multi_hot_layer(list(anime_data[\"studios\"].apply(lambda x : pad_list(x, 10))))\n",
    "anime_studios_multi_hot_encodings = anime_studios_multi_hot_encodings[:, 1:]\n",
    "NUM_STUDIOS_MULTI_HOT_DIMS = anime_studios_multi_hot_encodings.shape[1]\n",
    "anime_studios_multi_hot_encodings = tf.concat([tf.zeros((1, NUM_STUDIOS_MULTI_HOT_DIMS)), anime_studios_multi_hot_encodings], axis = 0)\n",
    "anime_studios_multi_hot_encodings = tf.gather(anime_studios_multi_hot_encodings, indices = anime_emb_order)\n",
    "studios_one_hot_layer = tf.keras.layers.Embedding(\n",
    "    NUM_ANIMES + 1,\n",
    "    NUM_STUDIOS_MULTI_HOT_DIMS,\n",
    "    weights=[anime_studios_multi_hot_encodings],\n",
    "    trainable=True\n",
    ")"
   ]
  },
  {
   "cell_type": "markdown",
   "id": "9c6d0448",
   "metadata": {},
   "source": [
    "# anime genres multi-hot-encoder"
   ]
  },
  {
   "cell_type": "code",
   "execution_count": 43,
   "id": "6bb53e26",
   "metadata": {},
   "outputs": [],
   "source": [
    "anime_genres_multi_hot_layer = tf.keras.layers.StringLookup(output_mode = \"multi_hot\")\n",
    "anime_genres_multi_hot_layer.adapt(list(anime_data[\"genres\"].apply(lambda x : pad_list(x, 20))))\n",
    "anime_genres_multi_hot_encodings = anime_genres_multi_hot_layer(list(anime_data[\"genres\"].apply(lambda x : pad_list(x, 20))))\n",
    "anime_genres_multi_hot_encodings = anime_genres_multi_hot_encodings[:, 1:]\n",
    "NUM_GENRES_MULTI_HOT_DIMS = anime_genres_multi_hot_encodings.shape[1]\n",
    "anime_genres_multi_hot_encodings = tf.concat([tf.zeros((1, NUM_GENRES_MULTI_HOT_DIMS)), anime_genres_multi_hot_encodings], axis = 0)\n",
    "anime_genres_multi_hot_encodings = tf.gather(anime_genres_multi_hot_encodings, indices = anime_emb_order)\n",
    "genres_one_hot_layer = tf.keras.layers.Embedding(\n",
    "    NUM_ANIMES + 1,\n",
    "    NUM_GENRES_MULTI_HOT_DIMS,\n",
    "    weights=[anime_genres_multi_hot_encodings],\n",
    "    trainable=True\n",
    ")"
   ]
  },
  {
   "cell_type": "markdown",
   "id": "bc81a03e",
   "metadata": {},
   "source": [
    "# Keras siamese model"
   ]
  },
  {
   "cell_type": "code",
   "execution_count": 60,
   "id": "d356eba2",
   "metadata": {},
   "outputs": [],
   "source": [
    "class AnimeModel(tf.keras.Model):\n",
    "    def __init__(self):\n",
    "        super().__init__()\n",
    "        \n",
    "        self.anime_id_lookup_layer = anime_id_lookup\n",
    "        \n",
    "        self.image_embedding_layer = tf.keras.Sequential([\n",
    "            image_embedding_layer,\n",
    "            tf.keras.layers.Dense(64)\n",
    "        ])\n",
    "        self.title_embedding_layer = tf.keras.Sequential([\n",
    "            title_embedding_layer,\n",
    "            tf.keras.layers.Dense(64)\n",
    "        ])\n",
    "        self.synopsis_embedding_layer = tf.keras.Sequential([\n",
    "            synopsis_embedding_layer,\n",
    "            tf.keras.layers.Dense(64)\n",
    "        ])\n",
    "        self.type_embedding_layer = tf.keras.Sequential([\n",
    "            type_one_hot_layer,\n",
    "            tf.keras.layers.Dense(2)\n",
    "        ])\n",
    "        self.source_type_embedding_layer = tf.keras.Sequential([\n",
    "            source_type_one_hot_layer,\n",
    "            tf.keras.layers.Dense(2)\n",
    "        ])\n",
    "        self.studios_embedding_layer = tf.keras.Sequential([\n",
    "            studios_one_hot_layer,\n",
    "            tf.keras.layers.Dense(8)\n",
    "        ])\n",
    "        self.genres_embedding_layer = tf.keras.Sequential([\n",
    "            genres_one_hot_layer,\n",
    "            tf.keras.layers.Dense(16)\n",
    "        ])\n",
    "        \n",
    "        self.anime_embedding_layer =  tf.keras.layers.Dense(128)\n",
    "\n",
    "    def call(self, inputs):\n",
    "        anime_ids = self.anime_id_lookup_layer(inputs)\n",
    "        image_embeddings = self.image_embedding_layer(anime_ids)\n",
    "        title_embeddings = self.title_embedding_layer(anime_ids)\n",
    "        synopsis_embeddings = self.synopsis_embedding_layer(anime_ids)\n",
    "        type_embeddings = self.type_embedding_layer(anime_ids)\n",
    "        source_type_embeddings = self.source_type_embedding_layer(anime_ids)\n",
    "        studios_embeddings = self.studios_embedding_layer(anime_ids)\n",
    "        genres_embeddings = self.genres_embedding_layer(anime_ids)\n",
    "        concat_embeddings = tf.concat([\n",
    "            image_embeddings,\n",
    "            title_embeddings,\n",
    "            synopsis_embeddings,\n",
    "            type_embeddings,\n",
    "            source_type_embeddings,\n",
    "            studios_embeddings,\n",
    "            genres_embeddings\n",
    "        ], axis = 1)\n",
    "        return self.anime_embedding_layer(concat_embeddings)"
   ]
  },
  {
   "cell_type": "code",
   "execution_count": 61,
   "id": "734cd51b",
   "metadata": {},
   "outputs": [],
   "source": [
    "model = AnimeModel()"
   ]
  },
  {
   "cell_type": "code",
   "execution_count": 62,
   "id": "335ef540",
   "metadata": {},
   "outputs": [
    {
     "data": {
      "text/plain": [
       "<tf.Tensor: shape=(1, 128), dtype=float32, numpy=\n",
       "array([[-6.3418555 , -3.9214664 ,  2.6112008 , -7.9402766 ,  2.8465486 ,\n",
       "         4.5414524 ,  0.12666081, -1.381447  , -3.4304955 , -5.509757  ,\n",
       "        -0.8354233 , -2.6516316 , -0.13625926,  4.562217  , -2.8226378 ,\n",
       "         2.8903322 ,  4.2472    ,  0.7027546 , -5.3793845 , -1.2955028 ,\n",
       "        -1.9881753 ,  4.3203535 , -1.326868  ,  3.007033  ,  4.6753716 ,\n",
       "        -3.7106133 , -1.0980685 , -1.1932652 ,  1.0654194 , -3.0756147 ,\n",
       "         3.4580252 ,  4.093649  ,  0.865989  ,  7.6361113 ,  0.3156387 ,\n",
       "         5.1992064 , -1.2044413 ,  0.02368034,  5.3396263 , -2.6670299 ,\n",
       "        -4.9677844 , -0.8674688 ,  4.163064  ,  2.1001394 , -5.3449316 ,\n",
       "         2.4634497 ,  2.182181  ,  2.9887006 ,  3.44288   , -6.2953    ,\n",
       "        -4.401819  ,  3.9091861 , -4.80464   , -2.8993669 ,  7.5786066 ,\n",
       "         2.2872233 , -1.7603097 ,  3.468829  ,  0.1263675 , -0.89772534,\n",
       "         0.6013544 ,  0.70019233,  0.63990295, -3.6379678 , -0.3717012 ,\n",
       "         0.24633107,  0.44882488,  1.4725468 ,  6.304435  , -5.132188  ,\n",
       "         0.9495887 ,  8.799051  ,  0.8815401 ,  3.3266776 , -1.2998683 ,\n",
       "        -6.1072745 , -1.8379037 , -1.0376004 ,  7.3248386 , -7.6704645 ,\n",
       "         0.8878754 ,  4.832202  , -4.310559  ,  6.3644505 , -1.2447098 ,\n",
       "         3.131389  ,  0.9715611 ,  6.0900354 , -3.5979445 ,  3.468585  ,\n",
       "         2.1122057 ,  5.726324  ,  0.04320917,  2.6507807 ,  2.4949436 ,\n",
       "        -0.43793195,  3.3334203 ,  1.8147483 ,  0.01695787, -1.0347092 ,\n",
       "         5.1874943 ,  0.4243817 , -1.7852905 ,  0.41926077,  5.3178587 ,\n",
       "        -1.7766367 ,  4.528097  ,  2.5061424 ,  0.14615169, -3.811207  ,\n",
       "        -6.1879797 , -1.9186871 ,  4.777694  , -4.2010937 ,  0.59086055,\n",
       "         4.5276537 , -0.85722876, -3.3311257 , -8.7937765 , -3.7562776 ,\n",
       "         7.2666736 ,  3.0759985 , -2.9725444 ,  0.47322598,  2.3180962 ,\n",
       "         0.78993756,  0.6759042 , -0.59289706]], dtype=float32)>"
      ]
     },
     "execution_count": 62,
     "metadata": {},
     "output_type": "execute_result"
    }
   ],
   "source": [
    "model([\"1268\"])"
   ]
  },
  {
   "cell_type": "markdown",
   "id": "5380201f",
   "metadata": {},
   "source": [
    "# Siamese data prep"
   ]
  },
  {
   "cell_type": "code",
   "execution_count": 63,
   "id": "05ed9702",
   "metadata": {},
   "outputs": [],
   "source": [
    "def get_triplets_data():\n",
    "    query = \"\"\"\n",
    "        WITH \n",
    "        positives AS (\n",
    "            SELECT animeA, animeB\n",
    "            FROM `anime-rec-dev.prod_area_us.anime_anime`\n",
    "            WHERE recommendation = 1 OR related = 1\n",
    "        ),\n",
    "        easy_negatives AS (\n",
    "            SELECT animeA, animeB\n",
    "            FROM `anime-rec-dev.prod_area_us.anime_anime`\n",
    "            WHERE recommendation = 0 AND related = 0 AND genre_IOU < 0.1 AND club_IOU < 0.1\n",
    "        ),\n",
    "        hard_negatives AS (\n",
    "            SELECT animeA, animeB\n",
    "            FROM `anime-rec-dev.prod_area_us.anime_anime`\n",
    "            WHERE recommendation = 0 AND related = 0 AND genre_IOU > 0.3 AND genre_IOU < 0.6 AND club_IOU > 0.3 AND club_IOU < 0.6\n",
    "        ),\n",
    "        easy_triplets AS (\n",
    "            SELECT A.animeA AS anchor, A.animeB AS positive, B.animeB AS negative, ROW_NUMBER() OVER (PARTITION BY A.animeA, A.animeB ORDER BY RAND()) AS row_number\n",
    "            FROM positives A\n",
    "            LEFT JOIN easy_negatives B\n",
    "            ON A.animeA = B.animeA\n",
    "            WHERE B.animeB IS NOT NULL\n",
    "        ),\n",
    "        hard_triplets AS (\n",
    "            SELECT A.animeA AS anchor, A.animeB AS positive, B.animeB AS negative, ROW_NUMBER() OVER (PARTITION BY A.animeA, A.animeB ORDER BY RAND()) AS row_number\n",
    "            FROM positives A\n",
    "            LEFT JOIN hard_negatives B\n",
    "            ON A.animeA = B.animeA\n",
    "            WHERE B.animeB IS NOT NULL\n",
    "        )\n",
    "        SELECT anchor, positive, negative FROM easy_triplets WHERE row_number <= 5\n",
    "        UNION DISTINCT \n",
    "        SELECT anchor, positive, negative FROM hard_triplets WHERE row_number <= 10\n",
    "    \"\"\"\n",
    "    client = bigquery.Client(project=\"anime-rec-dev\")\n",
    "    dataset_ref = client.dataset(\"prod_area_us\")\n",
    "    job_config = bigquery.QueryJobConfig()\n",
    "    query_job = client.query(query, job_config=job_config)\n",
    "    result = query_job.to_dataframe()\n",
    "    return result"
   ]
  },
  {
   "cell_type": "code",
   "execution_count": null,
   "id": "a52f2c81",
   "metadata": {},
   "outputs": [],
   "source": []
  },
  {
   "cell_type": "code",
   "execution_count": 83,
   "id": "45ef2634",
   "metadata": {},
   "outputs": [],
   "source": [
    "class DistanceLayer(tf.keras.layers.Layer):\n",
    "    def __init__(self):\n",
    "        super().__init__()\n",
    "    def call(self, anchor, positive, negative):\n",
    "        ap_distance = tf.reduce_sum(tf.square(anchor - positive), -1)\n",
    "        an_distance = tf.reduce_sum(tf.square(anchor - negative), -1)\n",
    "        return (ap_distance, an_distance)"
   ]
  },
  {
   "cell_type": "code",
   "execution_count": 84,
   "id": "1fbb32be",
   "metadata": {},
   "outputs": [
    {
     "name": "stdout",
     "output_type": "stream",
     "text": [
      "WARNING:tensorflow:Model was constructed with shape (None, None) for input KerasTensor(type_spec=TensorSpec(shape=(None, None), dtype=tf.float32, name='embedding_input'), name='embedding_input', description=\"created by layer 'embedding_input'\"), but it was called on an input with incompatible shape (None,).\n"
     ]
    },
    {
     "name": "stderr",
     "output_type": "stream",
     "text": [
      "WARNING:tensorflow:Model was constructed with shape (None, None) for input KerasTensor(type_spec=TensorSpec(shape=(None, None), dtype=tf.float32, name='embedding_input'), name='embedding_input', description=\"created by layer 'embedding_input'\"), but it was called on an input with incompatible shape (None,).\n"
     ]
    },
    {
     "name": "stdout",
     "output_type": "stream",
     "text": [
      "WARNING:tensorflow:Model was constructed with shape (None, None) for input KerasTensor(type_spec=TensorSpec(shape=(None, None), dtype=tf.float32, name='embedding_1_input'), name='embedding_1_input', description=\"created by layer 'embedding_1_input'\"), but it was called on an input with incompatible shape (None,).\n"
     ]
    },
    {
     "name": "stderr",
     "output_type": "stream",
     "text": [
      "WARNING:tensorflow:Model was constructed with shape (None, None) for input KerasTensor(type_spec=TensorSpec(shape=(None, None), dtype=tf.float32, name='embedding_1_input'), name='embedding_1_input', description=\"created by layer 'embedding_1_input'\"), but it was called on an input with incompatible shape (None,).\n"
     ]
    },
    {
     "name": "stdout",
     "output_type": "stream",
     "text": [
      "WARNING:tensorflow:Model was constructed with shape (None, None) for input KerasTensor(type_spec=TensorSpec(shape=(None, None), dtype=tf.float32, name='embedding_2_input'), name='embedding_2_input', description=\"created by layer 'embedding_2_input'\"), but it was called on an input with incompatible shape (None,).\n"
     ]
    },
    {
     "name": "stderr",
     "output_type": "stream",
     "text": [
      "WARNING:tensorflow:Model was constructed with shape (None, None) for input KerasTensor(type_spec=TensorSpec(shape=(None, None), dtype=tf.float32, name='embedding_2_input'), name='embedding_2_input', description=\"created by layer 'embedding_2_input'\"), but it was called on an input with incompatible shape (None,).\n"
     ]
    },
    {
     "name": "stdout",
     "output_type": "stream",
     "text": [
      "WARNING:tensorflow:Model was constructed with shape (None, None) for input KerasTensor(type_spec=TensorSpec(shape=(None, None), dtype=tf.float32, name='embedding_3_input'), name='embedding_3_input', description=\"created by layer 'embedding_3_input'\"), but it was called on an input with incompatible shape (None,).\n"
     ]
    },
    {
     "name": "stderr",
     "output_type": "stream",
     "text": [
      "WARNING:tensorflow:Model was constructed with shape (None, None) for input KerasTensor(type_spec=TensorSpec(shape=(None, None), dtype=tf.float32, name='embedding_3_input'), name='embedding_3_input', description=\"created by layer 'embedding_3_input'\"), but it was called on an input with incompatible shape (None,).\n"
     ]
    },
    {
     "name": "stdout",
     "output_type": "stream",
     "text": [
      "WARNING:tensorflow:Model was constructed with shape (None, None) for input KerasTensor(type_spec=TensorSpec(shape=(None, None), dtype=tf.float32, name='embedding_4_input'), name='embedding_4_input', description=\"created by layer 'embedding_4_input'\"), but it was called on an input with incompatible shape (None,).\n"
     ]
    },
    {
     "name": "stderr",
     "output_type": "stream",
     "text": [
      "WARNING:tensorflow:Model was constructed with shape (None, None) for input KerasTensor(type_spec=TensorSpec(shape=(None, None), dtype=tf.float32, name='embedding_4_input'), name='embedding_4_input', description=\"created by layer 'embedding_4_input'\"), but it was called on an input with incompatible shape (None,).\n"
     ]
    },
    {
     "name": "stdout",
     "output_type": "stream",
     "text": [
      "WARNING:tensorflow:Model was constructed with shape (None, None) for input KerasTensor(type_spec=TensorSpec(shape=(None, None), dtype=tf.float32, name='embedding_7_input'), name='embedding_7_input', description=\"created by layer 'embedding_7_input'\"), but it was called on an input with incompatible shape (None,).\n"
     ]
    },
    {
     "name": "stderr",
     "output_type": "stream",
     "text": [
      "WARNING:tensorflow:Model was constructed with shape (None, None) for input KerasTensor(type_spec=TensorSpec(shape=(None, None), dtype=tf.float32, name='embedding_7_input'), name='embedding_7_input', description=\"created by layer 'embedding_7_input'\"), but it was called on an input with incompatible shape (None,).\n"
     ]
    },
    {
     "name": "stdout",
     "output_type": "stream",
     "text": [
      "WARNING:tensorflow:Model was constructed with shape (None, None) for input KerasTensor(type_spec=TensorSpec(shape=(None, None), dtype=tf.float32, name='embedding_8_input'), name='embedding_8_input', description=\"created by layer 'embedding_8_input'\"), but it was called on an input with incompatible shape (None,).\n"
     ]
    },
    {
     "name": "stderr",
     "output_type": "stream",
     "text": [
      "WARNING:tensorflow:Model was constructed with shape (None, None) for input KerasTensor(type_spec=TensorSpec(shape=(None, None), dtype=tf.float32, name='embedding_8_input'), name='embedding_8_input', description=\"created by layer 'embedding_8_input'\"), but it was called on an input with incompatible shape (None,).\n"
     ]
    },
    {
     "name": "stdout",
     "output_type": "stream",
     "text": [
      "WARNING:tensorflow:Model was constructed with shape (None, None) for input KerasTensor(type_spec=TensorSpec(shape=(None, None), dtype=tf.float32, name='embedding_input'), name='embedding_input', description=\"created by layer 'embedding_input'\"), but it was called on an input with incompatible shape (None,).\n"
     ]
    },
    {
     "name": "stderr",
     "output_type": "stream",
     "text": [
      "WARNING:tensorflow:Model was constructed with shape (None, None) for input KerasTensor(type_spec=TensorSpec(shape=(None, None), dtype=tf.float32, name='embedding_input'), name='embedding_input', description=\"created by layer 'embedding_input'\"), but it was called on an input with incompatible shape (None,).\n"
     ]
    },
    {
     "name": "stdout",
     "output_type": "stream",
     "text": [
      "WARNING:tensorflow:Model was constructed with shape (None, None) for input KerasTensor(type_spec=TensorSpec(shape=(None, None), dtype=tf.float32, name='embedding_1_input'), name='embedding_1_input', description=\"created by layer 'embedding_1_input'\"), but it was called on an input with incompatible shape (None,).\n"
     ]
    },
    {
     "name": "stderr",
     "output_type": "stream",
     "text": [
      "WARNING:tensorflow:Model was constructed with shape (None, None) for input KerasTensor(type_spec=TensorSpec(shape=(None, None), dtype=tf.float32, name='embedding_1_input'), name='embedding_1_input', description=\"created by layer 'embedding_1_input'\"), but it was called on an input with incompatible shape (None,).\n"
     ]
    },
    {
     "name": "stdout",
     "output_type": "stream",
     "text": [
      "WARNING:tensorflow:Model was constructed with shape (None, None) for input KerasTensor(type_spec=TensorSpec(shape=(None, None), dtype=tf.float32, name='embedding_2_input'), name='embedding_2_input', description=\"created by layer 'embedding_2_input'\"), but it was called on an input with incompatible shape (None,).\n"
     ]
    },
    {
     "name": "stderr",
     "output_type": "stream",
     "text": [
      "WARNING:tensorflow:Model was constructed with shape (None, None) for input KerasTensor(type_spec=TensorSpec(shape=(None, None), dtype=tf.float32, name='embedding_2_input'), name='embedding_2_input', description=\"created by layer 'embedding_2_input'\"), but it was called on an input with incompatible shape (None,).\n"
     ]
    },
    {
     "name": "stdout",
     "output_type": "stream",
     "text": [
      "WARNING:tensorflow:Model was constructed with shape (None, None) for input KerasTensor(type_spec=TensorSpec(shape=(None, None), dtype=tf.float32, name='embedding_3_input'), name='embedding_3_input', description=\"created by layer 'embedding_3_input'\"), but it was called on an input with incompatible shape (None,).\n"
     ]
    },
    {
     "name": "stderr",
     "output_type": "stream",
     "text": [
      "WARNING:tensorflow:Model was constructed with shape (None, None) for input KerasTensor(type_spec=TensorSpec(shape=(None, None), dtype=tf.float32, name='embedding_3_input'), name='embedding_3_input', description=\"created by layer 'embedding_3_input'\"), but it was called on an input with incompatible shape (None,).\n"
     ]
    },
    {
     "name": "stdout",
     "output_type": "stream",
     "text": [
      "WARNING:tensorflow:Model was constructed with shape (None, None) for input KerasTensor(type_spec=TensorSpec(shape=(None, None), dtype=tf.float32, name='embedding_4_input'), name='embedding_4_input', description=\"created by layer 'embedding_4_input'\"), but it was called on an input with incompatible shape (None,).\n"
     ]
    },
    {
     "name": "stderr",
     "output_type": "stream",
     "text": [
      "WARNING:tensorflow:Model was constructed with shape (None, None) for input KerasTensor(type_spec=TensorSpec(shape=(None, None), dtype=tf.float32, name='embedding_4_input'), name='embedding_4_input', description=\"created by layer 'embedding_4_input'\"), but it was called on an input with incompatible shape (None,).\n"
     ]
    },
    {
     "name": "stdout",
     "output_type": "stream",
     "text": [
      "WARNING:tensorflow:Model was constructed with shape (None, None) for input KerasTensor(type_spec=TensorSpec(shape=(None, None), dtype=tf.float32, name='embedding_7_input'), name='embedding_7_input', description=\"created by layer 'embedding_7_input'\"), but it was called on an input with incompatible shape (None,).\n"
     ]
    },
    {
     "name": "stderr",
     "output_type": "stream",
     "text": [
      "WARNING:tensorflow:Model was constructed with shape (None, None) for input KerasTensor(type_spec=TensorSpec(shape=(None, None), dtype=tf.float32, name='embedding_7_input'), name='embedding_7_input', description=\"created by layer 'embedding_7_input'\"), but it was called on an input with incompatible shape (None,).\n"
     ]
    },
    {
     "name": "stdout",
     "output_type": "stream",
     "text": [
      "WARNING:tensorflow:Model was constructed with shape (None, None) for input KerasTensor(type_spec=TensorSpec(shape=(None, None), dtype=tf.float32, name='embedding_8_input'), name='embedding_8_input', description=\"created by layer 'embedding_8_input'\"), but it was called on an input with incompatible shape (None,).\n"
     ]
    },
    {
     "name": "stderr",
     "output_type": "stream",
     "text": [
      "WARNING:tensorflow:Model was constructed with shape (None, None) for input KerasTensor(type_spec=TensorSpec(shape=(None, None), dtype=tf.float32, name='embedding_8_input'), name='embedding_8_input', description=\"created by layer 'embedding_8_input'\"), but it was called on an input with incompatible shape (None,).\n"
     ]
    },
    {
     "name": "stdout",
     "output_type": "stream",
     "text": [
      "WARNING:tensorflow:Model was constructed with shape (None, None) for input KerasTensor(type_spec=TensorSpec(shape=(None, None), dtype=tf.float32, name='embedding_input'), name='embedding_input', description=\"created by layer 'embedding_input'\"), but it was called on an input with incompatible shape (None,).\n"
     ]
    },
    {
     "name": "stderr",
     "output_type": "stream",
     "text": [
      "WARNING:tensorflow:Model was constructed with shape (None, None) for input KerasTensor(type_spec=TensorSpec(shape=(None, None), dtype=tf.float32, name='embedding_input'), name='embedding_input', description=\"created by layer 'embedding_input'\"), but it was called on an input with incompatible shape (None,).\n"
     ]
    },
    {
     "name": "stdout",
     "output_type": "stream",
     "text": [
      "WARNING:tensorflow:Model was constructed with shape (None, None) for input KerasTensor(type_spec=TensorSpec(shape=(None, None), dtype=tf.float32, name='embedding_1_input'), name='embedding_1_input', description=\"created by layer 'embedding_1_input'\"), but it was called on an input with incompatible shape (None,).\n"
     ]
    },
    {
     "name": "stderr",
     "output_type": "stream",
     "text": [
      "WARNING:tensorflow:Model was constructed with shape (None, None) for input KerasTensor(type_spec=TensorSpec(shape=(None, None), dtype=tf.float32, name='embedding_1_input'), name='embedding_1_input', description=\"created by layer 'embedding_1_input'\"), but it was called on an input with incompatible shape (None,).\n"
     ]
    },
    {
     "name": "stdout",
     "output_type": "stream",
     "text": [
      "WARNING:tensorflow:Model was constructed with shape (None, None) for input KerasTensor(type_spec=TensorSpec(shape=(None, None), dtype=tf.float32, name='embedding_2_input'), name='embedding_2_input', description=\"created by layer 'embedding_2_input'\"), but it was called on an input with incompatible shape (None,).\n"
     ]
    },
    {
     "name": "stderr",
     "output_type": "stream",
     "text": [
      "WARNING:tensorflow:Model was constructed with shape (None, None) for input KerasTensor(type_spec=TensorSpec(shape=(None, None), dtype=tf.float32, name='embedding_2_input'), name='embedding_2_input', description=\"created by layer 'embedding_2_input'\"), but it was called on an input with incompatible shape (None,).\n"
     ]
    },
    {
     "name": "stdout",
     "output_type": "stream",
     "text": [
      "WARNING:tensorflow:Model was constructed with shape (None, None) for input KerasTensor(type_spec=TensorSpec(shape=(None, None), dtype=tf.float32, name='embedding_3_input'), name='embedding_3_input', description=\"created by layer 'embedding_3_input'\"), but it was called on an input with incompatible shape (None,).\n"
     ]
    },
    {
     "name": "stderr",
     "output_type": "stream",
     "text": [
      "WARNING:tensorflow:Model was constructed with shape (None, None) for input KerasTensor(type_spec=TensorSpec(shape=(None, None), dtype=tf.float32, name='embedding_3_input'), name='embedding_3_input', description=\"created by layer 'embedding_3_input'\"), but it was called on an input with incompatible shape (None,).\n"
     ]
    },
    {
     "name": "stdout",
     "output_type": "stream",
     "text": [
      "WARNING:tensorflow:Model was constructed with shape (None, None) for input KerasTensor(type_spec=TensorSpec(shape=(None, None), dtype=tf.float32, name='embedding_4_input'), name='embedding_4_input', description=\"created by layer 'embedding_4_input'\"), but it was called on an input with incompatible shape (None,).\n"
     ]
    },
    {
     "name": "stderr",
     "output_type": "stream",
     "text": [
      "WARNING:tensorflow:Model was constructed with shape (None, None) for input KerasTensor(type_spec=TensorSpec(shape=(None, None), dtype=tf.float32, name='embedding_4_input'), name='embedding_4_input', description=\"created by layer 'embedding_4_input'\"), but it was called on an input with incompatible shape (None,).\n"
     ]
    },
    {
     "name": "stdout",
     "output_type": "stream",
     "text": [
      "WARNING:tensorflow:Model was constructed with shape (None, None) for input KerasTensor(type_spec=TensorSpec(shape=(None, None), dtype=tf.float32, name='embedding_7_input'), name='embedding_7_input', description=\"created by layer 'embedding_7_input'\"), but it was called on an input with incompatible shape (None,).\n"
     ]
    },
    {
     "name": "stderr",
     "output_type": "stream",
     "text": [
      "WARNING:tensorflow:Model was constructed with shape (None, None) for input KerasTensor(type_spec=TensorSpec(shape=(None, None), dtype=tf.float32, name='embedding_7_input'), name='embedding_7_input', description=\"created by layer 'embedding_7_input'\"), but it was called on an input with incompatible shape (None,).\n"
     ]
    },
    {
     "name": "stdout",
     "output_type": "stream",
     "text": [
      "WARNING:tensorflow:Model was constructed with shape (None, None) for input KerasTensor(type_spec=TensorSpec(shape=(None, None), dtype=tf.float32, name='embedding_8_input'), name='embedding_8_input', description=\"created by layer 'embedding_8_input'\"), but it was called on an input with incompatible shape (None,).\n"
     ]
    },
    {
     "name": "stderr",
     "output_type": "stream",
     "text": [
      "WARNING:tensorflow:Model was constructed with shape (None, None) for input KerasTensor(type_spec=TensorSpec(shape=(None, None), dtype=tf.float32, name='embedding_8_input'), name='embedding_8_input', description=\"created by layer 'embedding_8_input'\"), but it was called on an input with incompatible shape (None,).\n"
     ]
    }
   ],
   "source": [
    "anchor_input = tf.keras.layers.Input(name = \"anchor\", shape = (), dtype = \"string\")\n",
    "positive_input = tf.keras.layers.Input(name = \"positive\", shape = (), dtype = \"string\")\n",
    "negative_input = tf.keras.layers.Input(name = \"negative\", shape = (), dtype = \"string\")\n",
    "distances = DistanceLayer()(\n",
    "    model(anchor_input),\n",
    "    model(positive_input),\n",
    "    model(negative_input),\n",
    ")\n",
    "siamese_network = tf.keras.Model(\n",
    "    inputs=[anchor_input, positive_input, negative_input], outputs=distances\n",
    ")"
   ]
  },
  {
   "cell_type": "code",
   "execution_count": 86,
   "id": "a153e7b4",
   "metadata": {},
   "outputs": [
    {
     "data": {
      "text/plain": [
       "(<tf.Tensor: shape=(1,), dtype=float32, numpy=array([0.], dtype=float32)>,\n",
       " <tf.Tensor: shape=(1,), dtype=float32, numpy=array([1172.6482], dtype=float32)>)"
      ]
     },
     "execution_count": 86,
     "metadata": {},
     "output_type": "execute_result"
    }
   ],
   "source": [
    "siamese_network({\"anchor\" : tf.constant([\"1268\"]), \n",
    "                 \"positive\" : tf.constant([\"1268\"]), \n",
    "                 \"negative\" : tf.constant([\"31280\"])})"
   ]
  },
  {
   "cell_type": "code",
   "execution_count": 94,
   "id": "6e8fce99",
   "metadata": {},
   "outputs": [],
   "source": [
    "class SiameseModel(tf.keras.Model):\n",
    "    def __init__(self):\n",
    "        super().__init__()\n",
    "        self.siamese_network = siamese_network\n",
    "        self.loss_tracker = tf.keras.metrics.Mean(name = 'loss')\n",
    "    def call(self, inputs):\n",
    "        return self.network(inputs)\n",
    "    def train_step(self, data):\n",
    "        with tf.GradientTape() as tape:\n",
    "            loss = self._compute_loss(data)\n",
    "\n",
    "        gradients = tape.gradient(loss, self.siamese_network.trainable_weights)\n",
    "\n",
    "        self.optimizer.apply_gradients(\n",
    "            zip(gradients, self.siamese_network.trainable_weights)\n",
    "        )\n",
    "\n",
    "        self.loss_tracker.update_state(loss)\n",
    "        return {\"loss\": self.loss_tracker.result()}\n",
    "\n",
    "    def test_step(self, data):\n",
    "        loss = self._compute_loss(data)\n",
    "\n",
    "        self.loss_tracker.update_state(loss)\n",
    "        return {\"loss\": self.loss_tracker.result()}\n",
    "\n",
    "    def _compute_loss(self, data):\n",
    "        ap_distance, an_distance = self.siamese_network(data)\n",
    "\n",
    "        loss = ap_distance - an_distance\n",
    "        loss = tf.maximum(loss + 0.5, 0.0)\n",
    "        return loss\n",
    "\n",
    "    @property\n",
    "    def metrics(self):\n",
    "        return [self.loss_tracker]"
   ]
  },
  {
   "cell_type": "code",
   "execution_count": 64,
   "id": "7206056f",
   "metadata": {},
   "outputs": [],
   "source": [
    "triplets = get_triplets_data()"
   ]
  },
  {
   "cell_type": "code",
   "execution_count": 65,
   "id": "d3255bca",
   "metadata": {},
   "outputs": [
    {
     "data": {
      "text/plain": [
       "(188701, 3)"
      ]
     },
     "execution_count": 65,
     "metadata": {},
     "output_type": "execute_result"
    }
   ],
   "source": [
    "triplets.shape"
   ]
  },
  {
   "cell_type": "code",
   "execution_count": 95,
   "id": "9ae3c27a",
   "metadata": {},
   "outputs": [],
   "source": [
    "siamese_model = SiameseModel()\n",
    "siamese_model.compile(optimizer=tf.keras.optimizers.Adam(0.0001))"
   ]
  },
  {
   "cell_type": "code",
   "execution_count": 96,
   "id": "9e0a526e",
   "metadata": {},
   "outputs": [],
   "source": [
    "anchor = triplets[\"anchor\"]\n",
    "positive = triplets[\"positive\"]\n",
    "negative = triplets[\"negative\"]"
   ]
  },
  {
   "cell_type": "code",
   "execution_count": 97,
   "id": "fb1631eb",
   "metadata": {},
   "outputs": [
    {
     "name": "stdout",
     "output_type": "stream",
     "text": [
      "Epoch 1/5\n",
      "WARNING:tensorflow:Model was constructed with shape (None, None) for input KerasTensor(type_spec=TensorSpec(shape=(None, None), dtype=tf.float32, name='embedding_input'), name='embedding_input', description=\"created by layer 'embedding_input'\"), but it was called on an input with incompatible shape (None,).\n"
     ]
    },
    {
     "name": "stderr",
     "output_type": "stream",
     "text": [
      "WARNING:tensorflow:Model was constructed with shape (None, None) for input KerasTensor(type_spec=TensorSpec(shape=(None, None), dtype=tf.float32, name='embedding_input'), name='embedding_input', description=\"created by layer 'embedding_input'\"), but it was called on an input with incompatible shape (None,).\n"
     ]
    },
    {
     "name": "stdout",
     "output_type": "stream",
     "text": [
      "WARNING:tensorflow:Model was constructed with shape (None, None) for input KerasTensor(type_spec=TensorSpec(shape=(None, None), dtype=tf.float32, name='embedding_1_input'), name='embedding_1_input', description=\"created by layer 'embedding_1_input'\"), but it was called on an input with incompatible shape (None,).\n"
     ]
    },
    {
     "name": "stderr",
     "output_type": "stream",
     "text": [
      "WARNING:tensorflow:Model was constructed with shape (None, None) for input KerasTensor(type_spec=TensorSpec(shape=(None, None), dtype=tf.float32, name='embedding_1_input'), name='embedding_1_input', description=\"created by layer 'embedding_1_input'\"), but it was called on an input with incompatible shape (None,).\n"
     ]
    },
    {
     "name": "stdout",
     "output_type": "stream",
     "text": [
      "WARNING:tensorflow:Model was constructed with shape (None, None) for input KerasTensor(type_spec=TensorSpec(shape=(None, None), dtype=tf.float32, name='embedding_2_input'), name='embedding_2_input', description=\"created by layer 'embedding_2_input'\"), but it was called on an input with incompatible shape (None,).\n"
     ]
    },
    {
     "name": "stderr",
     "output_type": "stream",
     "text": [
      "WARNING:tensorflow:Model was constructed with shape (None, None) for input KerasTensor(type_spec=TensorSpec(shape=(None, None), dtype=tf.float32, name='embedding_2_input'), name='embedding_2_input', description=\"created by layer 'embedding_2_input'\"), but it was called on an input with incompatible shape (None,).\n"
     ]
    },
    {
     "name": "stdout",
     "output_type": "stream",
     "text": [
      "WARNING:tensorflow:Model was constructed with shape (None, None) for input KerasTensor(type_spec=TensorSpec(shape=(None, None), dtype=tf.float32, name='embedding_3_input'), name='embedding_3_input', description=\"created by layer 'embedding_3_input'\"), but it was called on an input with incompatible shape (None,).\n"
     ]
    },
    {
     "name": "stderr",
     "output_type": "stream",
     "text": [
      "WARNING:tensorflow:Model was constructed with shape (None, None) for input KerasTensor(type_spec=TensorSpec(shape=(None, None), dtype=tf.float32, name='embedding_3_input'), name='embedding_3_input', description=\"created by layer 'embedding_3_input'\"), but it was called on an input with incompatible shape (None,).\n"
     ]
    },
    {
     "name": "stdout",
     "output_type": "stream",
     "text": [
      "WARNING:tensorflow:Model was constructed with shape (None, None) for input KerasTensor(type_spec=TensorSpec(shape=(None, None), dtype=tf.float32, name='embedding_4_input'), name='embedding_4_input', description=\"created by layer 'embedding_4_input'\"), but it was called on an input with incompatible shape (None,).\n"
     ]
    },
    {
     "name": "stderr",
     "output_type": "stream",
     "text": [
      "WARNING:tensorflow:Model was constructed with shape (None, None) for input KerasTensor(type_spec=TensorSpec(shape=(None, None), dtype=tf.float32, name='embedding_4_input'), name='embedding_4_input', description=\"created by layer 'embedding_4_input'\"), but it was called on an input with incompatible shape (None,).\n"
     ]
    },
    {
     "name": "stdout",
     "output_type": "stream",
     "text": [
      "WARNING:tensorflow:Model was constructed with shape (None, None) for input KerasTensor(type_spec=TensorSpec(shape=(None, None), dtype=tf.float32, name='embedding_7_input'), name='embedding_7_input', description=\"created by layer 'embedding_7_input'\"), but it was called on an input with incompatible shape (None,).\n"
     ]
    },
    {
     "name": "stderr",
     "output_type": "stream",
     "text": [
      "WARNING:tensorflow:Model was constructed with shape (None, None) for input KerasTensor(type_spec=TensorSpec(shape=(None, None), dtype=tf.float32, name='embedding_7_input'), name='embedding_7_input', description=\"created by layer 'embedding_7_input'\"), but it was called on an input with incompatible shape (None,).\n"
     ]
    },
    {
     "name": "stdout",
     "output_type": "stream",
     "text": [
      "WARNING:tensorflow:Model was constructed with shape (None, None) for input KerasTensor(type_spec=TensorSpec(shape=(None, None), dtype=tf.float32, name='embedding_8_input'), name='embedding_8_input', description=\"created by layer 'embedding_8_input'\"), but it was called on an input with incompatible shape (None,).\n"
     ]
    },
    {
     "name": "stderr",
     "output_type": "stream",
     "text": [
      "WARNING:tensorflow:Model was constructed with shape (None, None) for input KerasTensor(type_spec=TensorSpec(shape=(None, None), dtype=tf.float32, name='embedding_8_input'), name='embedding_8_input', description=\"created by layer 'embedding_8_input'\"), but it was called on an input with incompatible shape (None,).\n"
     ]
    },
    {
     "name": "stdout",
     "output_type": "stream",
     "text": [
      "WARNING:tensorflow:Model was constructed with shape (None, None) for input KerasTensor(type_spec=TensorSpec(shape=(None, None), dtype=tf.float32, name='embedding_input'), name='embedding_input', description=\"created by layer 'embedding_input'\"), but it was called on an input with incompatible shape (None,).\n"
     ]
    },
    {
     "name": "stderr",
     "output_type": "stream",
     "text": [
      "WARNING:tensorflow:Model was constructed with shape (None, None) for input KerasTensor(type_spec=TensorSpec(shape=(None, None), dtype=tf.float32, name='embedding_input'), name='embedding_input', description=\"created by layer 'embedding_input'\"), but it was called on an input with incompatible shape (None,).\n"
     ]
    },
    {
     "name": "stdout",
     "output_type": "stream",
     "text": [
      "WARNING:tensorflow:Model was constructed with shape (None, None) for input KerasTensor(type_spec=TensorSpec(shape=(None, None), dtype=tf.float32, name='embedding_1_input'), name='embedding_1_input', description=\"created by layer 'embedding_1_input'\"), but it was called on an input with incompatible shape (None,).\n"
     ]
    },
    {
     "name": "stderr",
     "output_type": "stream",
     "text": [
      "WARNING:tensorflow:Model was constructed with shape (None, None) for input KerasTensor(type_spec=TensorSpec(shape=(None, None), dtype=tf.float32, name='embedding_1_input'), name='embedding_1_input', description=\"created by layer 'embedding_1_input'\"), but it was called on an input with incompatible shape (None,).\n"
     ]
    },
    {
     "name": "stdout",
     "output_type": "stream",
     "text": [
      "WARNING:tensorflow:Model was constructed with shape (None, None) for input KerasTensor(type_spec=TensorSpec(shape=(None, None), dtype=tf.float32, name='embedding_2_input'), name='embedding_2_input', description=\"created by layer 'embedding_2_input'\"), but it was called on an input with incompatible shape (None,).\n"
     ]
    },
    {
     "name": "stderr",
     "output_type": "stream",
     "text": [
      "WARNING:tensorflow:Model was constructed with shape (None, None) for input KerasTensor(type_spec=TensorSpec(shape=(None, None), dtype=tf.float32, name='embedding_2_input'), name='embedding_2_input', description=\"created by layer 'embedding_2_input'\"), but it was called on an input with incompatible shape (None,).\n"
     ]
    },
    {
     "name": "stdout",
     "output_type": "stream",
     "text": [
      "WARNING:tensorflow:Model was constructed with shape (None, None) for input KerasTensor(type_spec=TensorSpec(shape=(None, None), dtype=tf.float32, name='embedding_3_input'), name='embedding_3_input', description=\"created by layer 'embedding_3_input'\"), but it was called on an input with incompatible shape (None,).\n"
     ]
    },
    {
     "name": "stderr",
     "output_type": "stream",
     "text": [
      "WARNING:tensorflow:Model was constructed with shape (None, None) for input KerasTensor(type_spec=TensorSpec(shape=(None, None), dtype=tf.float32, name='embedding_3_input'), name='embedding_3_input', description=\"created by layer 'embedding_3_input'\"), but it was called on an input with incompatible shape (None,).\n"
     ]
    },
    {
     "name": "stdout",
     "output_type": "stream",
     "text": [
      "WARNING:tensorflow:Model was constructed with shape (None, None) for input KerasTensor(type_spec=TensorSpec(shape=(None, None), dtype=tf.float32, name='embedding_4_input'), name='embedding_4_input', description=\"created by layer 'embedding_4_input'\"), but it was called on an input with incompatible shape (None,).\n"
     ]
    },
    {
     "name": "stderr",
     "output_type": "stream",
     "text": [
      "WARNING:tensorflow:Model was constructed with shape (None, None) for input KerasTensor(type_spec=TensorSpec(shape=(None, None), dtype=tf.float32, name='embedding_4_input'), name='embedding_4_input', description=\"created by layer 'embedding_4_input'\"), but it was called on an input with incompatible shape (None,).\n"
     ]
    },
    {
     "name": "stdout",
     "output_type": "stream",
     "text": [
      "WARNING:tensorflow:Model was constructed with shape (None, None) for input KerasTensor(type_spec=TensorSpec(shape=(None, None), dtype=tf.float32, name='embedding_7_input'), name='embedding_7_input', description=\"created by layer 'embedding_7_input'\"), but it was called on an input with incompatible shape (None,).\n"
     ]
    },
    {
     "name": "stderr",
     "output_type": "stream",
     "text": [
      "WARNING:tensorflow:Model was constructed with shape (None, None) for input KerasTensor(type_spec=TensorSpec(shape=(None, None), dtype=tf.float32, name='embedding_7_input'), name='embedding_7_input', description=\"created by layer 'embedding_7_input'\"), but it was called on an input with incompatible shape (None,).\n"
     ]
    },
    {
     "name": "stdout",
     "output_type": "stream",
     "text": [
      "WARNING:tensorflow:Model was constructed with shape (None, None) for input KerasTensor(type_spec=TensorSpec(shape=(None, None), dtype=tf.float32, name='embedding_8_input'), name='embedding_8_input', description=\"created by layer 'embedding_8_input'\"), but it was called on an input with incompatible shape (None,).\n"
     ]
    },
    {
     "name": "stderr",
     "output_type": "stream",
     "text": [
      "WARNING:tensorflow:Model was constructed with shape (None, None) for input KerasTensor(type_spec=TensorSpec(shape=(None, None), dtype=tf.float32, name='embedding_8_input'), name='embedding_8_input', description=\"created by layer 'embedding_8_input'\"), but it was called on an input with incompatible shape (None,).\n"
     ]
    },
    {
     "name": "stdout",
     "output_type": "stream",
     "text": [
      "WARNING:tensorflow:Model was constructed with shape (None, None) for input KerasTensor(type_spec=TensorSpec(shape=(None, None), dtype=tf.float32, name='embedding_input'), name='embedding_input', description=\"created by layer 'embedding_input'\"), but it was called on an input with incompatible shape (None,).\n"
     ]
    },
    {
     "name": "stderr",
     "output_type": "stream",
     "text": [
      "WARNING:tensorflow:Model was constructed with shape (None, None) for input KerasTensor(type_spec=TensorSpec(shape=(None, None), dtype=tf.float32, name='embedding_input'), name='embedding_input', description=\"created by layer 'embedding_input'\"), but it was called on an input with incompatible shape (None,).\n"
     ]
    },
    {
     "name": "stdout",
     "output_type": "stream",
     "text": [
      "WARNING:tensorflow:Model was constructed with shape (None, None) for input KerasTensor(type_spec=TensorSpec(shape=(None, None), dtype=tf.float32, name='embedding_1_input'), name='embedding_1_input', description=\"created by layer 'embedding_1_input'\"), but it was called on an input with incompatible shape (None,).\n"
     ]
    },
    {
     "name": "stderr",
     "output_type": "stream",
     "text": [
      "WARNING:tensorflow:Model was constructed with shape (None, None) for input KerasTensor(type_spec=TensorSpec(shape=(None, None), dtype=tf.float32, name='embedding_1_input'), name='embedding_1_input', description=\"created by layer 'embedding_1_input'\"), but it was called on an input with incompatible shape (None,).\n"
     ]
    },
    {
     "name": "stdout",
     "output_type": "stream",
     "text": [
      "WARNING:tensorflow:Model was constructed with shape (None, None) for input KerasTensor(type_spec=TensorSpec(shape=(None, None), dtype=tf.float32, name='embedding_2_input'), name='embedding_2_input', description=\"created by layer 'embedding_2_input'\"), but it was called on an input with incompatible shape (None,).\n"
     ]
    },
    {
     "name": "stderr",
     "output_type": "stream",
     "text": [
      "WARNING:tensorflow:Model was constructed with shape (None, None) for input KerasTensor(type_spec=TensorSpec(shape=(None, None), dtype=tf.float32, name='embedding_2_input'), name='embedding_2_input', description=\"created by layer 'embedding_2_input'\"), but it was called on an input with incompatible shape (None,).\n"
     ]
    },
    {
     "name": "stdout",
     "output_type": "stream",
     "text": [
      "WARNING:tensorflow:Model was constructed with shape (None, None) for input KerasTensor(type_spec=TensorSpec(shape=(None, None), dtype=tf.float32, name='embedding_3_input'), name='embedding_3_input', description=\"created by layer 'embedding_3_input'\"), but it was called on an input with incompatible shape (None,).\n"
     ]
    },
    {
     "name": "stderr",
     "output_type": "stream",
     "text": [
      "WARNING:tensorflow:Model was constructed with shape (None, None) for input KerasTensor(type_spec=TensorSpec(shape=(None, None), dtype=tf.float32, name='embedding_3_input'), name='embedding_3_input', description=\"created by layer 'embedding_3_input'\"), but it was called on an input with incompatible shape (None,).\n"
     ]
    },
    {
     "name": "stdout",
     "output_type": "stream",
     "text": [
      "WARNING:tensorflow:Model was constructed with shape (None, None) for input KerasTensor(type_spec=TensorSpec(shape=(None, None), dtype=tf.float32, name='embedding_4_input'), name='embedding_4_input', description=\"created by layer 'embedding_4_input'\"), but it was called on an input with incompatible shape (None,).\n"
     ]
    },
    {
     "name": "stderr",
     "output_type": "stream",
     "text": [
      "WARNING:tensorflow:Model was constructed with shape (None, None) for input KerasTensor(type_spec=TensorSpec(shape=(None, None), dtype=tf.float32, name='embedding_4_input'), name='embedding_4_input', description=\"created by layer 'embedding_4_input'\"), but it was called on an input with incompatible shape (None,).\n"
     ]
    },
    {
     "name": "stdout",
     "output_type": "stream",
     "text": [
      "WARNING:tensorflow:Model was constructed with shape (None, None) for input KerasTensor(type_spec=TensorSpec(shape=(None, None), dtype=tf.float32, name='embedding_7_input'), name='embedding_7_input', description=\"created by layer 'embedding_7_input'\"), but it was called on an input with incompatible shape (None,).\n"
     ]
    },
    {
     "name": "stderr",
     "output_type": "stream",
     "text": [
      "WARNING:tensorflow:Model was constructed with shape (None, None) for input KerasTensor(type_spec=TensorSpec(shape=(None, None), dtype=tf.float32, name='embedding_7_input'), name='embedding_7_input', description=\"created by layer 'embedding_7_input'\"), but it was called on an input with incompatible shape (None,).\n"
     ]
    },
    {
     "name": "stdout",
     "output_type": "stream",
     "text": [
      "WARNING:tensorflow:Model was constructed with shape (None, None) for input KerasTensor(type_spec=TensorSpec(shape=(None, None), dtype=tf.float32, name='embedding_8_input'), name='embedding_8_input', description=\"created by layer 'embedding_8_input'\"), but it was called on an input with incompatible shape (None,).\n"
     ]
    },
    {
     "name": "stderr",
     "output_type": "stream",
     "text": [
      "WARNING:tensorflow:Model was constructed with shape (None, None) for input KerasTensor(type_spec=TensorSpec(shape=(None, None), dtype=tf.float32, name='embedding_8_input'), name='embedding_8_input', description=\"created by layer 'embedding_8_input'\"), but it was called on an input with incompatible shape (None,).\n"
     ]
    },
    {
     "name": "stdout",
     "output_type": "stream",
     "text": [
      "WARNING:tensorflow:Model was constructed with shape (None, None) for input KerasTensor(type_spec=TensorSpec(shape=(None, None), dtype=tf.float32, name='embedding_input'), name='embedding_input', description=\"created by layer 'embedding_input'\"), but it was called on an input with incompatible shape (None,).\n"
     ]
    },
    {
     "name": "stderr",
     "output_type": "stream",
     "text": [
      "WARNING:tensorflow:Model was constructed with shape (None, None) for input KerasTensor(type_spec=TensorSpec(shape=(None, None), dtype=tf.float32, name='embedding_input'), name='embedding_input', description=\"created by layer 'embedding_input'\"), but it was called on an input with incompatible shape (None,).\n"
     ]
    },
    {
     "name": "stdout",
     "output_type": "stream",
     "text": [
      "WARNING:tensorflow:Model was constructed with shape (None, None) for input KerasTensor(type_spec=TensorSpec(shape=(None, None), dtype=tf.float32, name='embedding_1_input'), name='embedding_1_input', description=\"created by layer 'embedding_1_input'\"), but it was called on an input with incompatible shape (None,).\n"
     ]
    },
    {
     "name": "stderr",
     "output_type": "stream",
     "text": [
      "WARNING:tensorflow:Model was constructed with shape (None, None) for input KerasTensor(type_spec=TensorSpec(shape=(None, None), dtype=tf.float32, name='embedding_1_input'), name='embedding_1_input', description=\"created by layer 'embedding_1_input'\"), but it was called on an input with incompatible shape (None,).\n"
     ]
    },
    {
     "name": "stdout",
     "output_type": "stream",
     "text": [
      "WARNING:tensorflow:Model was constructed with shape (None, None) for input KerasTensor(type_spec=TensorSpec(shape=(None, None), dtype=tf.float32, name='embedding_2_input'), name='embedding_2_input', description=\"created by layer 'embedding_2_input'\"), but it was called on an input with incompatible shape (None,).\n"
     ]
    },
    {
     "name": "stderr",
     "output_type": "stream",
     "text": [
      "WARNING:tensorflow:Model was constructed with shape (None, None) for input KerasTensor(type_spec=TensorSpec(shape=(None, None), dtype=tf.float32, name='embedding_2_input'), name='embedding_2_input', description=\"created by layer 'embedding_2_input'\"), but it was called on an input with incompatible shape (None,).\n"
     ]
    },
    {
     "name": "stdout",
     "output_type": "stream",
     "text": [
      "WARNING:tensorflow:Model was constructed with shape (None, None) for input KerasTensor(type_spec=TensorSpec(shape=(None, None), dtype=tf.float32, name='embedding_3_input'), name='embedding_3_input', description=\"created by layer 'embedding_3_input'\"), but it was called on an input with incompatible shape (None,).\n"
     ]
    },
    {
     "name": "stderr",
     "output_type": "stream",
     "text": [
      "WARNING:tensorflow:Model was constructed with shape (None, None) for input KerasTensor(type_spec=TensorSpec(shape=(None, None), dtype=tf.float32, name='embedding_3_input'), name='embedding_3_input', description=\"created by layer 'embedding_3_input'\"), but it was called on an input with incompatible shape (None,).\n"
     ]
    },
    {
     "name": "stdout",
     "output_type": "stream",
     "text": [
      "WARNING:tensorflow:Model was constructed with shape (None, None) for input KerasTensor(type_spec=TensorSpec(shape=(None, None), dtype=tf.float32, name='embedding_4_input'), name='embedding_4_input', description=\"created by layer 'embedding_4_input'\"), but it was called on an input with incompatible shape (None,).\n"
     ]
    },
    {
     "name": "stderr",
     "output_type": "stream",
     "text": [
      "WARNING:tensorflow:Model was constructed with shape (None, None) for input KerasTensor(type_spec=TensorSpec(shape=(None, None), dtype=tf.float32, name='embedding_4_input'), name='embedding_4_input', description=\"created by layer 'embedding_4_input'\"), but it was called on an input with incompatible shape (None,).\n"
     ]
    },
    {
     "name": "stdout",
     "output_type": "stream",
     "text": [
      "WARNING:tensorflow:Model was constructed with shape (None, None) for input KerasTensor(type_spec=TensorSpec(shape=(None, None), dtype=tf.float32, name='embedding_7_input'), name='embedding_7_input', description=\"created by layer 'embedding_7_input'\"), but it was called on an input with incompatible shape (None,).\n"
     ]
    },
    {
     "name": "stderr",
     "output_type": "stream",
     "text": [
      "WARNING:tensorflow:Model was constructed with shape (None, None) for input KerasTensor(type_spec=TensorSpec(shape=(None, None), dtype=tf.float32, name='embedding_7_input'), name='embedding_7_input', description=\"created by layer 'embedding_7_input'\"), but it was called on an input with incompatible shape (None,).\n"
     ]
    },
    {
     "name": "stdout",
     "output_type": "stream",
     "text": [
      "WARNING:tensorflow:Model was constructed with shape (None, None) for input KerasTensor(type_spec=TensorSpec(shape=(None, None), dtype=tf.float32, name='embedding_8_input'), name='embedding_8_input', description=\"created by layer 'embedding_8_input'\"), but it was called on an input with incompatible shape (None,).\n"
     ]
    },
    {
     "name": "stderr",
     "output_type": "stream",
     "text": [
      "WARNING:tensorflow:Model was constructed with shape (None, None) for input KerasTensor(type_spec=TensorSpec(shape=(None, None), dtype=tf.float32, name='embedding_8_input'), name='embedding_8_input', description=\"created by layer 'embedding_8_input'\"), but it was called on an input with incompatible shape (None,).\n"
     ]
    },
    {
     "name": "stdout",
     "output_type": "stream",
     "text": [
      "WARNING:tensorflow:Model was constructed with shape (None, None) for input KerasTensor(type_spec=TensorSpec(shape=(None, None), dtype=tf.float32, name='embedding_input'), name='embedding_input', description=\"created by layer 'embedding_input'\"), but it was called on an input with incompatible shape (None,).\n"
     ]
    },
    {
     "name": "stderr",
     "output_type": "stream",
     "text": [
      "WARNING:tensorflow:Model was constructed with shape (None, None) for input KerasTensor(type_spec=TensorSpec(shape=(None, None), dtype=tf.float32, name='embedding_input'), name='embedding_input', description=\"created by layer 'embedding_input'\"), but it was called on an input with incompatible shape (None,).\n"
     ]
    },
    {
     "name": "stdout",
     "output_type": "stream",
     "text": [
      "WARNING:tensorflow:Model was constructed with shape (None, None) for input KerasTensor(type_spec=TensorSpec(shape=(None, None), dtype=tf.float32, name='embedding_1_input'), name='embedding_1_input', description=\"created by layer 'embedding_1_input'\"), but it was called on an input with incompatible shape (None,).\n"
     ]
    },
    {
     "name": "stderr",
     "output_type": "stream",
     "text": [
      "WARNING:tensorflow:Model was constructed with shape (None, None) for input KerasTensor(type_spec=TensorSpec(shape=(None, None), dtype=tf.float32, name='embedding_1_input'), name='embedding_1_input', description=\"created by layer 'embedding_1_input'\"), but it was called on an input with incompatible shape (None,).\n"
     ]
    },
    {
     "name": "stdout",
     "output_type": "stream",
     "text": [
      "WARNING:tensorflow:Model was constructed with shape (None, None) for input KerasTensor(type_spec=TensorSpec(shape=(None, None), dtype=tf.float32, name='embedding_2_input'), name='embedding_2_input', description=\"created by layer 'embedding_2_input'\"), but it was called on an input with incompatible shape (None,).\n"
     ]
    },
    {
     "name": "stderr",
     "output_type": "stream",
     "text": [
      "WARNING:tensorflow:Model was constructed with shape (None, None) for input KerasTensor(type_spec=TensorSpec(shape=(None, None), dtype=tf.float32, name='embedding_2_input'), name='embedding_2_input', description=\"created by layer 'embedding_2_input'\"), but it was called on an input with incompatible shape (None,).\n"
     ]
    },
    {
     "name": "stdout",
     "output_type": "stream",
     "text": [
      "WARNING:tensorflow:Model was constructed with shape (None, None) for input KerasTensor(type_spec=TensorSpec(shape=(None, None), dtype=tf.float32, name='embedding_3_input'), name='embedding_3_input', description=\"created by layer 'embedding_3_input'\"), but it was called on an input with incompatible shape (None,).\n"
     ]
    },
    {
     "name": "stderr",
     "output_type": "stream",
     "text": [
      "WARNING:tensorflow:Model was constructed with shape (None, None) for input KerasTensor(type_spec=TensorSpec(shape=(None, None), dtype=tf.float32, name='embedding_3_input'), name='embedding_3_input', description=\"created by layer 'embedding_3_input'\"), but it was called on an input with incompatible shape (None,).\n"
     ]
    },
    {
     "name": "stdout",
     "output_type": "stream",
     "text": [
      "WARNING:tensorflow:Model was constructed with shape (None, None) for input KerasTensor(type_spec=TensorSpec(shape=(None, None), dtype=tf.float32, name='embedding_4_input'), name='embedding_4_input', description=\"created by layer 'embedding_4_input'\"), but it was called on an input with incompatible shape (None,).\n"
     ]
    },
    {
     "name": "stderr",
     "output_type": "stream",
     "text": [
      "WARNING:tensorflow:Model was constructed with shape (None, None) for input KerasTensor(type_spec=TensorSpec(shape=(None, None), dtype=tf.float32, name='embedding_4_input'), name='embedding_4_input', description=\"created by layer 'embedding_4_input'\"), but it was called on an input with incompatible shape (None,).\n"
     ]
    },
    {
     "name": "stdout",
     "output_type": "stream",
     "text": [
      "WARNING:tensorflow:Model was constructed with shape (None, None) for input KerasTensor(type_spec=TensorSpec(shape=(None, None), dtype=tf.float32, name='embedding_7_input'), name='embedding_7_input', description=\"created by layer 'embedding_7_input'\"), but it was called on an input with incompatible shape (None,).\n"
     ]
    },
    {
     "name": "stderr",
     "output_type": "stream",
     "text": [
      "WARNING:tensorflow:Model was constructed with shape (None, None) for input KerasTensor(type_spec=TensorSpec(shape=(None, None), dtype=tf.float32, name='embedding_7_input'), name='embedding_7_input', description=\"created by layer 'embedding_7_input'\"), but it was called on an input with incompatible shape (None,).\n"
     ]
    },
    {
     "name": "stdout",
     "output_type": "stream",
     "text": [
      "WARNING:tensorflow:Model was constructed with shape (None, None) for input KerasTensor(type_spec=TensorSpec(shape=(None, None), dtype=tf.float32, name='embedding_8_input'), name='embedding_8_input', description=\"created by layer 'embedding_8_input'\"), but it was called on an input with incompatible shape (None,).\n"
     ]
    },
    {
     "name": "stderr",
     "output_type": "stream",
     "text": [
      "WARNING:tensorflow:Model was constructed with shape (None, None) for input KerasTensor(type_spec=TensorSpec(shape=(None, None), dtype=tf.float32, name='embedding_8_input'), name='embedding_8_input', description=\"created by layer 'embedding_8_input'\"), but it was called on an input with incompatible shape (None,).\n"
     ]
    },
    {
     "name": "stdout",
     "output_type": "stream",
     "text": [
      "WARNING:tensorflow:Model was constructed with shape (None, None) for input KerasTensor(type_spec=TensorSpec(shape=(None, None), dtype=tf.float32, name='embedding_input'), name='embedding_input', description=\"created by layer 'embedding_input'\"), but it was called on an input with incompatible shape (None,).\n"
     ]
    },
    {
     "name": "stderr",
     "output_type": "stream",
     "text": [
      "WARNING:tensorflow:Model was constructed with shape (None, None) for input KerasTensor(type_spec=TensorSpec(shape=(None, None), dtype=tf.float32, name='embedding_input'), name='embedding_input', description=\"created by layer 'embedding_input'\"), but it was called on an input with incompatible shape (None,).\n"
     ]
    },
    {
     "name": "stdout",
     "output_type": "stream",
     "text": [
      "WARNING:tensorflow:Model was constructed with shape (None, None) for input KerasTensor(type_spec=TensorSpec(shape=(None, None), dtype=tf.float32, name='embedding_1_input'), name='embedding_1_input', description=\"created by layer 'embedding_1_input'\"), but it was called on an input with incompatible shape (None,).\n"
     ]
    },
    {
     "name": "stderr",
     "output_type": "stream",
     "text": [
      "WARNING:tensorflow:Model was constructed with shape (None, None) for input KerasTensor(type_spec=TensorSpec(shape=(None, None), dtype=tf.float32, name='embedding_1_input'), name='embedding_1_input', description=\"created by layer 'embedding_1_input'\"), but it was called on an input with incompatible shape (None,).\n"
     ]
    },
    {
     "name": "stdout",
     "output_type": "stream",
     "text": [
      "WARNING:tensorflow:Model was constructed with shape (None, None) for input KerasTensor(type_spec=TensorSpec(shape=(None, None), dtype=tf.float32, name='embedding_2_input'), name='embedding_2_input', description=\"created by layer 'embedding_2_input'\"), but it was called on an input with incompatible shape (None,).\n"
     ]
    },
    {
     "name": "stderr",
     "output_type": "stream",
     "text": [
      "WARNING:tensorflow:Model was constructed with shape (None, None) for input KerasTensor(type_spec=TensorSpec(shape=(None, None), dtype=tf.float32, name='embedding_2_input'), name='embedding_2_input', description=\"created by layer 'embedding_2_input'\"), but it was called on an input with incompatible shape (None,).\n"
     ]
    },
    {
     "name": "stdout",
     "output_type": "stream",
     "text": [
      "WARNING:tensorflow:Model was constructed with shape (None, None) for input KerasTensor(type_spec=TensorSpec(shape=(None, None), dtype=tf.float32, name='embedding_3_input'), name='embedding_3_input', description=\"created by layer 'embedding_3_input'\"), but it was called on an input with incompatible shape (None,).\n"
     ]
    },
    {
     "name": "stderr",
     "output_type": "stream",
     "text": [
      "WARNING:tensorflow:Model was constructed with shape (None, None) for input KerasTensor(type_spec=TensorSpec(shape=(None, None), dtype=tf.float32, name='embedding_3_input'), name='embedding_3_input', description=\"created by layer 'embedding_3_input'\"), but it was called on an input with incompatible shape (None,).\n"
     ]
    },
    {
     "name": "stdout",
     "output_type": "stream",
     "text": [
      "WARNING:tensorflow:Model was constructed with shape (None, None) for input KerasTensor(type_spec=TensorSpec(shape=(None, None), dtype=tf.float32, name='embedding_4_input'), name='embedding_4_input', description=\"created by layer 'embedding_4_input'\"), but it was called on an input with incompatible shape (None,).\n"
     ]
    },
    {
     "name": "stderr",
     "output_type": "stream",
     "text": [
      "WARNING:tensorflow:Model was constructed with shape (None, None) for input KerasTensor(type_spec=TensorSpec(shape=(None, None), dtype=tf.float32, name='embedding_4_input'), name='embedding_4_input', description=\"created by layer 'embedding_4_input'\"), but it was called on an input with incompatible shape (None,).\n"
     ]
    },
    {
     "name": "stdout",
     "output_type": "stream",
     "text": [
      "WARNING:tensorflow:Model was constructed with shape (None, None) for input KerasTensor(type_spec=TensorSpec(shape=(None, None), dtype=tf.float32, name='embedding_7_input'), name='embedding_7_input', description=\"created by layer 'embedding_7_input'\"), but it was called on an input with incompatible shape (None,).\n"
     ]
    },
    {
     "name": "stderr",
     "output_type": "stream",
     "text": [
      "WARNING:tensorflow:Model was constructed with shape (None, None) for input KerasTensor(type_spec=TensorSpec(shape=(None, None), dtype=tf.float32, name='embedding_7_input'), name='embedding_7_input', description=\"created by layer 'embedding_7_input'\"), but it was called on an input with incompatible shape (None,).\n"
     ]
    },
    {
     "name": "stdout",
     "output_type": "stream",
     "text": [
      "WARNING:tensorflow:Model was constructed with shape (None, None) for input KerasTensor(type_spec=TensorSpec(shape=(None, None), dtype=tf.float32, name='embedding_8_input'), name='embedding_8_input', description=\"created by layer 'embedding_8_input'\"), but it was called on an input with incompatible shape (None,).\n"
     ]
    },
    {
     "name": "stderr",
     "output_type": "stream",
     "text": [
      "WARNING:tensorflow:Model was constructed with shape (None, None) for input KerasTensor(type_spec=TensorSpec(shape=(None, None), dtype=tf.float32, name='embedding_8_input'), name='embedding_8_input', description=\"created by layer 'embedding_8_input'\"), but it was called on an input with incompatible shape (None,).\n"
     ]
    },
    {
     "name": "stdout",
     "output_type": "stream",
     "text": [
      "5897/5897 [==============================] - 32s 5ms/step - loss: 0.6793\n",
      "Epoch 2/5\n",
      "5897/5897 [==============================] - 29s 5ms/step - loss: 0.5614\n",
      "Epoch 3/5\n",
      "5897/5897 [==============================] - 30s 5ms/step - loss: 0.5410\n",
      "Epoch 4/5\n",
      "5897/5897 [==============================] - 35s 6ms/step - loss: 0.5252\n",
      "Epoch 5/5\n",
      "5897/5897 [==============================] - 69s 12ms/step - loss: 0.5146\n"
     ]
    },
    {
     "data": {
      "text/plain": [
       "<keras.callbacks.History at 0x7f972b9056d8>"
      ]
     },
     "execution_count": 97,
     "metadata": {},
     "output_type": "execute_result"
    }
   ],
   "source": [
    "siamese_model.fit({\n",
    "    \"anchor\" : anchor,\n",
    "    \"positive\" : positive,\n",
    "    \"negative\" : negative\n",
    "},\n",
    "epochs = 5\n",
    ")"
   ]
  },
  {
   "cell_type": "code",
   "execution_count": null,
   "id": "6f53a297",
   "metadata": {},
   "outputs": [],
   "source": []
  }
 ],
 "metadata": {
  "kernelspec": {
   "display_name": "Python 3",
   "language": "python",
   "name": "python3"
  },
  "language_info": {
   "codemirror_mode": {
    "name": "ipython",
    "version": 3
   },
   "file_extension": ".py",
   "mimetype": "text/x-python",
   "name": "python",
   "nbconvert_exporter": "python",
   "pygments_lexer": "ipython3",
   "version": "3.6.13"
  }
 },
 "nbformat": 4,
 "nbformat_minor": 5
}
