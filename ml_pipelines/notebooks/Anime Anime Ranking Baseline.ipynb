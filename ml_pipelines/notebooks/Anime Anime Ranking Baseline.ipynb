{
 "cells": [
  {
   "cell_type": "code",
   "execution_count": 1,
   "id": "759fbc3b",
   "metadata": {},
   "outputs": [],
   "source": [
    "import os\n",
    "import sys\n",
    "import argparse\n",
    "import numpy as np\n",
    "import pandas as pd\n",
    "import tensorflow as tf\n",
    "from google.cloud import bigquery"
   ]
  },
  {
   "cell_type": "code",
   "execution_count": 2,
   "id": "c853ea73",
   "metadata": {},
   "outputs": [],
   "source": [
    "sys.path.append(os.path.abspath(\"..\"))"
   ]
  },
  {
   "cell_type": "code",
   "execution_count": 3,
   "id": "e7b226a6",
   "metadata": {},
   "outputs": [],
   "source": [
    "from utils.bq_queries.anime_anime_data_queries import anime_anime_pair_ranking_query"
   ]
  },
  {
   "cell_type": "code",
   "execution_count": 4,
   "id": "37837c5e",
   "metadata": {},
   "outputs": [],
   "source": [
    "def load_big_query_data(query):\n",
    "    client = bigquery.Client(project=\"anime-rec-dev\")\n",
    "    dataset_ref = client.dataset(\"processed_area\")\n",
    "    job_config = bigquery.QueryJobConfig()\n",
    "    query_job = client.query(query, job_config=job_config)\n",
    "    data = query_job.to_dataframe()\n",
    "    return data"
   ]
  },
  {
   "cell_type": "markdown",
   "id": "eead43bd",
   "metadata": {},
   "source": [
    "# Pair ranking data"
   ]
  },
  {
   "cell_type": "code",
   "execution_count": 5,
   "id": "a2701334",
   "metadata": {},
   "outputs": [],
   "source": [
    "val_data = load_big_query_data(anime_anime_pair_ranking_query('VAL'))"
   ]
  },
  {
   "cell_type": "code",
   "execution_count": 6,
   "id": "72729550",
   "metadata": {},
   "outputs": [
    {
     "data": {
      "text/html": [
       "<div>\n",
       "<style scoped>\n",
       "    .dataframe tbody tr th:only-of-type {\n",
       "        vertical-align: middle;\n",
       "    }\n",
       "\n",
       "    .dataframe tbody tr th {\n",
       "        vertical-align: top;\n",
       "    }\n",
       "\n",
       "    .dataframe thead th {\n",
       "        text-align: right;\n",
       "    }\n",
       "</style>\n",
       "<table border=\"1\" class=\"dataframe\">\n",
       "  <thead>\n",
       "    <tr style=\"text-align: right;\">\n",
       "      <th></th>\n",
       "      <th>anchor_anime</th>\n",
       "      <th>rel_anime_1</th>\n",
       "      <th>rel_anime_2</th>\n",
       "      <th>label</th>\n",
       "    </tr>\n",
       "  </thead>\n",
       "  <tbody>\n",
       "    <tr>\n",
       "      <th>0</th>\n",
       "      <td>9926</td>\n",
       "      <td>2034</td>\n",
       "      <td>6045</td>\n",
       "      <td>0</td>\n",
       "    </tr>\n",
       "    <tr>\n",
       "      <th>1</th>\n",
       "      <td>9926</td>\n",
       "      <td>2034</td>\n",
       "      <td>11757</td>\n",
       "      <td>0</td>\n",
       "    </tr>\n",
       "    <tr>\n",
       "      <th>2</th>\n",
       "      <td>9926</td>\n",
       "      <td>2034</td>\n",
       "      <td>243</td>\n",
       "      <td>0</td>\n",
       "    </tr>\n",
       "    <tr>\n",
       "      <th>3</th>\n",
       "      <td>9926</td>\n",
       "      <td>9941</td>\n",
       "      <td>11123</td>\n",
       "      <td>0</td>\n",
       "    </tr>\n",
       "    <tr>\n",
       "      <th>4</th>\n",
       "      <td>9926</td>\n",
       "      <td>9941</td>\n",
       "      <td>853</td>\n",
       "      <td>0</td>\n",
       "    </tr>\n",
       "  </tbody>\n",
       "</table>\n",
       "</div>"
      ],
      "text/plain": [
       "  anchor_anime rel_anime_1 rel_anime_2  label\n",
       "0         9926        2034        6045      0\n",
       "1         9926        2034       11757      0\n",
       "2         9926        2034         243      0\n",
       "3         9926        9941       11123      0\n",
       "4         9926        9941         853      0"
      ]
     },
     "execution_count": 6,
     "metadata": {},
     "output_type": "execute_result"
    }
   ],
   "source": [
    "val_data.head()"
   ]
  },
  {
   "cell_type": "code",
   "execution_count": 7,
   "id": "a99d6fc9",
   "metadata": {},
   "outputs": [
    {
     "data": {
      "text/plain": [
       "(4368989, 4)"
      ]
     },
     "execution_count": 7,
     "metadata": {},
     "output_type": "execute_result"
    }
   ],
   "source": [
    "val_data.shape"
   ]
  },
  {
   "cell_type": "code",
   "execution_count": 8,
   "id": "bc5f15a8",
   "metadata": {},
   "outputs": [],
   "source": [
    "anime_data = load_big_query_data(\"SELECT anime_id, score FROM `anime-rec-dev.processed_area.anime`\")"
   ]
  },
  {
   "cell_type": "code",
   "execution_count": 9,
   "id": "d0d902a9",
   "metadata": {},
   "outputs": [],
   "source": [
    "anime_data = anime_data.fillna(0.0)"
   ]
  },
  {
   "cell_type": "code",
   "execution_count": 10,
   "id": "3aa3ecd4",
   "metadata": {},
   "outputs": [
    {
     "data": {
      "text/html": [
       "<div>\n",
       "<style scoped>\n",
       "    .dataframe tbody tr th:only-of-type {\n",
       "        vertical-align: middle;\n",
       "    }\n",
       "\n",
       "    .dataframe tbody tr th {\n",
       "        vertical-align: top;\n",
       "    }\n",
       "\n",
       "    .dataframe thead th {\n",
       "        text-align: right;\n",
       "    }\n",
       "</style>\n",
       "<table border=\"1\" class=\"dataframe\">\n",
       "  <thead>\n",
       "    <tr style=\"text-align: right;\">\n",
       "      <th></th>\n",
       "      <th>anime_id</th>\n",
       "      <th>score</th>\n",
       "    </tr>\n",
       "  </thead>\n",
       "  <tbody>\n",
       "    <tr>\n",
       "      <th>0</th>\n",
       "      <td>7016</td>\n",
       "      <td>6.78</td>\n",
       "    </tr>\n",
       "    <tr>\n",
       "      <th>1</th>\n",
       "      <td>10507</td>\n",
       "      <td>6.96</td>\n",
       "    </tr>\n",
       "    <tr>\n",
       "      <th>2</th>\n",
       "      <td>4075</td>\n",
       "      <td>6.84</td>\n",
       "    </tr>\n",
       "    <tr>\n",
       "      <th>3</th>\n",
       "      <td>36444</td>\n",
       "      <td>6.81</td>\n",
       "    </tr>\n",
       "    <tr>\n",
       "      <th>4</th>\n",
       "      <td>6172</td>\n",
       "      <td>7.64</td>\n",
       "    </tr>\n",
       "  </tbody>\n",
       "</table>\n",
       "</div>"
      ],
      "text/plain": [
       "  anime_id  score\n",
       "0     7016   6.78\n",
       "1    10507   6.96\n",
       "2     4075   6.84\n",
       "3    36444   6.81\n",
       "4     6172   7.64"
      ]
     },
     "execution_count": 10,
     "metadata": {},
     "output_type": "execute_result"
    }
   ],
   "source": [
    "anime_data.head()"
   ]
  },
  {
   "cell_type": "code",
   "execution_count": 11,
   "id": "4f78b2bb",
   "metadata": {},
   "outputs": [
    {
     "data": {
      "text/plain": [
       "(9192, 2)"
      ]
     },
     "execution_count": 11,
     "metadata": {},
     "output_type": "execute_result"
    }
   ],
   "source": [
    "anime_data.shape"
   ]
  },
  {
   "cell_type": "code",
   "execution_count": 12,
   "id": "c307b1be",
   "metadata": {},
   "outputs": [],
   "source": [
    "val_ds = (\n",
    "    tf.data.Dataset.from_tensor_slices(\n",
    "        (\n",
    "            {\n",
    "                'anchor_anime' : tf.cast(val_data['anchor_anime'], tf.string),\n",
    "                'rel_anime_1' : tf.cast(val_data['rel_anime_1'], tf.string),\n",
    "                'rel_anime_2' : tf.cast(val_data['rel_anime_2'], tf.string),\n",
    "            },\n",
    "            val_data['label']\n",
    "        )\n",
    "    )\n",
    ")\n",
    "val_ds = val_ds.batch(2048).cache()"
   ]
  },
  {
   "cell_type": "markdown",
   "id": "4fbb78b4",
   "metadata": {},
   "source": [
    "## Models"
   ]
  },
  {
   "cell_type": "code",
   "execution_count": 13,
   "id": "2f07457a",
   "metadata": {},
   "outputs": [],
   "source": [
    "class AnimeAverageRatingModel(tf.keras.Model):\n",
    "    def __init__(self, anime_ids, anime_scores):\n",
    "        super().__init__()\n",
    "        \n",
    "        self.ratings = tf.lookup.StaticHashTable(\n",
    "                tf.lookup.KeyValueTensorInitializer(anime_ids, anime_scores),\n",
    "                default_value=-1\n",
    "        )\n",
    "    \n",
    "    def call(self, features):\n",
    "\n",
    "        pred_ratings = self.ratings.lookup(features['rel_anime'])\n",
    "\n",
    "        return pred_ratings"
   ]
  },
  {
   "cell_type": "code",
   "execution_count": 14,
   "id": "c7238a32",
   "metadata": {},
   "outputs": [],
   "source": [
    "class AnimeAnimePairClassificationModel(tf.keras.Model):\n",
    "    '''\n",
    "        Classification model that trains the scoring model\n",
    "        This model takes as input three anime_ids and a label\n",
    "            anchor_anime : the initial anime\n",
    "            rel_anime_1 : first anime to be scored\n",
    "            rel_anime_2 : second anime to be score\n",
    "            label : 1 if rel_anime_1 is more relevant to anchor_anime than rel_anime_2\n",
    "                    0 else\n",
    "        Model computes the two scores and return\n",
    "        sigmoid(score1 - score2) as binary classification prediction\n",
    "        \n",
    "    '''\n",
    "    def __init__(self, anime_scoring_model):\n",
    "        super().__init__()\n",
    "\n",
    "        self.anime_scoring_model = anime_scoring_model\n",
    "\n",
    "    def call(self, data):\n",
    "\n",
    "        pred_score_1 = self.anime_scoring_model({\n",
    "            'anchor_anime' : data[\"anchor_anime\"],\n",
    "            'rel_anime' : data[\"rel_anime_1\"]\n",
    "        })\n",
    "\n",
    "        pred_score_2 = self.anime_scoring_model({\n",
    "            'anchor_anime' : data[\"anchor_anime\"],\n",
    "            'rel_anime' : data[\"rel_anime_2\"]\n",
    "        })\n",
    "\n",
    "        classification_score = tf.math.sigmoid(pred_score_1 - pred_score_2)\n",
    "        return classification_score"
   ]
  },
  {
   "cell_type": "code",
   "execution_count": 15,
   "id": "414c18db",
   "metadata": {},
   "outputs": [],
   "source": [
    "average_anime_scoring_model = AnimeAverageRatingModel(anime_data['anime_id'], anime_data['score'])"
   ]
  },
  {
   "cell_type": "code",
   "execution_count": 16,
   "id": "a7f1bac1",
   "metadata": {},
   "outputs": [
    {
     "data": {
      "text/plain": [
       "<tf.Tensor: shape=(1,), dtype=float64, numpy=array([6.78])>"
      ]
     },
     "execution_count": 16,
     "metadata": {},
     "output_type": "execute_result"
    }
   ],
   "source": [
    "average_anime_scoring_model({'anchor_anime' : tf.constant(['7016']), 'rel_anime' : tf.constant(['7016'])})"
   ]
  },
  {
   "cell_type": "code",
   "execution_count": 17,
   "id": "16d2b6b7",
   "metadata": {},
   "outputs": [],
   "source": [
    "anime_anime_pair_classification_model = AnimeAnimePairClassificationModel(average_anime_scoring_model)\n",
    "anime_anime_pair_classification_model.compile(\n",
    "        optimizer='adam',\n",
    "        loss='binary_crossentropy',\n",
    "        metrics=[\n",
    "            tf.keras.metrics.BinaryAccuracy(),\n",
    "            tf.keras.metrics.Precision(),\n",
    "            tf.keras.metrics.Recall(),\n",
    "            tf.keras.metrics.AUC()\n",
    "        ]\n",
    "    )"
   ]
  },
  {
   "cell_type": "code",
   "execution_count": 18,
   "id": "b8472ebf",
   "metadata": {},
   "outputs": [
    {
     "data": {
      "text/plain": [
       "<tf.Tensor: shape=(1,), dtype=float64, numpy=array([0.5])>"
      ]
     },
     "execution_count": 18,
     "metadata": {},
     "output_type": "execute_result"
    }
   ],
   "source": [
    "anime_anime_pair_classification_model(\n",
    "    {\n",
    "        'anchor_anime' : tf.constant(['7016']), \n",
    "        'rel_anime_1' : tf.constant(['7016']),\n",
    "        'rel_anime_2' : tf.constant(['7016']),\n",
    "    }\n",
    ")"
   ]
  },
  {
   "cell_type": "code",
   "execution_count": 19,
   "id": "b13477fc",
   "metadata": {},
   "outputs": [
    {
     "name": "stdout",
     "output_type": "stream",
     "text": [
      "2134/2134 [==============================] - 13s 6ms/step - loss: 0.7971 - binary_accuracy: 0.4986 - precision: 0.4975 - recall: 0.4973 - auc: 0.4971\n"
     ]
    },
    {
     "data": {
      "text/plain": [
       "[0.7970818281173706,\n",
       " 0.49863433837890625,\n",
       " 0.49750518798828125,\n",
       " 0.49726349115371704,\n",
       " 0.49713659286499023]"
      ]
     },
     "execution_count": 19,
     "metadata": {},
     "output_type": "execute_result"
    }
   ],
   "source": [
    "anime_anime_pair_classification_model.evaluate(val_ds)"
   ]
  },
  {
   "cell_type": "code",
   "execution_count": null,
   "id": "23d5e5ab",
   "metadata": {},
   "outputs": [],
   "source": []
  }
 ],
 "metadata": {
  "kernelspec": {
   "display_name": "Python [conda env:dglke]",
   "language": "python",
   "name": "conda-env-dglke-py"
  },
  "language_info": {
   "codemirror_mode": {
    "name": "ipython",
    "version": 3
   },
   "file_extension": ".py",
   "mimetype": "text/x-python",
   "name": "python",
   "nbconvert_exporter": "python",
   "pygments_lexer": "ipython3",
   "version": "3.6.13"
  }
 },
 "nbformat": 4,
 "nbformat_minor": 5
}
