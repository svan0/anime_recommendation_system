{
 "cells": [
  {
   "cell_type": "code",
   "execution_count": 1,
   "id": "c6770313",
   "metadata": {},
   "outputs": [],
   "source": [
    "import os\n",
    "import sys\n",
    "import argparse\n",
    "import numpy as np\n",
    "import pandas as pd\n",
    "import tensorflow as tf\n",
    "import tensorflow_recommenders as tfrs\n",
    "from google.cloud import bigquery"
   ]
  },
  {
   "cell_type": "code",
   "execution_count": 2,
   "id": "94312088",
   "metadata": {},
   "outputs": [],
   "source": [
    "sys.path.append(os.path.abspath(\"..\"))"
   ]
  },
  {
   "cell_type": "code",
   "execution_count": 3,
   "id": "7fa840c3",
   "metadata": {},
   "outputs": [],
   "source": [
    "from utils.bq_queries.user_anime_data_queries import user_anime_retrieval_query"
   ]
  },
  {
   "cell_type": "code",
   "execution_count": 4,
   "id": "93692651",
   "metadata": {},
   "outputs": [],
   "source": [
    "def load_big_query_data(query):\n",
    "    client = bigquery.Client(project=\"anime-rec-dev\")\n",
    "    dataset_ref = client.dataset(\"processed_area\")\n",
    "    job_config = bigquery.QueryJobConfig()\n",
    "    query_job = client.query(query, job_config=job_config)\n",
    "    data = query_job.to_dataframe()\n",
    "    return data"
   ]
  },
  {
   "cell_type": "markdown",
   "id": "4f0496ce",
   "metadata": {},
   "source": [
    "# Anime Genre"
   ]
  },
  {
   "cell_type": "code",
   "execution_count": 5,
   "id": "3202947d",
   "metadata": {},
   "outputs": [],
   "source": [
    "anime_genre_vocab = [\n",
    "    'Action',\n",
    "    'Adventure',\n",
    "    'Avant Garde',\n",
    "    'Comedy',\n",
    "    'Demons',\n",
    "    'Drama',\n",
    "    'Ecchi',\n",
    "    'Fantasy',\n",
    "    'Game',\n",
    "    'Gourmet',\n",
    "    'Harem',\n",
    "    'Historical',\n",
    "    'Horror',\n",
    "    'Kids',\n",
    "    'Martial Arts',\n",
    "    'Mecha',\n",
    "    'Military',\n",
    "    'Mystery',\n",
    "    'Parody',\n",
    "    'Police',\n",
    "    'Psychological',\n",
    "    'Romance',\n",
    "    'Samurai',\n",
    "    'School',\n",
    "    'Sci-Fi',\n",
    "    'Seinen',\n",
    "    'Shoujo',\n",
    "    'Shounen',\n",
    "    'Slice of Life',\n",
    "    'Space',\n",
    "    'Sports',\n",
    "    'Super Power',\n",
    "    'Supernatural',\n",
    "    'Suspense',\n",
    "    'Vampire'\n",
    "]"
   ]
  },
  {
   "cell_type": "code",
   "execution_count": 6,
   "id": "3d3da935",
   "metadata": {},
   "outputs": [],
   "source": [
    "anime_data = load_big_query_data(\"SELECT anime_id, genres FROM `anime-rec-dev.processed_area.anime`\")"
   ]
  },
  {
   "cell_type": "code",
   "execution_count": 7,
   "id": "046c36b6",
   "metadata": {},
   "outputs": [],
   "source": [
    "class AnimeMultiHotModel(tf.keras.Model):\n",
    "    def __init__(self,\n",
    "                unique_anime_ids,\n",
    "                multi_hot_feature,\n",
    "                vocabulary):\n",
    "        super().__init__()\n",
    "\n",
    "        self.anime_id_lookup_layer = tf.keras.layers.StringLookup(\n",
    "            vocabulary = unique_anime_ids, \n",
    "            num_oov_indices = 0,\n",
    "            name = 'anime_multihot_model_id_lookup'\n",
    "        )\n",
    "\n",
    "        multi_hot_feature = multi_hot_feature.apply(lambda x : self.__class__.multi_hot_same_shape(x, max_len=len(vocabulary)))\n",
    "        multi_hot_feature = list(multi_hot_feature)\n",
    "\n",
    "        multi_hot_layer = tf.keras.layers.StringLookup(vocabulary = vocabulary,\n",
    "                                                    output_mode = \"multi_hot\",\n",
    "                                                    num_oov_indices=1\n",
    "                                                    )\n",
    "        multi_hot_encodings = multi_hot_layer(multi_hot_feature)\n",
    "        multi_hot_encodings = multi_hot_encodings[:, 1:]\n",
    "        \n",
    "        num_animes = multi_hot_encodings.shape[0]\n",
    "        num_multi_hot_dims = multi_hot_encodings.shape[1]\n",
    "\n",
    "        self.multi_hot_encoding_layer = tf.keras.layers.Embedding(\n",
    "            num_animes,\n",
    "            num_multi_hot_dims,\n",
    "            embeddings_initializer=tf.keras.initializers.Constant(multi_hot_encodings),\n",
    "            trainable = False,\n",
    "            name = 'multi_hot_enconding_layer'\n",
    "        )\n",
    "    \n",
    "    def call(self, anime_id):\n",
    "        anime_idx = self.anime_id_lookup_layer(anime_id)\n",
    "        anime_multihot_encoding = self.multi_hot_encoding_layer(anime_idx)\n",
    "        return anime_multihot_encoding\n",
    "    \n",
    "    @staticmethod\n",
    "    def multi_hot_same_shape(list_entities, max_len = 30):\n",
    "        list_entities = list_entities[:max_len]\n",
    "        num_add = max_len - list_entities.shape[0]\n",
    "        return np.concatenate([list_entities , num_add * [\"[UNK]\"]])\n"
   ]
  },
  {
   "cell_type": "code",
   "execution_count": 8,
   "id": "ef41704e",
   "metadata": {},
   "outputs": [],
   "source": [
    "anime_genre_model = AnimeMultiHotModel(anime_data['anime_id'], anime_data['genres'], anime_genre_vocab)"
   ]
  },
  {
   "cell_type": "markdown",
   "id": "2ed0a822",
   "metadata": {},
   "source": [
    "# User Genres"
   ]
  },
  {
   "cell_type": "code",
   "execution_count": 9,
   "id": "3c15d6b3",
   "metadata": {},
   "outputs": [],
   "source": [
    "train_data = load_big_query_data(user_anime_retrieval_query('TRAIN'))"
   ]
  },
  {
   "cell_type": "code",
   "execution_count": 10,
   "id": "62059ae5",
   "metadata": {},
   "outputs": [
    {
     "data": {
      "text/html": [
       "<div>\n",
       "<style scoped>\n",
       "    .dataframe tbody tr th:only-of-type {\n",
       "        vertical-align: middle;\n",
       "    }\n",
       "\n",
       "    .dataframe tbody tr th {\n",
       "        vertical-align: top;\n",
       "    }\n",
       "\n",
       "    .dataframe thead th {\n",
       "        text-align: right;\n",
       "    }\n",
       "</style>\n",
       "<table border=\"1\" class=\"dataframe\">\n",
       "  <thead>\n",
       "    <tr style=\"text-align: right;\">\n",
       "      <th></th>\n",
       "      <th>user_id</th>\n",
       "      <th>anime_id</th>\n",
       "    </tr>\n",
       "  </thead>\n",
       "  <tbody>\n",
       "    <tr>\n",
       "      <th>0</th>\n",
       "      <td>gnoel</td>\n",
       "      <td>15771</td>\n",
       "    </tr>\n",
       "    <tr>\n",
       "      <th>1</th>\n",
       "      <td>gnoel</td>\n",
       "      <td>1216</td>\n",
       "    </tr>\n",
       "    <tr>\n",
       "      <th>2</th>\n",
       "      <td>gnoel</td>\n",
       "      <td>199</td>\n",
       "    </tr>\n",
       "    <tr>\n",
       "      <th>3</th>\n",
       "      <td>gnoel</td>\n",
       "      <td>6553</td>\n",
       "    </tr>\n",
       "    <tr>\n",
       "      <th>4</th>\n",
       "      <td>gnoel</td>\n",
       "      <td>10155</td>\n",
       "    </tr>\n",
       "  </tbody>\n",
       "</table>\n",
       "</div>"
      ],
      "text/plain": [
       "  user_id anime_id\n",
       "0   gnoel    15771\n",
       "1   gnoel     1216\n",
       "2   gnoel      199\n",
       "3   gnoel     6553\n",
       "4   gnoel    10155"
      ]
     },
     "execution_count": 10,
     "metadata": {},
     "output_type": "execute_result"
    }
   ],
   "source": [
    "train_data.head()"
   ]
  },
  {
   "cell_type": "code",
   "execution_count": 11,
   "id": "c952fa64",
   "metadata": {},
   "outputs": [
    {
     "data": {
      "text/plain": [
       "(36715669, 2)"
      ]
     },
     "execution_count": 11,
     "metadata": {},
     "output_type": "execute_result"
    }
   ],
   "source": [
    "train_data.shape"
   ]
  },
  {
   "cell_type": "code",
   "execution_count": 22,
   "id": "5b8c1308",
   "metadata": {},
   "outputs": [],
   "source": [
    "anime_id_ds = tf.data.Dataset.from_tensor_slices(train_data['anime_id']).batch(1024)"
   ]
  },
  {
   "cell_type": "code",
   "execution_count": 23,
   "id": "8e1188a4",
   "metadata": {},
   "outputs": [],
   "source": [
    "anime_genres = []\n",
    "for x in anime_id_ds:\n",
    "    anime_genres.append(anime_genre_model(x))\n",
    "anime_genres = np.concatenate(anime_genres)"
   ]
  },
  {
   "cell_type": "code",
   "execution_count": 29,
   "id": "7569a419",
   "metadata": {},
   "outputs": [],
   "source": [
    "train_data['anime_genre'] = list(tf.constant(anime_genres))\n",
    "user_data = train_data[['user_id', 'anime_genre']].groupby(by = 'user_id', as_index = False).agg({'anime_genre' : np.sum})\n",
    "user_data['anime_genre'] = user_data['anime_genre'].apply(lambda x : x / np.linalg.norm(x))\n",
    "user_genre_matrix = np.stack(user_data['anime_genre'], axis = 0)"
   ]
  },
  {
   "cell_type": "code",
   "execution_count": 30,
   "id": "3541d991",
   "metadata": {},
   "outputs": [],
   "source": [
    "user_id_lookup = tf.keras.layers.StringLookup(vocabulary = user_data['user_id'], num_oov_indices=0)\n",
    "user_genre_layer = tf.keras.layers.Embedding(\n",
    "    user_genre_matrix.shape[0],\n",
    "    user_genre_matrix.shape[1],\n",
    "    embeddings_initializer=tf.keras.initializers.Constant(user_genre_matrix),\n",
    "    trainable=False\n",
    ")\n",
    "user_genre_model = tf.keras.models.Sequential([user_id_lookup, user_genre_layer])"
   ]
  },
  {
   "cell_type": "code",
   "execution_count": 31,
   "id": "a21e4f75",
   "metadata": {},
   "outputs": [
    {
     "data": {
      "text/plain": [
       "<tf.Tensor: shape=(1, 35), dtype=float32, numpy=\n",
       "array([[0.42945725, 0.22254124, 0.00757587, 0.50000757, 0.05823952,\n",
       "        0.28314823, 0.08475507, 0.25805315, 0.02651555, 0.01231079,\n",
       "        0.06108047, 0.09422491, 0.04403476, 0.01373127, 0.02509508,\n",
       "        0.07291777, 0.05681904, 0.11837301, 0.03929984, 0.02178063,\n",
       "        0.04545523, 0.25473872, 0.03172396, 0.2017076 , 0.2012341 ,\n",
       "        0.12405491, 0.06865634, 0.25095078, 0.13825966, 0.02935651,\n",
       "        0.06060698, 0.08144063, 0.23295808, 0.01893968, 0.02651555]],\n",
       "      dtype=float32)>"
      ]
     },
     "execution_count": 31,
     "metadata": {},
     "output_type": "execute_result"
    }
   ],
   "source": [
    "user_genre_model(tf.constant(['GFotaku']))"
   ]
  },
  {
   "cell_type": "markdown",
   "id": "61783464",
   "metadata": {},
   "source": [
    "# Retrieval Data"
   ]
  },
  {
   "cell_type": "code",
   "execution_count": 32,
   "id": "698e868a",
   "metadata": {},
   "outputs": [],
   "source": [
    "val_data = load_big_query_data(user_anime_retrieval_query('VAL'))"
   ]
  },
  {
   "cell_type": "code",
   "execution_count": 33,
   "id": "ce44d4e1",
   "metadata": {},
   "outputs": [
    {
     "data": {
      "text/html": [
       "<div>\n",
       "<style scoped>\n",
       "    .dataframe tbody tr th:only-of-type {\n",
       "        vertical-align: middle;\n",
       "    }\n",
       "\n",
       "    .dataframe tbody tr th {\n",
       "        vertical-align: top;\n",
       "    }\n",
       "\n",
       "    .dataframe thead th {\n",
       "        text-align: right;\n",
       "    }\n",
       "</style>\n",
       "<table border=\"1\" class=\"dataframe\">\n",
       "  <thead>\n",
       "    <tr style=\"text-align: right;\">\n",
       "      <th></th>\n",
       "      <th>user_id</th>\n",
       "      <th>anime_id</th>\n",
       "    </tr>\n",
       "  </thead>\n",
       "  <tbody>\n",
       "    <tr>\n",
       "      <th>0</th>\n",
       "      <td>-Ackerman</td>\n",
       "      <td>35203</td>\n",
       "    </tr>\n",
       "    <tr>\n",
       "      <th>1</th>\n",
       "      <td>-Ackerman</td>\n",
       "      <td>34933</td>\n",
       "    </tr>\n",
       "    <tr>\n",
       "      <th>2</th>\n",
       "      <td>-Ackerman</td>\n",
       "      <td>34599</td>\n",
       "    </tr>\n",
       "    <tr>\n",
       "      <th>3</th>\n",
       "      <td>-Ackerman</td>\n",
       "      <td>34934</td>\n",
       "    </tr>\n",
       "    <tr>\n",
       "      <th>4</th>\n",
       "      <td>-Ackerman</td>\n",
       "      <td>34383</td>\n",
       "    </tr>\n",
       "  </tbody>\n",
       "</table>\n",
       "</div>"
      ],
      "text/plain": [
       "     user_id anime_id\n",
       "0  -Ackerman    35203\n",
       "1  -Ackerman    34933\n",
       "2  -Ackerman    34599\n",
       "3  -Ackerman    34934\n",
       "4  -Ackerman    34383"
      ]
     },
     "execution_count": 33,
     "metadata": {},
     "output_type": "execute_result"
    }
   ],
   "source": [
    "val_data.head()"
   ]
  },
  {
   "cell_type": "code",
   "execution_count": 34,
   "id": "cb6cbd50",
   "metadata": {},
   "outputs": [
    {
     "data": {
      "text/plain": [
       "(1719410, 2)"
      ]
     },
     "execution_count": 34,
     "metadata": {},
     "output_type": "execute_result"
    }
   ],
   "source": [
    "val_data.shape"
   ]
  },
  {
   "cell_type": "code",
   "execution_count": 35,
   "id": "fed5e168",
   "metadata": {},
   "outputs": [],
   "source": [
    "val_ds = (\n",
    "    tf.data.Dataset.from_tensor_slices(\n",
    "        (\n",
    "            {\n",
    "                'user_id' : tf.cast(val_data['user_id'], tf.string),\n",
    "                'anime_id' : tf.cast(val_data['anime_id'], tf.string),\n",
    "            }\n",
    "        )\n",
    "    )\n",
    ")\n",
    "val_ds = val_ds.batch(2048).cache()"
   ]
  },
  {
   "cell_type": "markdown",
   "id": "b0d994ba",
   "metadata": {},
   "source": [
    "# Retrieval Model"
   ]
  },
  {
   "cell_type": "code",
   "execution_count": 36,
   "id": "7fb84812",
   "metadata": {},
   "outputs": [],
   "source": [
    "class UserAnimeRetrievalModel(tfrs.Model):\n",
    "    '''\n",
    "        User Anime Retrieval model\n",
    "    '''\n",
    "    def __init__(self, user_model, anime_model, unique_anime_ids):\n",
    "        super().__init__()\n",
    "        self.user_model = user_model\n",
    "        self.anime_model = anime_model\n",
    "\n",
    "        animes_ds = tf.data.Dataset.from_tensor_slices(unique_anime_ids)\n",
    "        retrieval_metrics = tfrs.metrics.FactorizedTopK(\n",
    "            candidates=animes_ds.batch(128).map(self.anime_model)\n",
    "        )\n",
    "        self.task = tfrs.tasks.Retrieval(\n",
    "            metrics=retrieval_metrics\n",
    "        )\n",
    "\n",
    "    def compute_loss(self, features, training=False):\n",
    "        '''\n",
    "            Run retrieval task\n",
    "        '''\n",
    "        user_embeddings = self.user_model(features[\"user_id\"])\n",
    "        positive_anime_embeddings = self.anime_model(features[\"anime_id\"])\n",
    "\n",
    "        return self.task(user_embeddings, positive_anime_embeddings, compute_metrics=not training)\n"
   ]
  },
  {
   "cell_type": "code",
   "execution_count": 37,
   "id": "c34f2be4",
   "metadata": {},
   "outputs": [
    {
     "name": "stdout",
     "output_type": "stream",
     "text": [
      "840/840 [==============================] - 377s 447ms/step - factorized_top_k/top_1_categorical_accuracy: 8.2005e-04 - factorized_top_k/top_5_categorical_accuracy: 0.0022 - factorized_top_k/top_10_categorical_accuracy: 0.0040 - factorized_top_k/top_50_categorical_accuracy: 0.0198 - factorized_top_k/top_100_categorical_accuracy: 0.0388 - loss: 15610.9129 - regularization_loss: 0.0000e+00 - total_loss: 15610.9129\n",
      "{'factorized_top_k/top_1_categorical_accuracy': 0.0008200487354770303, 'factorized_top_k/top_5_categorical_accuracy': 0.0021809807512909174, 'factorized_top_k/top_10_categorical_accuracy': 0.004038013052195311, 'factorized_top_k/top_50_categorical_accuracy': 0.019764918833971024, 'factorized_top_k/top_100_categorical_accuracy': 0.038769111037254333, 'loss': 8032.95361328125, 'regularization_loss': 0, 'total_loss': 8032.95361328125}\n"
     ]
    }
   ],
   "source": [
    "genre_retrieval_model = UserAnimeRetrievalModel(user_genre_model, anime_genre_model, anime_data['anime_id'])\n",
    "genre_retrieval_model.compile()\n",
    "print(genre_retrieval_model.evaluate(val_ds, return_dict=True))"
   ]
  },
  {
   "cell_type": "code",
   "execution_count": null,
   "id": "938f1de6",
   "metadata": {},
   "outputs": [],
   "source": []
  }
 ],
 "metadata": {
  "kernelspec": {
   "display_name": "Python [conda env:dglke]",
   "language": "python",
   "name": "conda-env-dglke-py"
  },
  "language_info": {
   "codemirror_mode": {
    "name": "ipython",
    "version": 3
   },
   "file_extension": ".py",
   "mimetype": "text/x-python",
   "name": "python",
   "nbconvert_exporter": "python",
   "pygments_lexer": "ipython3",
   "version": "3.6.13"
  }
 },
 "nbformat": 4,
 "nbformat_minor": 5
}
