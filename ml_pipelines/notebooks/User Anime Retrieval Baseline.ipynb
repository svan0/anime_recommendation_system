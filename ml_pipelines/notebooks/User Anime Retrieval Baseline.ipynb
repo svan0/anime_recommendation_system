{
 "cells": [
  {
   "cell_type": "code",
   "execution_count": 2,
   "id": "c6770313",
   "metadata": {},
   "outputs": [],
   "source": [
    "import os\n",
    "import sys\n",
    "import argparse\n",
    "import numpy as np\n",
    "import pandas as pd\n",
    "import tensorflow as tf\n",
    "import tensorflow_recommenders as tfrs\n",
    "from google.cloud import bigquery"
   ]
  },
  {
   "cell_type": "code",
   "execution_count": 3,
   "id": "94312088",
   "metadata": {},
   "outputs": [],
   "source": [
    "sys.path.append(os.path.abspath(\"..\"))"
   ]
  },
  {
   "cell_type": "code",
   "execution_count": 4,
   "id": "7fa840c3",
   "metadata": {},
   "outputs": [],
   "source": [
    "from anime_rec_pkg.anime_rec.data.bq_queries.user_anime_ml_data_queries import user_anime_retrieval_query"
   ]
  },
  {
   "cell_type": "code",
   "execution_count": 5,
   "id": "93692651",
   "metadata": {},
   "outputs": [],
   "source": [
    "def load_big_query_data(query):\n",
    "    client = bigquery.Client(project=\"anime-rec-dev\")\n",
    "    dataset_ref = client.dataset(\"processed_area\")\n",
    "    job_config = bigquery.QueryJobConfig()\n",
    "    query_job = client.query(query, job_config=job_config)\n",
    "    data = query_job.to_dataframe()\n",
    "    return data"
   ]
  },
  {
   "cell_type": "markdown",
   "id": "4f0496ce",
   "metadata": {},
   "source": [
    "# Anime Genre"
   ]
  },
  {
   "cell_type": "code",
   "execution_count": 6,
   "id": "3202947d",
   "metadata": {},
   "outputs": [],
   "source": [
    "anime_genre_vocab = [\n",
    "    'Action',\n",
    "    'Adventure',\n",
    "    'Avant Garde',\n",
    "    'Comedy',\n",
    "    'Demons',\n",
    "    'Drama',\n",
    "    'Ecchi',\n",
    "    'Fantasy',\n",
    "    'Game',\n",
    "    'Gourmet',\n",
    "    'Harem',\n",
    "    'Historical',\n",
    "    'Horror',\n",
    "    'Kids',\n",
    "    'Martial Arts',\n",
    "    'Mecha',\n",
    "    'Military',\n",
    "    'Mystery',\n",
    "    'Parody',\n",
    "    'Police',\n",
    "    'Psychological',\n",
    "    'Romance',\n",
    "    'Samurai',\n",
    "    'School',\n",
    "    'Sci-Fi',\n",
    "    'Seinen',\n",
    "    'Shoujo',\n",
    "    'Shounen',\n",
    "    'Slice of Life',\n",
    "    'Space',\n",
    "    'Sports',\n",
    "    'Super Power',\n",
    "    'Supernatural',\n",
    "    'Suspense',\n",
    "    'Vampire'\n",
    "]"
   ]
  },
  {
   "cell_type": "code",
   "execution_count": 7,
   "id": "3d3da935",
   "metadata": {},
   "outputs": [],
   "source": [
    "anime_data = load_big_query_data(\"SELECT anime_id, genres FROM `anime-rec-dev.processed_area.anime`\")"
   ]
  },
  {
   "cell_type": "code",
   "execution_count": 8,
   "id": "046c36b6",
   "metadata": {},
   "outputs": [],
   "source": [
    "class AnimeMultiHotModel(tf.keras.Model):\n",
    "    def __init__(self,\n",
    "                unique_anime_ids,\n",
    "                multi_hot_feature,\n",
    "                vocabulary):\n",
    "        super().__init__()\n",
    "\n",
    "        self.anime_id_lookup_layer = tf.keras.layers.StringLookup(\n",
    "            vocabulary = unique_anime_ids, \n",
    "            num_oov_indices = 0,\n",
    "            name = 'anime_multihot_model_id_lookup'\n",
    "        )\n",
    "\n",
    "        multi_hot_feature = multi_hot_feature.apply(lambda x : self.__class__.multi_hot_same_shape(x, max_len=len(vocabulary)))\n",
    "        multi_hot_feature = list(multi_hot_feature)\n",
    "\n",
    "        multi_hot_layer = tf.keras.layers.StringLookup(vocabulary = vocabulary,\n",
    "                                                    output_mode = \"multi_hot\",\n",
    "                                                    num_oov_indices=1\n",
    "                                                    )\n",
    "        multi_hot_encodings = multi_hot_layer(multi_hot_feature)\n",
    "        multi_hot_encodings = multi_hot_encodings[:, 1:]\n",
    "        \n",
    "        num_animes = multi_hot_encodings.shape[0]\n",
    "        num_multi_hot_dims = multi_hot_encodings.shape[1]\n",
    "\n",
    "        self.multi_hot_encoding_layer = tf.keras.layers.Embedding(\n",
    "            num_animes,\n",
    "            num_multi_hot_dims,\n",
    "            embeddings_initializer=tf.keras.initializers.Constant(multi_hot_encodings),\n",
    "            trainable = False,\n",
    "            name = 'multi_hot_enconding_layer'\n",
    "        )\n",
    "    \n",
    "    def call(self, anime_id):\n",
    "        anime_idx = self.anime_id_lookup_layer(anime_id)\n",
    "        anime_multihot_encoding = self.multi_hot_encoding_layer(anime_idx)\n",
    "        return anime_multihot_encoding\n",
    "    \n",
    "    @staticmethod\n",
    "    def multi_hot_same_shape(list_entities, max_len = 30):\n",
    "        list_entities = list_entities[:max_len]\n",
    "        num_add = max_len - list_entities.shape[0]\n",
    "        return np.concatenate([list_entities , num_add * [\"[UNK]\"]])\n"
   ]
  },
  {
   "cell_type": "code",
   "execution_count": 9,
   "id": "ef41704e",
   "metadata": {},
   "outputs": [],
   "source": [
    "anime_genre_model = AnimeMultiHotModel(anime_data['anime_id'], anime_data['genres'], anime_genre_vocab)"
   ]
  },
  {
   "cell_type": "markdown",
   "id": "2ed0a822",
   "metadata": {},
   "source": [
    "# User Genres"
   ]
  },
  {
   "cell_type": "code",
   "execution_count": 11,
   "id": "3c15d6b3",
   "metadata": {},
   "outputs": [],
   "source": [
    "train_data = load_big_query_data(user_anime_retrieval_query('TRAIN'))"
   ]
  },
  {
   "cell_type": "code",
   "execution_count": 12,
   "id": "62059ae5",
   "metadata": {},
   "outputs": [
    {
     "data": {
      "text/html": [
       "<div>\n",
       "<style scoped>\n",
       "    .dataframe tbody tr th:only-of-type {\n",
       "        vertical-align: middle;\n",
       "    }\n",
       "\n",
       "    .dataframe tbody tr th {\n",
       "        vertical-align: top;\n",
       "    }\n",
       "\n",
       "    .dataframe thead th {\n",
       "        text-align: right;\n",
       "    }\n",
       "</style>\n",
       "<table border=\"1\" class=\"dataframe\">\n",
       "  <thead>\n",
       "    <tr style=\"text-align: right;\">\n",
       "      <th></th>\n",
       "      <th>user_id</th>\n",
       "      <th>anime_id</th>\n",
       "    </tr>\n",
       "  </thead>\n",
       "  <tbody>\n",
       "    <tr>\n",
       "      <th>0</th>\n",
       "      <td>guestkun</td>\n",
       "      <td>35073</td>\n",
       "    </tr>\n",
       "    <tr>\n",
       "      <th>1</th>\n",
       "      <td>guestkun</td>\n",
       "      <td>34403</td>\n",
       "    </tr>\n",
       "    <tr>\n",
       "      <th>2</th>\n",
       "      <td>guestkun</td>\n",
       "      <td>33926</td>\n",
       "    </tr>\n",
       "    <tr>\n",
       "      <th>3</th>\n",
       "      <td>guestkun</td>\n",
       "      <td>33206</td>\n",
       "    </tr>\n",
       "    <tr>\n",
       "      <th>4</th>\n",
       "      <td>guestkun</td>\n",
       "      <td>33731</td>\n",
       "    </tr>\n",
       "  </tbody>\n",
       "</table>\n",
       "</div>"
      ],
      "text/plain": [
       "    user_id anime_id\n",
       "0  guestkun    35073\n",
       "1  guestkun    34403\n",
       "2  guestkun    33926\n",
       "3  guestkun    33206\n",
       "4  guestkun    33731"
      ]
     },
     "execution_count": 12,
     "metadata": {},
     "output_type": "execute_result"
    }
   ],
   "source": [
    "train_data.head()"
   ]
  },
  {
   "cell_type": "code",
   "execution_count": 13,
   "id": "c952fa64",
   "metadata": {},
   "outputs": [
    {
     "data": {
      "text/plain": [
       "(69421928, 2)"
      ]
     },
     "execution_count": 13,
     "metadata": {},
     "output_type": "execute_result"
    }
   ],
   "source": [
    "train_data.shape"
   ]
  },
  {
   "cell_type": "code",
   "execution_count": 14,
   "id": "5b8c1308",
   "metadata": {},
   "outputs": [],
   "source": [
    "anime_id_ds = tf.data.Dataset.from_tensor_slices(train_data['anime_id']).batch(1024)"
   ]
  },
  {
   "cell_type": "code",
   "execution_count": 15,
   "id": "8e1188a4",
   "metadata": {},
   "outputs": [],
   "source": [
    "anime_genres = []\n",
    "for x in anime_id_ds:\n",
    "    anime_genres.append(anime_genre_model(x))\n",
    "anime_genres = np.concatenate(anime_genres)"
   ]
  },
  {
   "cell_type": "code",
   "execution_count": 16,
   "id": "7569a419",
   "metadata": {},
   "outputs": [],
   "source": [
    "train_data['anime_genre'] = list(tf.constant(anime_genres))\n",
    "user_data = train_data[['user_id', 'anime_genre']].groupby(by = 'user_id', as_index = False).agg({'anime_genre' : np.sum})\n",
    "user_data['anime_genre'] = user_data['anime_genre'].apply(lambda x : x / np.linalg.norm(x))\n",
    "user_genre_matrix = np.stack(user_data['anime_genre'], axis = 0)"
   ]
  },
  {
   "cell_type": "code",
   "execution_count": 17,
   "id": "3541d991",
   "metadata": {},
   "outputs": [],
   "source": [
    "user_id_lookup = tf.keras.layers.StringLookup(vocabulary = user_data['user_id'], num_oov_indices=0)\n",
    "user_genre_layer = tf.keras.layers.Embedding(\n",
    "    user_genre_matrix.shape[0],\n",
    "    user_genre_matrix.shape[1],\n",
    "    embeddings_initializer=tf.keras.initializers.Constant(user_genre_matrix),\n",
    "    trainable=False\n",
    ")\n",
    "user_genre_model = tf.keras.models.Sequential([user_id_lookup, user_genre_layer])"
   ]
  },
  {
   "cell_type": "code",
   "execution_count": 18,
   "id": "a21e4f75",
   "metadata": {},
   "outputs": [
    {
     "data": {
      "text/plain": [
       "<tf.Tensor: shape=(1, 35), dtype=float32, numpy=\n",
       "array([[0.4169987 , 0.21260652, 0.00724795, 0.48464623, 0.0584668 ,\n",
       "        0.29909873, 0.08359302, 0.2575438 , 0.02319344, 0.01256311,\n",
       "        0.06233237, 0.09035777, 0.04590368, 0.00869754, 0.02512623,\n",
       "        0.06523155, 0.05460122, 0.12756391, 0.03962212, 0.02464303,\n",
       "        0.05460122, 0.26237577, 0.03092458, 0.2145393 , 0.18892989,\n",
       "        0.12466474, 0.06378195, 0.25802702, 0.1594549 , 0.02077746,\n",
       "        0.06136597, 0.08310983, 0.24498071, 0.02271024, 0.02802541]],\n",
       "      dtype=float32)>"
      ]
     },
     "execution_count": 18,
     "metadata": {},
     "output_type": "execute_result"
    }
   ],
   "source": [
    "user_genre_model(tf.constant(['GFotaku']))"
   ]
  },
  {
   "cell_type": "markdown",
   "id": "61783464",
   "metadata": {},
   "source": [
    "# Retrieval Data"
   ]
  },
  {
   "cell_type": "code",
   "execution_count": 19,
   "id": "698e868a",
   "metadata": {},
   "outputs": [],
   "source": [
    "val_data = load_big_query_data(user_anime_retrieval_query('TEST'))"
   ]
  },
  {
   "cell_type": "code",
   "execution_count": 20,
   "id": "ce44d4e1",
   "metadata": {},
   "outputs": [
    {
     "data": {
      "text/html": [
       "<div>\n",
       "<style scoped>\n",
       "    .dataframe tbody tr th:only-of-type {\n",
       "        vertical-align: middle;\n",
       "    }\n",
       "\n",
       "    .dataframe tbody tr th {\n",
       "        vertical-align: top;\n",
       "    }\n",
       "\n",
       "    .dataframe thead th {\n",
       "        text-align: right;\n",
       "    }\n",
       "</style>\n",
       "<table border=\"1\" class=\"dataframe\">\n",
       "  <thead>\n",
       "    <tr style=\"text-align: right;\">\n",
       "      <th></th>\n",
       "      <th>user_id</th>\n",
       "      <th>anime_id</th>\n",
       "    </tr>\n",
       "  </thead>\n",
       "  <tbody>\n",
       "    <tr>\n",
       "      <th>0</th>\n",
       "      <td>-Aine-</td>\n",
       "      <td>33486</td>\n",
       "    </tr>\n",
       "    <tr>\n",
       "      <th>1</th>\n",
       "      <td>-Aine-</td>\n",
       "      <td>35382</td>\n",
       "    </tr>\n",
       "    <tr>\n",
       "      <th>2</th>\n",
       "      <td>-Aine-</td>\n",
       "      <td>32949</td>\n",
       "    </tr>\n",
       "    <tr>\n",
       "      <th>3</th>\n",
       "      <td>-Aine-</td>\n",
       "      <td>34152</td>\n",
       "    </tr>\n",
       "    <tr>\n",
       "      <th>4</th>\n",
       "      <td>-Aine-</td>\n",
       "      <td>32995</td>\n",
       "    </tr>\n",
       "  </tbody>\n",
       "</table>\n",
       "</div>"
      ],
      "text/plain": [
       "  user_id anime_id\n",
       "0  -Aine-    33486\n",
       "1  -Aine-    35382\n",
       "2  -Aine-    32949\n",
       "3  -Aine-    34152\n",
       "4  -Aine-    32995"
      ]
     },
     "execution_count": 20,
     "metadata": {},
     "output_type": "execute_result"
    }
   ],
   "source": [
    "val_data.head()"
   ]
  },
  {
   "cell_type": "code",
   "execution_count": 21,
   "id": "cb6cbd50",
   "metadata": {},
   "outputs": [
    {
     "data": {
      "text/plain": [
       "(3646260, 2)"
      ]
     },
     "execution_count": 21,
     "metadata": {},
     "output_type": "execute_result"
    }
   ],
   "source": [
    "val_data.shape"
   ]
  },
  {
   "cell_type": "code",
   "execution_count": 22,
   "id": "fed5e168",
   "metadata": {},
   "outputs": [],
   "source": [
    "val_ds = (\n",
    "    tf.data.Dataset.from_tensor_slices(\n",
    "        (\n",
    "            {\n",
    "                'user_id' : tf.cast(val_data['user_id'], tf.string),\n",
    "                'anime_id' : tf.cast(val_data['anime_id'], tf.string),\n",
    "            }\n",
    "        )\n",
    "    )\n",
    ")\n",
    "val_ds = val_ds.batch(2048).cache()"
   ]
  },
  {
   "cell_type": "markdown",
   "id": "b0d994ba",
   "metadata": {},
   "source": [
    "# Retrieval Model"
   ]
  },
  {
   "cell_type": "code",
   "execution_count": 23,
   "id": "7fb84812",
   "metadata": {},
   "outputs": [],
   "source": [
    "class UserAnimeRetrievalModel(tfrs.Model):\n",
    "    '''\n",
    "        User Anime Retrieval model\n",
    "    '''\n",
    "    def __init__(self, user_model, anime_model, unique_anime_ids):\n",
    "        super().__init__()\n",
    "        self.user_model = user_model\n",
    "        self.anime_model = anime_model\n",
    "\n",
    "        animes_ds = tf.data.Dataset.from_tensor_slices(unique_anime_ids)\n",
    "        retrieval_metrics = tfrs.metrics.FactorizedTopK(\n",
    "            candidates=animes_ds.batch(128).map(self.anime_model)\n",
    "        )\n",
    "        self.task = tfrs.tasks.Retrieval(\n",
    "            metrics=retrieval_metrics\n",
    "        )\n",
    "\n",
    "    def compute_loss(self, features, training=False):\n",
    "        '''\n",
    "            Run retrieval task\n",
    "        '''\n",
    "        user_embeddings = self.user_model(features[\"user_id\"])\n",
    "        positive_anime_embeddings = self.anime_model(features[\"anime_id\"])\n",
    "\n",
    "        return self.task(user_embeddings, positive_anime_embeddings, compute_metrics=not training)\n"
   ]
  },
  {
   "cell_type": "code",
   "execution_count": 24,
   "id": "c34f2be4",
   "metadata": {},
   "outputs": [
    {
     "name": "stdout",
     "output_type": "stream",
     "text": [
      "1781/1781 [==============================] - 931s 522ms/step - factorized_top_k/top_1_categorical_accuracy: 1.6428e-04 - factorized_top_k/top_5_categorical_accuracy: 5.0984e-04 - factorized_top_k/top_10_categorical_accuracy: 0.0012 - factorized_top_k/top_50_categorical_accuracy: 0.0088 - factorized_top_k/top_100_categorical_accuracy: 0.0224 - loss: 15598.6945 - regularization_loss: 0.0000e+00 - total_loss: 15598.6945\n",
      "{'factorized_top_k/top_1_categorical_accuracy': 0.00016427792434114963, 'factorized_top_k/top_5_categorical_accuracy': 0.0005098374676890671, 'factorized_top_k/top_10_categorical_accuracy': 0.001158721512183547, 'factorized_top_k/top_50_categorical_accuracy': 0.008761031553149223, 'factorized_top_k/top_100_categorical_accuracy': 0.02243421971797943, 'loss': 5501.626953125, 'regularization_loss': 0, 'total_loss': 5501.626953125}\n"
     ]
    }
   ],
   "source": [
    "genre_retrieval_model = UserAnimeRetrievalModel(user_genre_model, anime_genre_model, anime_data['anime_id'])\n",
    "genre_retrieval_model.compile()\n",
    "print(genre_retrieval_model.evaluate(val_ds, return_dict=True))"
   ]
  },
  {
   "cell_type": "code",
   "execution_count": null,
   "id": "938f1de6",
   "metadata": {},
   "outputs": [],
   "source": []
  }
 ],
 "metadata": {
  "kernelspec": {
   "display_name": "Python [conda env:dglke]",
   "language": "python",
   "name": "conda-env-dglke-py"
  },
  "language_info": {
   "codemirror_mode": {
    "name": "ipython",
    "version": 3
   },
   "file_extension": ".py",
   "mimetype": "text/x-python",
   "name": "python",
   "nbconvert_exporter": "python",
   "pygments_lexer": "ipython3",
   "version": "3.6.13"
  }
 },
 "nbformat": 4,
 "nbformat_minor": 5
}
