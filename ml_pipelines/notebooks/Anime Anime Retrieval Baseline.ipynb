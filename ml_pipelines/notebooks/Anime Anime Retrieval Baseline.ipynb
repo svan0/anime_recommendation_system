{
 "cells": [
  {
   "cell_type": "code",
   "execution_count": 1,
   "id": "e988c287",
   "metadata": {},
   "outputs": [],
   "source": [
    "import os\n",
    "import sys\n",
    "import argparse\n",
    "import numpy as np\n",
    "import pandas as pd\n",
    "import tensorflow as tf\n",
    "from google.cloud import bigquery"
   ]
  },
  {
   "cell_type": "code",
   "execution_count": 2,
   "id": "44bb43e7",
   "metadata": {},
   "outputs": [],
   "source": [
    "import tensorflow_recommenders as tfrs"
   ]
  },
  {
   "cell_type": "code",
   "execution_count": 3,
   "id": "ef8e9d97",
   "metadata": {},
   "outputs": [],
   "source": [
    "sys.path.append(os.path.abspath(\"..\"))"
   ]
  },
  {
   "cell_type": "code",
   "execution_count": 4,
   "id": "37e19f2f",
   "metadata": {},
   "outputs": [],
   "source": [
    "from utils.bq_queries.anime_anime_data_queries import anime_anime_retrieval_query"
   ]
  },
  {
   "cell_type": "code",
   "execution_count": 5,
   "id": "5a0c0746",
   "metadata": {},
   "outputs": [],
   "source": [
    "def load_big_query_data(query):\n",
    "    client = bigquery.Client(project=\"anime-rec-dev\")\n",
    "    dataset_ref = client.dataset(\"processed_area\")\n",
    "    job_config = bigquery.QueryJobConfig()\n",
    "    query_job = client.query(query, job_config=job_config)\n",
    "    data = query_job.to_dataframe()\n",
    "    return data"
   ]
  },
  {
   "cell_type": "markdown",
   "id": "e3575515",
   "metadata": {},
   "source": [
    "# Retrieval Data"
   ]
  },
  {
   "cell_type": "code",
   "execution_count": 6,
   "id": "07e5372c",
   "metadata": {},
   "outputs": [],
   "source": [
    "val_data = load_big_query_data(anime_anime_retrieval_query('VAL'))"
   ]
  },
  {
   "cell_type": "code",
   "execution_count": 7,
   "id": "7c22f43d",
   "metadata": {},
   "outputs": [
    {
     "data": {
      "text/html": [
       "<div>\n",
       "<style scoped>\n",
       "    .dataframe tbody tr th:only-of-type {\n",
       "        vertical-align: middle;\n",
       "    }\n",
       "\n",
       "    .dataframe tbody tr th {\n",
       "        vertical-align: top;\n",
       "    }\n",
       "\n",
       "    .dataframe thead th {\n",
       "        text-align: right;\n",
       "    }\n",
       "</style>\n",
       "<table border=\"1\" class=\"dataframe\">\n",
       "  <thead>\n",
       "    <tr style=\"text-align: right;\">\n",
       "      <th></th>\n",
       "      <th>animeA</th>\n",
       "      <th>animeB</th>\n",
       "    </tr>\n",
       "  </thead>\n",
       "  <tbody>\n",
       "    <tr>\n",
       "      <th>0</th>\n",
       "      <td>1020</td>\n",
       "      <td>1042</td>\n",
       "    </tr>\n",
       "    <tr>\n",
       "      <th>1</th>\n",
       "      <td>10793</td>\n",
       "      <td>10905</td>\n",
       "    </tr>\n",
       "    <tr>\n",
       "      <th>2</th>\n",
       "      <td>10794</td>\n",
       "      <td>10905</td>\n",
       "    </tr>\n",
       "    <tr>\n",
       "      <th>3</th>\n",
       "      <td>10536</td>\n",
       "      <td>10905</td>\n",
       "    </tr>\n",
       "    <tr>\n",
       "      <th>4</th>\n",
       "      <td>10604</td>\n",
       "      <td>10905</td>\n",
       "    </tr>\n",
       "  </tbody>\n",
       "</table>\n",
       "</div>"
      ],
      "text/plain": [
       "  animeA animeB\n",
       "0   1020   1042\n",
       "1  10793  10905\n",
       "2  10794  10905\n",
       "3  10536  10905\n",
       "4  10604  10905"
      ]
     },
     "execution_count": 7,
     "metadata": {},
     "output_type": "execute_result"
    }
   ],
   "source": [
    "val_data.head()"
   ]
  },
  {
   "cell_type": "code",
   "execution_count": 8,
   "id": "975c5fdf",
   "metadata": {},
   "outputs": [
    {
     "data": {
      "text/plain": [
       "(48690, 2)"
      ]
     },
     "execution_count": 8,
     "metadata": {},
     "output_type": "execute_result"
    }
   ],
   "source": [
    "val_data.shape"
   ]
  },
  {
   "cell_type": "code",
   "execution_count": 9,
   "id": "ec232128",
   "metadata": {},
   "outputs": [],
   "source": [
    "anime_data = load_big_query_data(\"SELECT anime_id, genres FROM `anime-rec-dev.processed_area.anime`\")"
   ]
  },
  {
   "cell_type": "code",
   "execution_count": 10,
   "id": "8cf0f1a5",
   "metadata": {},
   "outputs": [
    {
     "data": {
      "text/html": [
       "<div>\n",
       "<style scoped>\n",
       "    .dataframe tbody tr th:only-of-type {\n",
       "        vertical-align: middle;\n",
       "    }\n",
       "\n",
       "    .dataframe tbody tr th {\n",
       "        vertical-align: top;\n",
       "    }\n",
       "\n",
       "    .dataframe thead th {\n",
       "        text-align: right;\n",
       "    }\n",
       "</style>\n",
       "<table border=\"1\" class=\"dataframe\">\n",
       "  <thead>\n",
       "    <tr style=\"text-align: right;\">\n",
       "      <th></th>\n",
       "      <th>anime_id</th>\n",
       "      <th>genres</th>\n",
       "    </tr>\n",
       "  </thead>\n",
       "  <tbody>\n",
       "    <tr>\n",
       "      <th>0</th>\n",
       "      <td>10507</td>\n",
       "      <td>[Sports, Super Power, Shounen]</td>\n",
       "    </tr>\n",
       "    <tr>\n",
       "      <th>1</th>\n",
       "      <td>4075</td>\n",
       "      <td>[Action, Comedy, Mecha]</td>\n",
       "    </tr>\n",
       "    <tr>\n",
       "      <th>2</th>\n",
       "      <td>36444</td>\n",
       "      <td>[Action, Comedy, Drama, Fantasy, Slice of Life...</td>\n",
       "    </tr>\n",
       "    <tr>\n",
       "      <th>3</th>\n",
       "      <td>6172</td>\n",
       "      <td>[Adventure, Mystery]</td>\n",
       "    </tr>\n",
       "    <tr>\n",
       "      <th>4</th>\n",
       "      <td>4794</td>\n",
       "      <td>[Adventure, Comedy, Fantasy, Kids]</td>\n",
       "    </tr>\n",
       "  </tbody>\n",
       "</table>\n",
       "</div>"
      ],
      "text/plain": [
       "  anime_id                                             genres\n",
       "0    10507                     [Sports, Super Power, Shounen]\n",
       "1     4075                            [Action, Comedy, Mecha]\n",
       "2    36444  [Action, Comedy, Drama, Fantasy, Slice of Life...\n",
       "3     6172                               [Adventure, Mystery]\n",
       "4     4794                 [Adventure, Comedy, Fantasy, Kids]"
      ]
     },
     "execution_count": 10,
     "metadata": {},
     "output_type": "execute_result"
    }
   ],
   "source": [
    "anime_data.head()"
   ]
  },
  {
   "cell_type": "code",
   "execution_count": 11,
   "id": "391f9efb",
   "metadata": {},
   "outputs": [
    {
     "data": {
      "text/plain": [
       "(9192, 2)"
      ]
     },
     "execution_count": 11,
     "metadata": {},
     "output_type": "execute_result"
    }
   ],
   "source": [
    "anime_data.shape"
   ]
  },
  {
   "cell_type": "code",
   "execution_count": 12,
   "id": "5633c65f",
   "metadata": {},
   "outputs": [],
   "source": [
    "val_ds = (\n",
    "    tf.data.Dataset.from_tensor_slices(\n",
    "        (\n",
    "            {\n",
    "                'animeA' : tf.cast(val_data['animeA'], tf.string),\n",
    "                'animeB' : tf.cast(val_data['animeB'], tf.string),\n",
    "            }\n",
    "        )\n",
    "    )\n",
    ")\n",
    "val_ds = val_ds.batch(2048).cache()"
   ]
  },
  {
   "cell_type": "markdown",
   "id": "f8d31fa4",
   "metadata": {},
   "source": [
    "# Genres"
   ]
  },
  {
   "cell_type": "code",
   "execution_count": 13,
   "id": "6f738ad6",
   "metadata": {},
   "outputs": [],
   "source": [
    "anime_genre_vocab = [\n",
    "    'Action',\n",
    "    'Adventure',\n",
    "    'Avant Garde',\n",
    "    'Comedy',\n",
    "    'Demons',\n",
    "    'Drama',\n",
    "    'Ecchi',\n",
    "    'Fantasy',\n",
    "    'Game',\n",
    "    'Gourmet',\n",
    "    'Harem',\n",
    "    'Historical',\n",
    "    'Horror',\n",
    "    'Kids',\n",
    "    'Martial Arts',\n",
    "    'Mecha',\n",
    "    'Military',\n",
    "    'Mystery',\n",
    "    'Parody',\n",
    "    'Police',\n",
    "    'Psychological',\n",
    "    'Romance',\n",
    "    'Samurai',\n",
    "    'School',\n",
    "    'Sci-Fi',\n",
    "    'Seinen',\n",
    "    'Shoujo',\n",
    "    'Shounen',\n",
    "    'Slice of Life',\n",
    "    'Space',\n",
    "    'Sports',\n",
    "    'Super Power',\n",
    "    'Supernatural',\n",
    "    'Suspense',\n",
    "    'Vampire'\n",
    "]"
   ]
  },
  {
   "cell_type": "markdown",
   "id": "934f81e9",
   "metadata": {},
   "source": [
    "# Models"
   ]
  },
  {
   "cell_type": "code",
   "execution_count": 14,
   "id": "2a85da6d",
   "metadata": {},
   "outputs": [],
   "source": [
    "class AnimeMultiHotModel(tf.keras.Model):\n",
    "    def __init__(self,\n",
    "                unique_anime_ids,\n",
    "                multi_hot_feature,\n",
    "                vocabulary):\n",
    "        super().__init__()\n",
    "\n",
    "        self.anime_id_lookup_layer = tf.keras.layers.StringLookup(\n",
    "            vocabulary = unique_anime_ids, \n",
    "            num_oov_indices = 0,\n",
    "            name = 'anime_multihot_model_id_lookup'\n",
    "        )\n",
    "\n",
    "        multi_hot_feature = multi_hot_feature.apply(lambda x : self.__class__.multi_hot_same_shape(x, max_len=len(vocabulary)))\n",
    "        multi_hot_feature = list(multi_hot_feature)\n",
    "\n",
    "        multi_hot_layer = tf.keras.layers.StringLookup(vocabulary = vocabulary,\n",
    "                                                    output_mode = \"multi_hot\",\n",
    "                                                    num_oov_indices=1\n",
    "                                                    )\n",
    "        multi_hot_encodings = multi_hot_layer(multi_hot_feature)\n",
    "        multi_hot_encodings = multi_hot_encodings[:, 1:]\n",
    "        \n",
    "        num_animes = multi_hot_encodings.shape[0]\n",
    "        num_multi_hot_dims = multi_hot_encodings.shape[1]\n",
    "\n",
    "        self.multi_hot_encoding_layer = tf.keras.layers.Embedding(\n",
    "            num_animes,\n",
    "            num_multi_hot_dims,\n",
    "            embeddings_initializer=tf.keras.initializers.Constant(multi_hot_encodings),\n",
    "            trainable = False,\n",
    "            name = 'multi_hot_enconding_layer'\n",
    "        )\n",
    "    \n",
    "    def call(self, anime_id):\n",
    "        anime_idx = self.anime_id_lookup_layer(anime_id)\n",
    "        anime_multihot_encoding = self.multi_hot_encoding_layer(anime_idx)\n",
    "        return anime_multihot_encoding\n",
    "    \n",
    "    @staticmethod\n",
    "    def multi_hot_same_shape(list_entities, max_len = 30):\n",
    "        list_entities = list_entities[:max_len]\n",
    "        num_add = max_len - list_entities.shape[0]\n",
    "        return np.concatenate([list_entities , num_add * [\"[UNK]\"]])\n"
   ]
  },
  {
   "cell_type": "code",
   "execution_count": 15,
   "id": "2e4936a0",
   "metadata": {},
   "outputs": [],
   "source": [
    "class RetrievalModel(tfrs.Model):\n",
    "\n",
    "    def __init__(self, anime_model, unique_anime_ids):\n",
    "        super().__init__()\n",
    "        \n",
    "        self.anime_model = anime_model\n",
    "\n",
    "        animes_ds = tf.data.Dataset.from_tensor_slices(unique_anime_ids)\n",
    "        retrieval_metrics = tfrs.metrics.FactorizedTopK(\n",
    "            candidates = animes_ds.batch(128).map(self.anime_model)\n",
    "        )\n",
    "        self.task = tfrs.tasks.Retrieval(\n",
    "            metrics=retrieval_metrics\n",
    "        )\n",
    "\n",
    "    def compute_loss(self, features, training=False):\n",
    "        \n",
    "        anime_embeddings = self.anime_model(features[\"animeA\"])\n",
    "        positive_anime_embeddings = self.anime_model(features[\"animeB\"])\n",
    "\n",
    "        return self.task(anime_embeddings, positive_anime_embeddings, compute_metrics=not training)"
   ]
  },
  {
   "cell_type": "code",
   "execution_count": 16,
   "id": "1fe71bc2",
   "metadata": {},
   "outputs": [
    {
     "name": "stdout",
     "output_type": "stream",
     "text": [
      "24/24 [==============================] - 10s 379ms/step - factorized_top_k/top_1_categorical_accuracy: 0.1237 - factorized_top_k/top_5_categorical_accuracy: 0.1304 - factorized_top_k/top_10_categorical_accuracy: 0.1380 - factorized_top_k/top_50_categorical_accuracy: 0.1782 - factorized_top_k/top_100_categorical_accuracy: 0.2116 - loss: 15487.4381 - regularization_loss: 0.0000e+00 - total_loss: 15487.4381\n",
      "{'factorized_top_k/top_1_categorical_accuracy': 0.12370096892118454, 'factorized_top_k/top_5_categorical_accuracy': 0.13039638102054596, 'factorized_top_k/top_10_categorical_accuracy': 0.13795439898967743, 'factorized_top_k/top_50_categorical_accuracy': 0.1781885325908661, 'factorized_top_k/top_100_categorical_accuracy': 0.2116040289402008, 'loss': 11721.8037109375, 'regularization_loss': 0, 'total_loss': 11721.8037109375}\n"
     ]
    }
   ],
   "source": [
    "anime_genre_model = AnimeMultiHotModel(anime_data['anime_id'], anime_data['genres'], anime_genre_vocab)\n",
    "genre_retrieval_model = RetrievalModel(anime_genre_model, anime_data['anime_id'])\n",
    "genre_retrieval_model.compile()\n",
    "print(genre_retrieval_model.evaluate(val_ds, return_dict=True))"
   ]
  },
  {
   "cell_type": "code",
   "execution_count": null,
   "id": "2d5667d9",
   "metadata": {},
   "outputs": [],
   "source": []
  }
 ],
 "metadata": {
  "kernelspec": {
   "display_name": "Python [conda env:dglke]",
   "language": "python",
   "name": "conda-env-dglke-py"
  },
  "language_info": {
   "codemirror_mode": {
    "name": "ipython",
    "version": 3
   },
   "file_extension": ".py",
   "mimetype": "text/x-python",
   "name": "python",
   "nbconvert_exporter": "python",
   "pygments_lexer": "ipython3",
   "version": "3.6.13"
  }
 },
 "nbformat": 4,
 "nbformat_minor": 5
}
