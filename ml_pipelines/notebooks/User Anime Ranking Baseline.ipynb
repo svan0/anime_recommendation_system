{
 "cells": [
  {
   "cell_type": "code",
   "execution_count": 1,
   "id": "7276095a",
   "metadata": {},
   "outputs": [],
   "source": [
    "import os\n",
    "import sys\n",
    "import argparse\n",
    "import numpy as np\n",
    "import pandas as pd\n",
    "import tensorflow as tf\n",
    "import tensorflow_ranking as tfr\n",
    "from google.cloud import bigquery"
   ]
  },
  {
   "cell_type": "code",
   "execution_count": 2,
   "id": "ce3497b7",
   "metadata": {},
   "outputs": [],
   "source": [
    "sys.path.append(os.path.abspath(\"..\"))"
   ]
  },
  {
   "cell_type": "code",
   "execution_count": 3,
   "id": "9bfeaa81",
   "metadata": {},
   "outputs": [],
   "source": [
    "from utils.bq_queries.user_anime_data_queries import user_anime_list_ranking_query"
   ]
  },
  {
   "cell_type": "code",
   "execution_count": 4,
   "id": "5f5814d8",
   "metadata": {},
   "outputs": [],
   "source": [
    "def load_big_query_data(query):\n",
    "    client = bigquery.Client(project=\"anime-rec-dev\")\n",
    "    dataset_ref = client.dataset(\"processed_area\")\n",
    "    job_config = bigquery.QueryJobConfig()\n",
    "    query_job = client.query(query, job_config=job_config)\n",
    "    data = query_job.to_dataframe()\n",
    "    return data"
   ]
  },
  {
   "cell_type": "markdown",
   "id": "b339043d",
   "metadata": {},
   "source": [
    "# Ranking Data"
   ]
  },
  {
   "cell_type": "code",
   "execution_count": 5,
   "id": "c6910e2a",
   "metadata": {},
   "outputs": [],
   "source": [
    "val_data = load_big_query_data(user_anime_list_ranking_query('VAL'))"
   ]
  },
  {
   "cell_type": "code",
   "execution_count": 6,
   "id": "6c0e4202",
   "metadata": {},
   "outputs": [
    {
     "data": {
      "text/html": [
       "<div>\n",
       "<style scoped>\n",
       "    .dataframe tbody tr th:only-of-type {\n",
       "        vertical-align: middle;\n",
       "    }\n",
       "\n",
       "    .dataframe tbody tr th {\n",
       "        vertical-align: top;\n",
       "    }\n",
       "\n",
       "    .dataframe thead th {\n",
       "        text-align: right;\n",
       "    }\n",
       "</style>\n",
       "<table border=\"1\" class=\"dataframe\">\n",
       "  <thead>\n",
       "    <tr style=\"text-align: right;\">\n",
       "      <th></th>\n",
       "      <th>user_id</th>\n",
       "      <th>anime_id</th>\n",
       "      <th>score</th>\n",
       "    </tr>\n",
       "  </thead>\n",
       "  <tbody>\n",
       "    <tr>\n",
       "      <th>0</th>\n",
       "      <td>-AnimeManya-</td>\n",
       "      <td>[14719, 24135, 11933, 22101, 15315, 6205, 5112...</td>\n",
       "      <td>[9, 8, 8, 8, 8, 4, 6, 8, 7, 8]</td>\n",
       "    </tr>\n",
       "    <tr>\n",
       "      <th>1</th>\n",
       "      <td>-Azure-</td>\n",
       "      <td>[27989, 33743, 33487, 33988, 33206, 32937, 332...</td>\n",
       "      <td>[7, 4, 4, 5, 5, 6, 3, 4, 5, 3]</td>\n",
       "    </tr>\n",
       "    <tr>\n",
       "      <th>2</th>\n",
       "      <td>-Clandestine-</td>\n",
       "      <td>[2924, 4789, 587, 5978, 3958, 5713, 5162, 3225...</td>\n",
       "      <td>[9, 9, 9, 7, 7, 8, 9, 8, 9, 8]</td>\n",
       "    </tr>\n",
       "    <tr>\n",
       "      <th>3</th>\n",
       "      <td>-Lyka-</td>\n",
       "      <td>[32900, 33783, 23249, 12029, 34451, 30778, 320...</td>\n",
       "      <td>[8, 7, 8, 8, 8, 7, 8, 7, 7, 8]</td>\n",
       "    </tr>\n",
       "    <tr>\n",
       "      <th>4</th>\n",
       "      <td>-Shanigami-</td>\n",
       "      <td>[34662, 35788, 35079, 36027, 34451, 35076, 345...</td>\n",
       "      <td>[6, 7, 7, 3, 8, 6, 8, 4, 6, 6]</td>\n",
       "    </tr>\n",
       "  </tbody>\n",
       "</table>\n",
       "</div>"
      ],
      "text/plain": [
       "         user_id                                           anime_id  \\\n",
       "0   -AnimeManya-  [14719, 24135, 11933, 22101, 15315, 6205, 5112...   \n",
       "1        -Azure-  [27989, 33743, 33487, 33988, 33206, 32937, 332...   \n",
       "2  -Clandestine-  [2924, 4789, 587, 5978, 3958, 5713, 5162, 3225...   \n",
       "3         -Lyka-  [32900, 33783, 23249, 12029, 34451, 30778, 320...   \n",
       "4    -Shanigami-  [34662, 35788, 35079, 36027, 34451, 35076, 345...   \n",
       "\n",
       "                            score  \n",
       "0  [9, 8, 8, 8, 8, 4, 6, 8, 7, 8]  \n",
       "1  [7, 4, 4, 5, 5, 6, 3, 4, 5, 3]  \n",
       "2  [9, 9, 9, 7, 7, 8, 9, 8, 9, 8]  \n",
       "3  [8, 7, 8, 8, 8, 7, 8, 7, 7, 8]  \n",
       "4  [6, 7, 7, 3, 8, 6, 8, 4, 6, 6]  "
      ]
     },
     "execution_count": 6,
     "metadata": {},
     "output_type": "execute_result"
    }
   ],
   "source": [
    "val_data.head()"
   ]
  },
  {
   "cell_type": "code",
   "execution_count": 7,
   "id": "7069aa93",
   "metadata": {},
   "outputs": [
    {
     "data": {
      "text/plain": [
       "(171941, 3)"
      ]
     },
     "execution_count": 7,
     "metadata": {},
     "output_type": "execute_result"
    }
   ],
   "source": [
    "val_data.shape"
   ]
  },
  {
   "cell_type": "code",
   "execution_count": 8,
   "id": "b2fdc1dc",
   "metadata": {},
   "outputs": [],
   "source": [
    "anime_data = load_big_query_data(\"SELECT anime_id, score FROM `anime-rec-dev.processed_area.anime`\")"
   ]
  },
  {
   "cell_type": "code",
   "execution_count": 9,
   "id": "4e782df9",
   "metadata": {},
   "outputs": [],
   "source": [
    "anime_data = anime_data.fillna(0.0)"
   ]
  },
  {
   "cell_type": "code",
   "execution_count": 10,
   "id": "f60e77c2",
   "metadata": {},
   "outputs": [],
   "source": [
    "val_ds = (\n",
    "    tf.data.Dataset.from_tensor_slices(\n",
    "        (\n",
    "            {\n",
    "                'user_id' : np.stack(val_data['user_id'].apply(lambda x : 10 * [x]), axis = 0),\n",
    "                'anime_id' : np.stack(val_data['anime_id'], axis = 0)\n",
    "            },\n",
    "            tf.cast(np.stack(val_data['score'], axis = 0), tf.float32)\n",
    "        )\n",
    "    )\n",
    ")\n",
    "val_ds = val_ds.batch(2048).cache()"
   ]
  },
  {
   "cell_type": "markdown",
   "id": "ed266c95",
   "metadata": {},
   "source": [
    "# Models"
   ]
  },
  {
   "cell_type": "code",
   "execution_count": 11,
   "id": "51608abe",
   "metadata": {},
   "outputs": [],
   "source": [
    "def mse_and_list_mle_loss(y_true, y_pred):\n",
    "    return tfr.keras.losses.MeanSquaredLoss()(y_true, y_pred) + tfr.keras.losses.ListMLELoss()(y_true, y_pred)"
   ]
  },
  {
   "cell_type": "code",
   "execution_count": 12,
   "id": "debd00fb",
   "metadata": {},
   "outputs": [],
   "source": [
    "class AnimeAverageRatingModel(tf.keras.Model):\n",
    "    def __init__(self, anime_ids, anime_scores):\n",
    "        super().__init__()\n",
    "        \n",
    "        self.ratings = tf.lookup.StaticHashTable(\n",
    "                tf.lookup.KeyValueTensorInitializer(anime_ids, anime_scores),\n",
    "                default_value=-1\n",
    "        )\n",
    "    \n",
    "    def call(self, features):\n",
    "\n",
    "        pred_ratings = self.ratings.lookup(features['anime_id'])\n",
    "\n",
    "        return pred_ratings"
   ]
  },
  {
   "cell_type": "code",
   "execution_count": 13,
   "id": "3030417f",
   "metadata": {},
   "outputs": [],
   "source": [
    "class UserAnimeListRankingAverageScoreModel(tf.keras.Model):\n",
    "    def __init__(\n",
    "            self,\n",
    "            anime_score_model,\n",
    "            topn=5,\n",
    "            positive_threshold=8.0\n",
    "    ):\n",
    "        super().__init__()\n",
    "\n",
    "        self.positive_threshold = positive_threshold\n",
    "\n",
    "        self.classification_metrics = [\n",
    "            tfr.keras.metrics.PrecisionMetric(topn=topn, name=f'Precision@{topn}'),\n",
    "            tfr.keras.metrics.RecallMetric(topn=topn, name=f'Recall@{topn}'),\n",
    "            tfr.keras.metrics.MeanAveragePrecisionMetric(topn=topn, name=f'MAP@{topn}'),\n",
    "            tfr.keras.metrics.MRRMetric(topn=topn, name=f'MRR@{topn}')\n",
    "        ]\n",
    "\n",
    "        self.non_classification_metrics = [\n",
    "            tfr.keras.metrics.NDCGMetric(topn=topn, name=f'ndcg@{topn}'),\n",
    "            tf.keras.metrics.RootMeanSquaredError()\n",
    "        ]\n",
    "\n",
    "        \n",
    "        self.anime_score_model = anime_score_model\n",
    "\n",
    "    def test_step(self, data):\n",
    "        \n",
    "        x, y = data\n",
    "\n",
    "        y_true = y\n",
    "        y_true_binary = tf.cast(y_true >= self.positive_threshold, tf.int32)\n",
    "\n",
    "        y_pred = self(x, training=False)\n",
    "        y_pred = tf.cast(y_pred, dtype=tf.float32)\n",
    "\n",
    "        self.compiled_loss(y_true, y_pred, regularization_losses=self.losses)\n",
    "        self.compiled_metrics.update_state(y_true, y_pred)\n",
    "\n",
    "        for classification_metric in self.classification_metrics:\n",
    "            classification_metric.update_state(y_true_binary, y_pred)\n",
    "\n",
    "        for non_classification_metric in self.non_classification_metrics:\n",
    "            non_classification_metric.update_state(y_true, y_pred)\n",
    "\n",
    "        return {m.name: m.result() for m in self.metrics}\n",
    "\n",
    "    @property\n",
    "    def metrics(self):\n",
    "        return self.compiled_loss.metrics + \\\n",
    "               self.compiled_metrics.metrics + \\\n",
    "               self.classification_metrics + \\\n",
    "               self.non_classification_metrics\n",
    "    \n",
    "    def call(self, inputs):\n",
    "        \n",
    "        pred_ratings = self.anime_score_model(inputs)\n",
    "        return pred_ratings"
   ]
  },
  {
   "cell_type": "code",
   "execution_count": 14,
   "id": "25c2bf1f",
   "metadata": {},
   "outputs": [
    {
     "name": "stdout",
     "output_type": "stream",
     "text": [
      "84/84 [==============================] - 3s 9ms/step - loss: 16.2694 - Precision@3: 0.5168 - Recall@3: 0.4541 - MAP@3: 0.3890 - MRR@3: 0.6820 - ndcg@3: 0.7615 - root_mean_squared_error: 1.4441\n",
      "{'loss': 16.26943588256836, 'Precision@3': 0.5168496370315552, 'Recall@3': 0.4541417360305786, 'MAP@3': 0.38899102807044983, 'MRR@3': 0.6819556951522827, 'ndcg@3': 0.7614755034446716, 'root_mean_squared_error': 1.444114089012146}\n"
     ]
    }
   ],
   "source": [
    "anime_score_model = AnimeAverageRatingModel(anime_data['anime_id'], anime_data['score'])\n",
    "ranking_average_score_model = UserAnimeListRankingAverageScoreModel(anime_score_model, 3, 9.0)\n",
    "ranking_average_score_model.compile(loss = mse_and_list_mle_loss)\n",
    "print(ranking_average_score_model.evaluate(val_ds, return_dict=True))"
   ]
  },
  {
   "cell_type": "code",
   "execution_count": null,
   "id": "4580bd55",
   "metadata": {},
   "outputs": [],
   "source": []
  }
 ],
 "metadata": {
  "kernelspec": {
   "display_name": "Python [conda env:dglke]",
   "language": "python",
   "name": "conda-env-dglke-py"
  },
  "language_info": {
   "codemirror_mode": {
    "name": "ipython",
    "version": 3
   },
   "file_extension": ".py",
   "mimetype": "text/x-python",
   "name": "python",
   "nbconvert_exporter": "python",
   "pygments_lexer": "ipython3",
   "version": "3.6.13"
  }
 },
 "nbformat": 4,
 "nbformat_minor": 5
}
