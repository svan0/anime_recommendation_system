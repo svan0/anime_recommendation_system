{
 "cells": [
  {
   "cell_type": "code",
   "execution_count": 1,
   "id": "7276095a",
   "metadata": {},
   "outputs": [],
   "source": [
    "import os\n",
    "import sys\n",
    "import argparse\n",
    "import numpy as np\n",
    "import pandas as pd\n",
    "import tensorflow as tf\n",
    "import tensorflow_ranking as tfr\n",
    "from google.cloud import bigquery"
   ]
  },
  {
   "cell_type": "code",
   "execution_count": 2,
   "id": "ce3497b7",
   "metadata": {},
   "outputs": [],
   "source": [
    "sys.path.append(os.path.abspath(\"..\"))"
   ]
  },
  {
   "cell_type": "code",
   "execution_count": 3,
   "id": "9bfeaa81",
   "metadata": {},
   "outputs": [],
   "source": [
    "from anime_rec_pkg.anime_rec.data.bq_queries.user_anime_ml_data_queries import user_anime_list_ranking_query"
   ]
  },
  {
   "cell_type": "code",
   "execution_count": 4,
   "id": "5f5814d8",
   "metadata": {},
   "outputs": [],
   "source": [
    "def load_big_query_data(query):\n",
    "    client = bigquery.Client(project=\"anime-rec-dev\")\n",
    "    dataset_ref = client.dataset(\"processed_area\")\n",
    "    job_config = bigquery.QueryJobConfig()\n",
    "    query_job = client.query(query, job_config=job_config)\n",
    "    data = query_job.to_dataframe()\n",
    "    return data"
   ]
  },
  {
   "cell_type": "markdown",
   "id": "b339043d",
   "metadata": {},
   "source": [
    "# Ranking Data"
   ]
  },
  {
   "cell_type": "code",
   "execution_count": 5,
   "id": "c6910e2a",
   "metadata": {},
   "outputs": [],
   "source": [
    "val_data = load_big_query_data(user_anime_list_ranking_query('TEST'))"
   ]
  },
  {
   "cell_type": "code",
   "execution_count": 6,
   "id": "6c0e4202",
   "metadata": {},
   "outputs": [
    {
     "data": {
      "text/html": [
       "<div>\n",
       "<style scoped>\n",
       "    .dataframe tbody tr th:only-of-type {\n",
       "        vertical-align: middle;\n",
       "    }\n",
       "\n",
       "    .dataframe tbody tr th {\n",
       "        vertical-align: top;\n",
       "    }\n",
       "\n",
       "    .dataframe thead th {\n",
       "        text-align: right;\n",
       "    }\n",
       "</style>\n",
       "<table border=\"1\" class=\"dataframe\">\n",
       "  <thead>\n",
       "    <tr style=\"text-align: right;\">\n",
       "      <th></th>\n",
       "      <th>user_id</th>\n",
       "      <th>anime_id</th>\n",
       "      <th>score</th>\n",
       "    </tr>\n",
       "  </thead>\n",
       "  <tbody>\n",
       "    <tr>\n",
       "      <th>0</th>\n",
       "      <td>-Bibs-</td>\n",
       "      <td>47778|19815|30370|25013|33050|48483|41487|4224...</td>\n",
       "      <td>10|8|9|9|9|8|9|9|10|10</td>\n",
       "    </tr>\n",
       "    <tr>\n",
       "      <th>1</th>\n",
       "      <td>-Cap</td>\n",
       "      <td>44942|39617|40060|39195|38000|38816|38826|3413...</td>\n",
       "      <td>3|1|8|10|8|1|6|5|8|10</td>\n",
       "    </tr>\n",
       "    <tr>\n",
       "      <th>2</th>\n",
       "      <td>-Eeco</td>\n",
       "      <td>46102|39547|40591|40716|38000|38753|38680|3804...</td>\n",
       "      <td>9|9|9|8|8|6|8|8|9|8</td>\n",
       "    </tr>\n",
       "    <tr>\n",
       "      <th>3</th>\n",
       "      <td>-Heartthrob</td>\n",
       "      <td>47778|50696|49926|45576|41587|42249|40938|1475...</td>\n",
       "      <td>9|8|8|8|6|8|7|7|7|7</td>\n",
       "    </tr>\n",
       "    <tr>\n",
       "      <th>4</th>\n",
       "      <td>-SHAWON-</td>\n",
       "      <td>20899|269|42249|40028|40748|40456|41353|36862|...</td>\n",
       "      <td>9|8|8|10|9|8|8|9|10|9</td>\n",
       "    </tr>\n",
       "  </tbody>\n",
       "</table>\n",
       "</div>"
      ],
      "text/plain": [
       "       user_id                                           anime_id  \\\n",
       "0       -Bibs-  47778|19815|30370|25013|33050|48483|41487|4224...   \n",
       "1         -Cap  44942|39617|40060|39195|38000|38816|38826|3413...   \n",
       "2        -Eeco  46102|39547|40591|40716|38000|38753|38680|3804...   \n",
       "3  -Heartthrob  47778|50696|49926|45576|41587|42249|40938|1475...   \n",
       "4     -SHAWON-  20899|269|42249|40028|40748|40456|41353|36862|...   \n",
       "\n",
       "                    score  \n",
       "0  10|8|9|9|9|8|9|9|10|10  \n",
       "1   3|1|8|10|8|1|6|5|8|10  \n",
       "2     9|9|9|8|8|6|8|8|9|8  \n",
       "3     9|8|8|8|6|8|7|7|7|7  \n",
       "4   9|8|8|10|9|8|8|9|10|9  "
      ]
     },
     "execution_count": 6,
     "metadata": {},
     "output_type": "execute_result"
    }
   ],
   "source": [
    "val_data.head()"
   ]
  },
  {
   "cell_type": "code",
   "execution_count": 7,
   "id": "7069aa93",
   "metadata": {},
   "outputs": [
    {
     "data": {
      "text/plain": [
       "(364626, 3)"
      ]
     },
     "execution_count": 7,
     "metadata": {},
     "output_type": "execute_result"
    }
   ],
   "source": [
    "val_data.shape"
   ]
  },
  {
   "cell_type": "code",
   "execution_count": 8,
   "id": "b2fdc1dc",
   "metadata": {},
   "outputs": [],
   "source": [
    "anime_data = load_big_query_data(\"SELECT anime_id, score FROM `anime-rec-dev.processed_area.anime`\")"
   ]
  },
  {
   "cell_type": "code",
   "execution_count": 9,
   "id": "4e782df9",
   "metadata": {},
   "outputs": [],
   "source": [
    "anime_data = anime_data.fillna(0.0)"
   ]
  },
  {
   "cell_type": "code",
   "execution_count": 13,
   "id": "f60e77c2",
   "metadata": {},
   "outputs": [],
   "source": [
    "val_ds = tf.data.Dataset.from_tensor_slices(\n",
    "    {\n",
    "        'user_id' : val_data['user_id'],\n",
    "        'anime_id' : val_data['anime_id'],\n",
    "        'score' : val_data['score']\n",
    "    }\n",
    ")\n",
    "\n",
    "val_ds = val_ds.map(lambda x : \n",
    "    {\n",
    "        'user_id' : x['user_id'],\n",
    "        'anime_id' : tf.strings.split(x['anime_id'], sep='|'),\n",
    "        'score' : tf.strings.split(x['score'], sep='|')\n",
    "    }\n",
    ")\n",
    "\n",
    "val_ds = val_ds.map(lambda x : \n",
    "    {\n",
    "        'user_id' : tf.repeat(x['user_id'], tf.shape(x['anime_id'])[0], axis = 0),\n",
    "        'anime_id' : x['anime_id'],\n",
    "        'score' : tf.strings.to_number(x['score'])\n",
    "    }\n",
    ")\n",
    "\n",
    "val_ds = val_ds.map(lambda x : (\n",
    "    {\n",
    "        'user_id' : x['user_id'],\n",
    "        'anime_id' : x['anime_id']\n",
    "    },\n",
    "    x['score'])\n",
    ")\n",
    "\n",
    "val_ds = val_ds.batch(2048).cache()"
   ]
  },
  {
   "cell_type": "markdown",
   "id": "ed266c95",
   "metadata": {},
   "source": [
    "# Models"
   ]
  },
  {
   "cell_type": "code",
   "execution_count": 15,
   "id": "debd00fb",
   "metadata": {},
   "outputs": [],
   "source": [
    "class AnimeAverageRatingModel(tf.keras.Model):\n",
    "    def __init__(self, anime_ids, anime_scores):\n",
    "        super().__init__()\n",
    "        \n",
    "        self.ratings = tf.lookup.StaticHashTable(\n",
    "                tf.lookup.KeyValueTensorInitializer(anime_ids, anime_scores),\n",
    "                default_value=-1\n",
    "        )\n",
    "    \n",
    "    def call(self, features):\n",
    "\n",
    "        pred_ratings = self.ratings.lookup(features['anime_id'])\n",
    "\n",
    "        return pred_ratings"
   ]
  },
  {
   "cell_type": "code",
   "execution_count": 18,
   "id": "3030417f",
   "metadata": {},
   "outputs": [],
   "source": [
    "class UserAnimeListRankingAverageScoreModel(tf.keras.Model):\n",
    "    def __init__(\n",
    "            self,\n",
    "            anime_score_model,\n",
    "            topn=5,\n",
    "            positive_threshold=8.0\n",
    "    ):\n",
    "        super().__init__()\n",
    "\n",
    "        self.positive_threshold = positive_threshold\n",
    "\n",
    "        self.classification_metrics = [\n",
    "            tfr.keras.metrics.PrecisionMetric(topn=topn, name=f'Precision@{topn}'),\n",
    "            tfr.keras.metrics.RecallMetric(topn=topn, name=f'Recall@{topn}'),\n",
    "            tfr.keras.metrics.MeanAveragePrecisionMetric(topn=topn, name=f'MAP@{topn}'),\n",
    "            tfr.keras.metrics.MRRMetric(name='MRR')\n",
    "        ]\n",
    "\n",
    "        self.non_classification_metrics = [\n",
    "            tfr.keras.metrics.NDCGMetric(name='NDCG'),\n",
    "            tf.keras.metrics.RootMeanSquaredError()\n",
    "        ]\n",
    "\n",
    "        \n",
    "        self.anime_score_model = anime_score_model\n",
    "\n",
    "    def test_step(self, data):\n",
    "        \n",
    "        x, y = data\n",
    "\n",
    "        y_true = y\n",
    "        y_true_binary = tf.cast(y_true >= self.positive_threshold, tf.int32)\n",
    "\n",
    "        y_pred = self(x, training=False)\n",
    "        y_pred = tf.cast(y_pred, dtype=tf.float32)\n",
    "\n",
    "        self.compiled_loss(y_true, y_pred, regularization_losses=self.losses)\n",
    "        self.compiled_metrics.update_state(y_true, y_pred)\n",
    "\n",
    "        for classification_metric in self.classification_metrics:\n",
    "            classification_metric.update_state(y_true_binary, y_pred)\n",
    "\n",
    "        for non_classification_metric in self.non_classification_metrics:\n",
    "            non_classification_metric.update_state(y_true, y_pred)\n",
    "\n",
    "        return {m.name: m.result() for m in self.metrics}\n",
    "\n",
    "    @property\n",
    "    def metrics(self):\n",
    "        return self.compiled_loss.metrics + \\\n",
    "               self.compiled_metrics.metrics + \\\n",
    "               self.classification_metrics + \\\n",
    "               self.non_classification_metrics\n",
    "    \n",
    "    def call(self, inputs):\n",
    "        \n",
    "        pred_ratings = self.anime_score_model(inputs)\n",
    "        return pred_ratings"
   ]
  },
  {
   "cell_type": "code",
   "execution_count": 19,
   "id": "25c2bf1f",
   "metadata": {},
   "outputs": [
    {
     "name": "stdout",
     "output_type": "stream",
     "text": [
      "179/179 [==============================] - 2s 6ms/step - loss: 13.9125 - Precision@3: 0.5478 - Recall@3: 0.4874 - MAP@3: 0.4219 - MRR: 0.7307 - NDCG: 0.8983 - root_mean_squared_error: 1.4263\n",
      "{'loss': 13.912481307983398, 'Precision@3': 0.5478235483169556, 'Recall@3': 0.48742496967315674, 'MAP@3': 0.42185670137405396, 'MRR': 0.7307184934616089, 'NDCG': 0.898320198059082, 'root_mean_squared_error': 1.4263333082199097}\n"
     ]
    }
   ],
   "source": [
    "anime_score_model = AnimeAverageRatingModel(anime_data['anime_id'], anime_data['score'])\n",
    "ranking_average_score_model = UserAnimeListRankingAverageScoreModel(anime_score_model, 3, 9.0)\n",
    "ranking_average_score_model.compile(loss = tfr.keras.losses.ListMLELoss())\n",
    "print(ranking_average_score_model.evaluate(val_ds, return_dict=True))"
   ]
  },
  {
   "cell_type": "code",
   "execution_count": null,
   "id": "4580bd55",
   "metadata": {},
   "outputs": [],
   "source": []
  }
 ],
 "metadata": {
  "kernelspec": {
   "display_name": "Python [conda env:dglke]",
   "language": "python",
   "name": "conda-env-dglke-py"
  },
  "language_info": {
   "codemirror_mode": {
    "name": "ipython",
    "version": 3
   },
   "file_extension": ".py",
   "mimetype": "text/x-python",
   "name": "python",
   "nbconvert_exporter": "python",
   "pygments_lexer": "ipython3",
   "version": "3.6.13"
  }
 },
 "nbformat": 4,
 "nbformat_minor": 5
}
