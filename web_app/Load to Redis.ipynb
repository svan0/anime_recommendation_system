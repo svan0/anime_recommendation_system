{
 "cells": [
  {
   "cell_type": "code",
   "execution_count": 2,
   "id": "6de3431e-7ae7-4c28-9d81-4ee40cb3acc4",
   "metadata": {},
   "outputs": [
    {
     "name": "stdout",
     "output_type": "stream",
     "text": [
      "Collecting redis==4.1.4\n",
      "  Downloading redis-4.1.4-py3-none-any.whl (175 kB)\n",
      "\u001b[2K     \u001b[90m━━━━━━━━━━━━━━━━━━━━━━━━━━━━━━━━━━━━━━━\u001b[0m \u001b[32m175.8/175.8 KB\u001b[0m \u001b[31m6.0 MB/s\u001b[0m eta \u001b[36m0:00:00\u001b[0m\n",
      "\u001b[?25hRequirement already satisfied: packaging>=20.4 in /opt/conda/lib/python3.7/site-packages (from redis==4.1.4) (21.3)\n",
      "Collecting deprecated>=1.2.3\n",
      "  Downloading Deprecated-1.2.13-py2.py3-none-any.whl (9.6 kB)\n",
      "Requirement already satisfied: importlib-metadata>=1.0 in /opt/conda/lib/python3.7/site-packages (from redis==4.1.4) (4.11.1)\n",
      "Requirement already satisfied: wrapt<2,>=1.10 in /opt/conda/lib/python3.7/site-packages (from deprecated>=1.2.3->redis==4.1.4) (1.13.3)\n",
      "Requirement already satisfied: zipp>=0.5 in /opt/conda/lib/python3.7/site-packages (from importlib-metadata>=1.0->redis==4.1.4) (3.7.0)\n",
      "Requirement already satisfied: typing-extensions>=3.6.4 in /opt/conda/lib/python3.7/site-packages (from importlib-metadata>=1.0->redis==4.1.4) (4.1.1)\n",
      "Requirement already satisfied: pyparsing!=3.0.5,>=2.0.2 in /opt/conda/lib/python3.7/site-packages (from packaging>=20.4->redis==4.1.4) (3.0.7)\n",
      "Installing collected packages: deprecated, redis\n",
      "Successfully installed deprecated-1.2.13 redis-4.1.4\n"
     ]
    }
   ],
   "source": [
    "!pip install redis==4.1.4"
   ]
  },
  {
   "cell_type": "code",
   "execution_count": 1,
   "id": "64e6ebb3-7db7-498e-82e1-372af0af76e8",
   "metadata": {},
   "outputs": [],
   "source": [
    "from google.cloud import bigquery\n",
    "import redis\n",
    "from tqdm import tqdm"
   ]
  },
  {
   "cell_type": "code",
   "execution_count": 2,
   "id": "7eff67a6-aee8-4108-8d92-ab0377d0f054",
   "metadata": {},
   "outputs": [],
   "source": [
    "REDIS_INSTANCE_HOST = \"10.69.144.99\"\n",
    "REDIS_INSTANCE_PORT = 6379"
   ]
  },
  {
   "cell_type": "code",
   "execution_count": 3,
   "id": "e3cabaa6-4a7b-4631-acf2-c27e57ad649c",
   "metadata": {},
   "outputs": [
    {
     "data": {
      "text/plain": [
       "True"
      ]
     },
     "execution_count": 3,
     "metadata": {},
     "output_type": "execute_result"
    }
   ],
   "source": [
    "r = redis.Redis(\n",
    "    host=REDIS_INSTANCE_HOST,\n",
    "    port=REDIS_INSTANCE_PORT)\n",
    "r.flushdb()"
   ]
  },
  {
   "cell_type": "code",
   "execution_count": 4,
   "id": "27412fc8-6c3c-4772-9ede-1710d3a7540c",
   "metadata": {},
   "outputs": [],
   "source": [
    "ANIME_INFO_DATASET = \"processed_area\"\n",
    "ANIME_ANIME_DATASET = \"final_ml_pipelines_anime_anime_retrieval_true_20220304221756\"\n",
    "USER_ANIME_DATASET = \"final_ml_pipelines_user_anime_retrieval_true_list_ranking_true_20220304022950\""
   ]
  },
  {
   "cell_type": "code",
   "execution_count": 5,
   "id": "cdc50193-b54c-4398-9307-38e97d645891",
   "metadata": {},
   "outputs": [],
   "source": [
    "ANIME_INFO_QUERY = f\"SELECT anime_id, title AS name, anime_url AS url, main_pic AS img_url FROM `anime-rec-dev.{ANIME_INFO_DATASET}.anime`\"\n",
    "ANIME_ANIME_RECS_QUERY = f\"\"\"\n",
    "    WITH ranked_recs AS (\n",
    "        SELECT user_id, last_watched AS recent_watch, retrieved_anime_id AS anime_id, score, ROW_NUMBER() OVER (PARTITION BY user_id ORDER BY score DESC) AS rnk\n",
    "        FROM `anime-rec-dev.{ANIME_ANIME_DATASET}.anime_anime_user_anime_ranked`\n",
    "    )\n",
    "    SELECT user_id, recent_watch, anime_id\n",
    "    FROM ranked_recs\n",
    "    WHERE rnk <= 10\n",
    "    ORDER BY user_id, rnk\n",
    "\"\"\"\n",
    "USER_ANIME_RECS_QUERY = f\"\"\"\n",
    "    WITH ranked_recs AS (\n",
    "        SELECT user_id, anime_id, score, ROW_NUMBER() OVER (PARTITION BY user_id ORDER BY score DESC) AS rnk\n",
    "        FROM `anime-rec-dev.{USER_ANIME_DATASET}.user_anime_list_ranking_infer`\n",
    "    )\n",
    "    SELECT user_id, anime_id\n",
    "    FROM ranked_recs\n",
    "    WHERE rnk <= 20\n",
    "    ORDER BY user_id, rnk\n",
    "\"\"\""
   ]
  },
  {
   "cell_type": "code",
   "execution_count": 6,
   "id": "babadfec-b4b5-4ad7-b8eb-cea3961d2d8e",
   "metadata": {},
   "outputs": [],
   "source": [
    "def load_big_query_data(dataset_id, query):\n",
    "    client = bigquery.Client(project=\"anime-rec-dev\")\n",
    "    dataset_ref = client.dataset(dataset_id)\n",
    "    job_config = bigquery.QueryJobConfig()\n",
    "    query_job = client.query(query, job_config=job_config)\n",
    "    data = query_job.to_dataframe()\n",
    "    return data"
   ]
  },
  {
   "cell_type": "markdown",
   "id": "8b79642b-e9fe-41a4-a776-9ccfb58b4d81",
   "metadata": {},
   "source": [
    "## Anime info"
   ]
  },
  {
   "cell_type": "code",
   "execution_count": 7,
   "id": "c48075ab-0cb8-416a-926a-92f9ebfa5afa",
   "metadata": {},
   "outputs": [],
   "source": [
    "anime_info = load_big_query_data(ANIME_INFO_DATASET, ANIME_INFO_QUERY)"
   ]
  },
  {
   "cell_type": "code",
   "execution_count": null,
   "id": "4402b506",
   "metadata": {},
   "outputs": [],
   "source": [
    "anime_info.shape"
   ]
  },
  {
   "cell_type": "code",
   "execution_count": 8,
   "id": "0df9796d-c7f7-4a97-864a-0accf37f11da",
   "metadata": {},
   "outputs": [
    {
     "data": {
      "text/html": [
       "<div>\n",
       "<style scoped>\n",
       "    .dataframe tbody tr th:only-of-type {\n",
       "        vertical-align: middle;\n",
       "    }\n",
       "\n",
       "    .dataframe tbody tr th {\n",
       "        vertical-align: top;\n",
       "    }\n",
       "\n",
       "    .dataframe thead th {\n",
       "        text-align: right;\n",
       "    }\n",
       "</style>\n",
       "<table border=\"1\" class=\"dataframe\">\n",
       "  <thead>\n",
       "    <tr style=\"text-align: right;\">\n",
       "      <th></th>\n",
       "      <th>anime_id</th>\n",
       "      <th>name</th>\n",
       "      <th>url</th>\n",
       "      <th>img_url</th>\n",
       "    </tr>\n",
       "  </thead>\n",
       "  <tbody>\n",
       "    <tr>\n",
       "      <th>0</th>\n",
       "      <td>33341</td>\n",
       "      <td>Time Travel Shoujo: Mari Waka to 8-nin no Kaga...</td>\n",
       "      <td>https://myanimelist.net/anime/33341/Time_Trave...</td>\n",
       "      <td>https://cdn.myanimelist.net/images/anime/11/80...</td>\n",
       "    </tr>\n",
       "    <tr>\n",
       "      <th>1</th>\n",
       "      <td>38670</td>\n",
       "      <td>Actors: Songs Connection</td>\n",
       "      <td>https://myanimelist.net/anime/38670/Actors__So...</td>\n",
       "      <td>https://cdn.myanimelist.net/images/anime/1869/...</td>\n",
       "    </tr>\n",
       "    <tr>\n",
       "      <th>2</th>\n",
       "      <td>33036</td>\n",
       "      <td>Suki ni Naru Sono Shunkan wo.: Kokuhaku Jikkou...</td>\n",
       "      <td>https://myanimelist.net/anime/33036/Suki_ni_Na...</td>\n",
       "      <td>https://cdn.myanimelist.net/images/anime/4/817...</td>\n",
       "    </tr>\n",
       "    <tr>\n",
       "      <th>3</th>\n",
       "      <td>33037</td>\n",
       "      <td>Tsukiuta. The Animation</td>\n",
       "      <td>https://myanimelist.net/anime/33037/Tsukiuta_T...</td>\n",
       "      <td>https://cdn.myanimelist.net/images/anime/7/793...</td>\n",
       "    </tr>\n",
       "    <tr>\n",
       "      <th>4</th>\n",
       "      <td>6985</td>\n",
       "      <td>Buddha Saitan</td>\n",
       "      <td>https://myanimelist.net/anime/6985/Buddha_Saitan</td>\n",
       "      <td>https://cdn.myanimelist.net/images/anime/6/163...</td>\n",
       "    </tr>\n",
       "  </tbody>\n",
       "</table>\n",
       "</div>"
      ],
      "text/plain": [
       "  anime_id                                               name  \\\n",
       "0    33341  Time Travel Shoujo: Mari Waka to 8-nin no Kaga...   \n",
       "1    38670                           Actors: Songs Connection   \n",
       "2    33036  Suki ni Naru Sono Shunkan wo.: Kokuhaku Jikkou...   \n",
       "3    33037                            Tsukiuta. The Animation   \n",
       "4     6985                                      Buddha Saitan   \n",
       "\n",
       "                                                 url  \\\n",
       "0  https://myanimelist.net/anime/33341/Time_Trave...   \n",
       "1  https://myanimelist.net/anime/38670/Actors__So...   \n",
       "2  https://myanimelist.net/anime/33036/Suki_ni_Na...   \n",
       "3  https://myanimelist.net/anime/33037/Tsukiuta_T...   \n",
       "4   https://myanimelist.net/anime/6985/Buddha_Saitan   \n",
       "\n",
       "                                             img_url  \n",
       "0  https://cdn.myanimelist.net/images/anime/11/80...  \n",
       "1  https://cdn.myanimelist.net/images/anime/1869/...  \n",
       "2  https://cdn.myanimelist.net/images/anime/4/817...  \n",
       "3  https://cdn.myanimelist.net/images/anime/7/793...  \n",
       "4  https://cdn.myanimelist.net/images/anime/6/163...  "
      ]
     },
     "execution_count": 8,
     "metadata": {},
     "output_type": "execute_result"
    }
   ],
   "source": [
    "anime_info.head()"
   ]
  },
  {
   "cell_type": "code",
   "execution_count": 9,
   "id": "a3559e0e-d252-4da3-b34e-6f24e2b33127",
   "metadata": {},
   "outputs": [
    {
     "name": "stderr",
     "output_type": "stream",
     "text": [
      "9792it [00:11, 835.85it/s]\n"
     ]
    }
   ],
   "source": [
    "for _, row in tqdm(anime_info.iterrows()):\n",
    "    r.set(f\"{row['anime_id']}_name\", row['name'])\n",
    "    r.set(f\"{row['anime_id']}_url\", row['url'])\n",
    "    r.set(f\"{row['anime_id']}_img_url\", row['img_url'])"
   ]
  },
  {
   "cell_type": "code",
   "execution_count": 10,
   "id": "8da0c63e-bccc-441d-9224-53815e282885",
   "metadata": {},
   "outputs": [
    {
     "name": "stdout",
     "output_type": "stream",
     "text": [
      "b'Cowboy Bebop'\n",
      "b'https://myanimelist.net/anime/1/Cowboy_Bebop'\n",
      "b'https://cdn.myanimelist.net/images/anime/4/19644.jpg'\n"
     ]
    }
   ],
   "source": [
    "print(r.get(\"1_name\"))\n",
    "print(r.get(\"1_url\"))\n",
    "print(r.get(\"1_img_url\"))"
   ]
  },
  {
   "cell_type": "markdown",
   "id": "fa38aa78-2882-4784-adc5-78816e7b86e9",
   "metadata": {},
   "source": [
    "## Anime Anime rec"
   ]
  },
  {
   "cell_type": "code",
   "execution_count": 11,
   "id": "1752334c-1daa-4d23-b564-a931f334dd75",
   "metadata": {},
   "outputs": [],
   "source": [
    "anime_anime = load_big_query_data(ANIME_ANIME_DATASET, ANIME_ANIME_RECS_QUERY)"
   ]
  },
  {
   "cell_type": "code",
   "execution_count": null,
   "id": "a7cb33b5",
   "metadata": {},
   "outputs": [],
   "source": [
    "anime_anime.shape"
   ]
  },
  {
   "cell_type": "code",
   "execution_count": 12,
   "id": "9461b7e2-3cca-4c8e-a38b-88d90584b196",
   "metadata": {},
   "outputs": [
    {
     "data": {
      "text/html": [
       "<div>\n",
       "<style scoped>\n",
       "    .dataframe tbody tr th:only-of-type {\n",
       "        vertical-align: middle;\n",
       "    }\n",
       "\n",
       "    .dataframe tbody tr th {\n",
       "        vertical-align: top;\n",
       "    }\n",
       "\n",
       "    .dataframe thead th {\n",
       "        text-align: right;\n",
       "    }\n",
       "</style>\n",
       "<table border=\"1\" class=\"dataframe\">\n",
       "  <thead>\n",
       "    <tr style=\"text-align: right;\">\n",
       "      <th></th>\n",
       "      <th>user_id</th>\n",
       "      <th>recent_watch</th>\n",
       "      <th>anime_id</th>\n",
       "    </tr>\n",
       "  </thead>\n",
       "  <tbody>\n",
       "    <tr>\n",
       "      <th>0</th>\n",
       "      <td>---Adina---</td>\n",
       "      <td>170</td>\n",
       "      <td>245</td>\n",
       "    </tr>\n",
       "    <tr>\n",
       "      <th>1</th>\n",
       "      <td>---Adina---</td>\n",
       "      <td>170</td>\n",
       "      <td>22</td>\n",
       "    </tr>\n",
       "    <tr>\n",
       "      <th>2</th>\n",
       "      <td>---Adina---</td>\n",
       "      <td>170</td>\n",
       "      <td>114</td>\n",
       "    </tr>\n",
       "    <tr>\n",
       "      <th>3</th>\n",
       "      <td>---Adina---</td>\n",
       "      <td>170</td>\n",
       "      <td>265</td>\n",
       "    </tr>\n",
       "    <tr>\n",
       "      <th>4</th>\n",
       "      <td>---Adina---</td>\n",
       "      <td>170</td>\n",
       "      <td>12069</td>\n",
       "    </tr>\n",
       "  </tbody>\n",
       "</table>\n",
       "</div>"
      ],
      "text/plain": [
       "       user_id recent_watch anime_id\n",
       "0  ---Adina---          170      245\n",
       "1  ---Adina---          170       22\n",
       "2  ---Adina---          170      114\n",
       "3  ---Adina---          170      265\n",
       "4  ---Adina---          170    12069"
      ]
     },
     "execution_count": 12,
     "metadata": {},
     "output_type": "execute_result"
    }
   ],
   "source": [
    "anime_anime.head()"
   ]
  },
  {
   "cell_type": "code",
   "execution_count": null,
   "id": "5310d112-e936-4945-8b76-005b9a449bac",
   "metadata": {},
   "outputs": [
    {
     "name": "stderr",
     "output_type": "stream",
     "text": [
      "243722it [03:53, 1134.88it/s]"
     ]
    }
   ],
   "source": [
    "for _, row in tqdm(anime_anime.iterrows()):\n",
    "    r.set(f\"{row['user_id']}_recent_watch\", row['recent_watch'])\n",
    "    r.rpush(f\"{row['user_id']}_anime_anime_recs\", row['anime_id'])"
   ]
  },
  {
   "cell_type": "code",
   "execution_count": 22,
   "id": "722e55e7-84f4-41dc-8191-a47a5c33f0be",
   "metadata": {},
   "outputs": [
    {
     "name": "stdout",
     "output_type": "stream",
     "text": [
      "b'170'\n",
      "[b'245', b'22', b'114', b'265', b'12069', b'2403', b'558', b'11771', b'196', b'627']\n"
     ]
    }
   ],
   "source": [
    "print(r.get(\"---Adina---_recent_watch\"))\n",
    "print(r.lrange(\"---Adina---_anime_anime_recs\", 0, -1))"
   ]
  },
  {
   "cell_type": "markdown",
   "id": "cb445c04-6915-492b-9d41-acbeb64c0fca",
   "metadata": {},
   "source": [
    "## User Anime rec"
   ]
  },
  {
   "cell_type": "code",
   "execution_count": null,
   "id": "39e11591-b225-401d-a88a-ebe450ddfdea",
   "metadata": {},
   "outputs": [],
   "source": [
    "user_anime = load_big_query_data(USER_ANIME_DATASET, USER_ANIME_RECS_QUERY)"
   ]
  },
  {
   "cell_type": "code",
   "execution_count": null,
   "id": "f41732af",
   "metadata": {},
   "outputs": [],
   "source": [
    "user_anime.shape"
   ]
  },
  {
   "cell_type": "code",
   "execution_count": null,
   "id": "7d633ed1-1bc3-4d79-8b54-87347c06bf33",
   "metadata": {},
   "outputs": [],
   "source": [
    "user_anime.head()"
   ]
  },
  {
   "cell_type": "code",
   "execution_count": null,
   "id": "e15e1eff-e084-479f-9fe2-7aa30f726b1e",
   "metadata": {},
   "outputs": [],
   "source": [
    "for _, row in tqdm(user_anime.iterrows()):\n",
    "    r.rpush(f\"{row['user_id']}_user_anime_recs\", row['anime_id'])"
   ]
  },
  {
   "cell_type": "code",
   "execution_count": null,
   "id": "307f65d5-58ab-400d-bf2c-884c45d6b287",
   "metadata": {},
   "outputs": [],
   "source": [
    "print(r.lrange(\"svanO_user_anime_recs\", 0, -1))"
   ]
  }
 ],
 "metadata": {
  "environment": {
   "kernel": "python3",
   "name": "common-cpu.m90",
   "type": "gcloud",
   "uri": "gcr.io/deeplearning-platform-release/base-cpu:m90"
  },
  "kernelspec": {
   "display_name": "Python 3",
   "language": "python",
   "name": "python3"
  },
  "language_info": {
   "codemirror_mode": {
    "name": "ipython",
    "version": 3
   },
   "file_extension": ".py",
   "mimetype": "text/x-python",
   "name": "python",
   "nbconvert_exporter": "python",
   "pygments_lexer": "ipython3",
   "version": "3.7.12"
  }
 },
 "nbformat": 4,
 "nbformat_minor": 5
}
